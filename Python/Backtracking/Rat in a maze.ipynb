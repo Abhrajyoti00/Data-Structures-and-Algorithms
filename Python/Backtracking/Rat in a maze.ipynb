{
 "metadata": {
  "language_info": {
   "codemirror_mode": {
    "name": "ipython",
    "version": 3
   },
   "file_extension": ".py",
   "mimetype": "text/x-python",
   "name": "python",
   "nbconvert_exporter": "python",
   "pygments_lexer": "ipython3",
   "version": "3.8.3-final"
  },
  "orig_nbformat": 2,
  "kernelspec": {
   "name": "python3",
   "display_name": "Python 3"
  }
 },
 "nbformat": 4,
 "nbformat_minor": 2,
 "cells": [
  {
   "cell_type": "code",
   "execution_count": 8,
   "metadata": {},
   "outputs": [
    {
     "output_type": "stream",
     "name": "stdout",
     "text": [
      "[[1, 0, 0, 0], [1, 0, 0, 0], [1, 0, 0, 0], [1, 1, 1, 1]]\n[[1, 0, 0, 0], [1, 0, 0, 0], [1, 1, 0, 0], [0, 1, 1, 1]]\n[[1, 1, 1, 0], [0, 0, 1, 1], [0, 0, 0, 1], [0, 0, 0, 1]]\n[[1, 1, 1, 1], [0, 0, 0, 1], [0, 0, 0, 1], [0, 0, 0, 1]]\n"
     ]
    }
   ],
   "source": [
    "def printPathHelper(x,y, maze, n, solution):\n",
    "\n",
    "    if x == n-1 and y == n-1:\n",
    "        solution[x][y] = 1\n",
    "        print(solution)\n",
    "        return\n",
    "\n",
    "    if x<0 or y<0 or x>=n or y>=n or maze[x][y] == 0 or solution[x][y] == 1:\n",
    "        return\n",
    "\n",
    "    solution[x][y] = 1\n",
    "    printPathHelper(x+1,y,maze,n,solution)\n",
    "    printPathHelper(x,y+1,maze,n,solution)\n",
    "    printPathHelper(x-1,y,maze,n,solution)\n",
    "    printPathHelper(x,y-1,maze,n,solution)\n",
    "    solution[x][y] = 0  # Because again we need to explore all the paths with another values\n",
    "    return\n",
    "\n",
    "    \n",
    "\n",
    "\n",
    "def printPath(maze):\n",
    "    n = len(maze)\n",
    "    solution = [[ 0 for j in range(n)] for i in range(n)]\n",
    "    printPathHelper(0,0,maze,n,solution)\n",
    "\n",
    "\n",
    "n = int(input())\n",
    "maze = []\n",
    "for i in range(n):\n",
    "    row = [int(ele) for ele in input().split()]\n",
    "    maze.append(row)\n",
    "printPath(maze)"
   ]
  },
  {
   "source": [
    "## Writing the code by my own\n"
   ],
   "cell_type": "markdown",
   "metadata": {}
  },
  {
   "cell_type": "code",
   "execution_count": 4,
   "metadata": {},
   "outputs": [
    {
     "output_type": "stream",
     "name": "stdout",
     "text": [
      "[[1, 0, 0, 0], [1, 0, 0, 0], [1, 0, 0, 0], [1, 1, 1, 1]]\n[[1, 0, 0, 0], [1, 0, 0, 0], [1, 1, 0, 0], [0, 1, 1, 1]]\n[[1, 1, 1, 0], [0, 0, 1, 1], [0, 0, 0, 1], [0, 0, 0, 1]]\n[[1, 1, 1, 1], [0, 0, 0, 1], [0, 0, 0, 1], [0, 0, 0, 1]]\n"
     ]
    }
   ],
   "source": [
    "def printPathsHelper(maze, solutions, x, y):\n",
    "    if x == n-1 and y == n-1:\n",
    "        solutions[x][y] = 1\n",
    "        print(solutions)\n",
    "        return\n",
    "    if x<0 or y<0 or x>=n or y>=n or solutions[x][y] == 1 or maze[x][y] == 0:\n",
    "        return\n",
    "     \n",
    "    solutions[x][y] = 1\n",
    "    printPathsHelper(maze, solutions, x+1, y)\n",
    "    printPathsHelper(maze, solutions, x-1, y)\n",
    "    printPathsHelper(maze, solutions, x, y+1)\n",
    "    printPathsHelper(maze, solutions, x, y-1)\n",
    "    solutions[x][y] = 0\n",
    "    return\n",
    "\n",
    "\n",
    "def printPaths(maze):\n",
    "    n = len(maze)\n",
    "    solutions = [[0 for i in range(n)] for j in range(n)]\n",
    "    printPathsHelper(maze, solutions, 0, 0)\n",
    "\n",
    "\n",
    "\n",
    "n = int(input())\n",
    "maze = []\n",
    "for i in range(n):\n",
    "    row = [int(ele) for ele in input().split()]\n",
    "    maze.append(row)\n",
    "printPaths(maze)"
   ]
  },
  {
   "cell_type": "code",
   "execution_count": null,
   "metadata": {},
   "outputs": [],
   "source": []
  }
 ]
}