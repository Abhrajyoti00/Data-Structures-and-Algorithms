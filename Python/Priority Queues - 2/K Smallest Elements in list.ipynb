{
 "metadata": {
  "language_info": {
   "codemirror_mode": {
    "name": "ipython",
    "version": 3
   },
   "file_extension": ".py",
   "mimetype": "text/x-python",
   "name": "python",
   "nbconvert_exporter": "python",
   "pygments_lexer": "ipython3",
   "version": "3.8.3-final"
  },
  "orig_nbformat": 2,
  "kernelspec": {
   "name": "python3",
   "display_name": "Python 3"
  }
 },
 "nbformat": 4,
 "nbformat_minor": 2,
 "cells": [
  {
   "cell_type": "code",
   "execution_count": 1,
   "metadata": {},
   "outputs": [],
   "source": [
    "# Arr = [10,8,7,2,6,5,3,1,11]\n",
    "# k smallest : k =4\n",
    "# Ans = 1,2,3,5"
   ]
  },
  {
   "source": [
    "# Basic Approach  :-\n",
    "## Sort the Array and taake out k elements  (O (nlogn))\n",
    "\n",
    "# Efficient Approach :-\n",
    "First assume first k ements to be the ans... then slowly replace the next element if it is smaller than atleast oe element with the largest element\n",
    "\n",
    "\n",
    "\n"
   ],
   "cell_type": "markdown",
   "metadata": {}
  },
  {
   "cell_type": "code",
   "execution_count": 7,
   "metadata": {},
   "outputs": [
    {
     "output_type": "stream",
     "name": "stdout",
     "text": [
      "[10, 8, 7, 2]\nele  6\narr1  [10, 8, 7, 2]\nele  5\narr1  [8, 6, 7, 2]\nele  3\narr1  [7, 6, 5, 2]\nele  1\narr1  [6, 3, 5, 2]\nele  11\narr1  [5, 3, 1, 2]\n[5, 3, 1, 2]\n"
     ]
    }
   ],
   "source": [
    "import heapq\n",
    "arr = [10,8,7,2,6,5,3,1,11]\n",
    "k = 4\n",
    "arr1 = arr[:k]\n",
    "heapq._heapify_max(arr1)\n",
    "print(arr1)\n",
    "for ele in arr[4:]:\n",
    "    print('ele ',ele)\n",
    "    print('arr1 ', arr1)\n",
    "    if ele<arr1[0]:\n",
    "        heapq._heapreplace_max(arr1,ele)\n",
    "print(arr1)"
   ]
  },
  {
   "source": [
    "# Code for Codezen's Question\n"
   ],
   "cell_type": "markdown",
   "metadata": {}
  },
  {
   "cell_type": "code",
   "execution_count": 9,
   "metadata": {},
   "outputs": [
    {
     "output_type": "stream",
     "name": "stdout",
     "text": [
      "2\n1\n"
     ]
    }
   ],
   "source": [
    "\n",
    "import heapq\n",
    "def kSmallest(arr, k):\n",
    "    arr1 = arr[:k]\n",
    "    heapq._heapify_max(arr1)\n",
    "    for ele in arr[k:]:\n",
    "        if ele<arr1[0]:\n",
    "            heapq._heapreplace_max(arr1,ele)\n",
    "    return arr1\n",
    "\n",
    "# Main\n",
    "n=int(input())\n",
    "lst=list(int(i) for i in input().strip().split(' '))\n",
    "k=int(input())\n",
    "ans=kSmallest(lst, k)\n",
    "for ele in ans:\n",
    "    print(ele)"
   ]
  },
  {
   "cell_type": "code",
   "execution_count": null,
   "metadata": {},
   "outputs": [],
   "source": []
  }
 ]
}