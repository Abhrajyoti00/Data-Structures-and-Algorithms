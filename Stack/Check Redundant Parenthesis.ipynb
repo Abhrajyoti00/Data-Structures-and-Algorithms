{
 "cells": [
  {
   "cell_type": "code",
   "execution_count": 1,
   "metadata": {},
   "outputs": [
    {
     "name": "stdout",
     "output_type": "stream",
     "text": [
      "false\n"
     ]
    }
   ],
   "source": [
    "\n",
    "from sys import stdin\n",
    "\n",
    "def checkRedundantBrackets(expression) :\n",
    "    s = []\n",
    "    c = 0\n",
    "    for exp in expression:\n",
    "        if exp!=')':\n",
    "            s.append(exp)\n",
    "        if exp == ')':\n",
    "            if(not('+' in s or '-'in s or '*' in s or '/' in s)):\n",
    "                    return True\n",
    "            while s[-1]!='(':\n",
    "                s.pop()\n",
    "                c+=1\n",
    "            if c == 0 :\n",
    "                return True\n",
    "            if s[-1] == '(':\n",
    "                s.pop()\n",
    "                c=0\n",
    "    \n",
    "    return False\n",
    "                \n",
    "\n",
    "#main\n",
    "expression = stdin.readline().strip()\n",
    "\n",
    "if checkRedundantBrackets(expression) :\n",
    "\tprint(\"true\")\n",
    "\n",
    "else :\n",
    "\tprint(\"false\")\n"
   ]
  },
  {
   "cell_type": "code",
   "execution_count": null,
   "metadata": {},
   "outputs": [],
   "source": []
  }
 ],
 "metadata": {
  "kernelspec": {
   "display_name": "Python 3",
   "language": "python",
   "name": "python3"
  },
  "language_info": {
   "codemirror_mode": {
    "name": "ipython",
    "version": 3
   },
   "file_extension": ".py",
   "mimetype": "text/x-python",
   "name": "python",
   "nbconvert_exporter": "python",
   "pygments_lexer": "ipython3",
   "version": "3.8.2"
  }
 },
 "nbformat": 4,
 "nbformat_minor": 4
}
