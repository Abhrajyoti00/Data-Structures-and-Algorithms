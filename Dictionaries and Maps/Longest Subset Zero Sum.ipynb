{
 "metadata": {
  "language_info": {
   "codemirror_mode": {
    "name": "ipython",
    "version": 3
   },
   "file_extension": ".py",
   "mimetype": "text/x-python",
   "name": "python",
   "nbconvert_exporter": "python",
   "pygments_lexer": "ipython3",
   "version": "3.8.3-final"
  },
  "orig_nbformat": 2,
  "kernelspec": {
   "name": "python3",
   "display_name": "Python 3"
  }
 },
 "nbformat": 4,
 "nbformat_minor": 2,
 "cells": [
  {
   "source": [
    "Logic is sum till an index if gets repeated at a later index, that means between those indices, the sum became zero"
   ],
   "cell_type": "markdown",
   "metadata": {}
  },
  {
   "cell_type": "code",
   "execution_count": 12,
   "metadata": {},
   "outputs": [
    {
     "output_type": "stream",
     "name": "stdout",
     "text": [
      "5\n"
     ]
    }
   ],
   "source": [
    "def subsetSum(l):\n",
    "    d = {}\n",
    "    c = 0\n",
    "    max_len = 0\n",
    "    len = 0\n",
    "    sum_till_index = 0 # key\n",
    "    for num in l:\n",
    "        # print(sum_till_index)\n",
    "        sum_till_index+= num\n",
    "        if sum_till_index == 0:\n",
    "            len = c+1\n",
    "        if d.get(sum_till_index) is not None:\n",
    "            len = c-d[sum_till_index]\n",
    "        else:\n",
    "            d[sum_till_index] = c\n",
    "        c+=1\n",
    "        # print(len)\n",
    "        max_len = max(max_len, len)\n",
    "    return max_len\n",
    "\n",
    "\n",
    "n=int(input())\n",
    "l=list(int(i) for i in input().strip().split(' '))\n",
    "finalLen= subsetSum(l)\n",
    "print(finalLen)"
   ]
  },
  {
   "cell_type": "code",
   "execution_count": null,
   "metadata": {},
   "outputs": [],
   "source": [
    "# 10\n",
    "#  95 -97 -387 -435 -5 -70 897 127 23 284"
   ]
  }
 ]
}