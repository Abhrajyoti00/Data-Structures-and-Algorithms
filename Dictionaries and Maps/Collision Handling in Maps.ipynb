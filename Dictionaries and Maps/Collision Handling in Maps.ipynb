{
 "cells": [
  {
   "cell_type": "markdown",
   "metadata": {},
   "source": [
    "# Collision Handling\n",
    "\n",
    "\n",
    "\n",
    "1) Closed Hashing\n",
    "2) Open Addressing\n",
    "\n"
   ]
  },
  {
   "cell_type": "markdown",
   "metadata": {},
   "source": [
    "## 1) Closed Hashing\n",
    "If the index values come out to be same, we will store the valiues at the same position using linked list.\n",
    "Also known as separate chaining.\n",
    "\n"
   ]
  },
  {
   "cell_type": "markdown",
   "metadata": {},
   "source": [
    "## 2) Open Addressing\n",
    "\n",
    "Says if two Addresses appear then they will be stored at different places.\n",
    "\n",
    "\n",
    "\n",
    "hi(a) = h.f(a) + f(i); where f(0) = 0\n",
    "\n",
    "\n",
    "1) Linear Probing -->   f(i) = i\n",
    "\n",
    "2) Quadratic Probing --> f(i) = i^2\n",
    "\n",
    "3) Double Hashing -->  f(i) = i.h'(i)   # Some other hash function.\n",
    "\n"
   ]
  },
  {
   "source": [
    "We will be using Separate Chaining"
   ],
   "cell_type": "markdown",
   "metadata": {}
  },
  {
   "cell_type": "code",
   "execution_count": null,
   "metadata": {},
   "outputs": [],
   "source": []
  }
 ],
 "metadata": {
  "kernelspec": {
   "display_name": "Python 3",
   "language": "python",
   "name": "python3"
  },
  "language_info": {
   "codemirror_mode": {
    "name": "ipython",
    "version": 3
   },
   "file_extension": ".py",
   "mimetype": "text/x-python",
   "name": "python",
   "nbconvert_exporter": "python",
   "pygments_lexer": "ipython3",
   "version": "3.8.3"
  }
 },
 "nbformat": 4,
 "nbformat_minor": 4
}