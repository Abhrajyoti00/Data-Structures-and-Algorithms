{
 "metadata": {
  "language_info": {
   "codemirror_mode": {
    "name": "ipython",
    "version": 3
   },
   "file_extension": ".py",
   "mimetype": "text/x-python",
   "name": "python",
   "nbconvert_exporter": "python",
   "pygments_lexer": "ipython3",
   "version": "3.8.3-final"
  },
  "orig_nbformat": 2,
  "kernelspec": {
   "name": "python3",
   "display_name": "Python 3"
  }
 },
 "nbformat": 4,
 "nbformat_minor": 2,
 "cells": [
  {
   "source": [
    "# Return All Subsequences\n",
    "\n",
    "Return an array of all the Subsequences of a string...\n",
    "\n",
    "Subsequence = Left to right, may not be contiguous\n",
    "\n",
    "n length string = 2^n Subsequences.    Eg: \"abc\" : '', 'a', 'b', 'c', 'ab', 'bc', 'ac', 'abc'"
   ],
   "cell_type": "markdown",
   "metadata": {}
  },
  {
   "cell_type": "code",
   "execution_count": 19,
   "metadata": {
    "tags": []
   },
   "outputs": [
    {
     "output_type": "stream",
     "name": "stdout",
     "text": [
      "['', 'i', 't', 'ti', 'o', 'oi', 'ot', 'oti', 'y', 'yi', 'yt', 'yti', 'yo', 'yoi', 'yot', 'yoti', 'j', 'ji', 'jt', 'jti', 'jo', 'joi', 'jot', 'joti', 'jy', 'jyi', 'jyt', 'jyti', 'jyo', 'jyoi', 'jyot', 'jyoti', 'a', 'ai', 'at', 'ati', 'ao', 'aoi', 'aot', 'aoti', 'ay', 'ayi', 'ayt', 'ayti', 'ayo', 'ayoi', 'ayot', 'ayoti', 'aj', 'aji', 'ajt', 'ajti', 'ajo', 'ajoi', 'ajot', 'ajoti', 'ajy', 'ajyi', 'ajyt', 'ajyti', 'ajyo', 'ajyoi', 'ajyot', 'ajyoti', 'r', 'ri', 'rt', 'rti', 'ro', 'roi', 'rot', 'roti', 'ry', 'ryi', 'ryt', 'ryti', 'ryo', 'ryoi', 'ryot', 'ryoti', 'rj', 'rji', 'rjt', 'rjti', 'rjo', 'rjoi', 'rjot', 'rjoti', 'rjy', 'rjyi', 'rjyt', 'rjyti', 'rjyo', 'rjyoi', 'rjyot', 'rjyoti', 'ra', 'rai', 'rat', 'rati', 'rao', 'raoi', 'raot', 'raoti', 'ray', 'rayi', 'rayt', 'rayti', 'rayo', 'rayoi', 'rayot', 'rayoti', 'raj', 'raji', 'rajt', 'rajti', 'rajo', 'rajoi', 'rajot', 'rajoti', 'rajy', 'rajyi', 'rajyt', 'rajyti', 'rajyo', 'rajyoi', 'rajyot', 'rajyoti', 'h', 'hi', 'ht', 'hti', 'ho', 'hoi', 'hot', 'hoti', 'hy', 'hyi', 'hyt', 'hyti', 'hyo', 'hyoi', 'hyot', 'hyoti', 'hj', 'hji', 'hjt', 'hjti', 'hjo', 'hjoi', 'hjot', 'hjoti', 'hjy', 'hjyi', 'hjyt', 'hjyti', 'hjyo', 'hjyoi', 'hjyot', 'hjyoti', 'ha', 'hai', 'hat', 'hati', 'hao', 'haoi', 'haot', 'haoti', 'hay', 'hayi', 'hayt', 'hayti', 'hayo', 'hayoi', 'hayot', 'hayoti', 'haj', 'haji', 'hajt', 'hajti', 'hajo', 'hajoi', 'hajot', 'hajoti', 'hajy', 'hajyi', 'hajyt', 'hajyti', 'hajyo', 'hajyoi', 'hajyot', 'hajyoti', 'hr', 'hri', 'hrt', 'hrti', 'hro', 'hroi', 'hrot', 'hroti', 'hry', 'hryi', 'hryt', 'hryti', 'hryo', 'hryoi', 'hryot', 'hryoti', 'hrj', 'hrji', 'hrjt', 'hrjti', 'hrjo', 'hrjoi', 'hrjot', 'hrjoti', 'hrjy', 'hrjyi', 'hrjyt', 'hrjyti', 'hrjyo', 'hrjyoi', 'hrjyot', 'hrjyoti', 'hra', 'hrai', 'hrat', 'hrati', 'hrao', 'hraoi', 'hraot', 'hraoti', 'hray', 'hrayi', 'hrayt', 'hrayti', 'hrayo', 'hrayoi', 'hrayot', 'hrayoti', 'hraj', 'hraji', 'hrajt', 'hrajti', 'hrajo', 'hrajoi', 'hrajot', 'hrajoti', 'hrajy', 'hrajyi', 'hrajyt', 'hrajyti', 'hrajyo', 'hrajyoi', 'hrajyot', 'hrajyoti', 'b', 'bi', 'bt', 'bti', 'bo', 'boi', 'bot', 'boti', 'by', 'byi', 'byt', 'byti', 'byo', 'byoi', 'byot', 'byoti', 'bj', 'bji', 'bjt', 'bjti', 'bjo', 'bjoi', 'bjot', 'bjoti', 'bjy', 'bjyi', 'bjyt', 'bjyti', 'bjyo', 'bjyoi', 'bjyot', 'bjyoti', 'ba', 'bai', 'bat', 'bati', 'bao', 'baoi', 'baot', 'baoti', 'bay', 'bayi', 'bayt', 'bayti', 'bayo', 'bayoi', 'bayot', 'bayoti', 'baj', 'baji', 'bajt', 'bajti', 'bajo', 'bajoi', 'bajot', 'bajoti', 'bajy', 'bajyi', 'bajyt', 'bajyti', 'bajyo', 'bajyoi', 'bajyot', 'bajyoti', 'br', 'bri', 'brt', 'brti', 'bro', 'broi', 'brot', 'broti', 'bry', 'bryi', 'bryt', 'bryti', 'bryo', 'bryoi', 'bryot', 'bryoti', 'brj', 'brji', 'brjt', 'brjti', 'brjo', 'brjoi', 'brjot', 'brjoti', 'brjy', 'brjyi', 'brjyt', 'brjyti', 'brjyo', 'brjyoi', 'brjyot', 'brjyoti', 'bra', 'brai', 'brat', 'brati', 'brao', 'braoi', 'braot', 'braoti', 'bray', 'brayi', 'brayt', 'brayti', 'brayo', 'brayoi', 'brayot', 'brayoti', 'braj', 'braji', 'brajt', 'brajti', 'brajo', 'brajoi', 'brajot', 'brajoti', 'brajy', 'brajyi', 'brajyt', 'brajyti', 'brajyo', 'brajyoi', 'brajyot', 'brajyoti', 'bh', 'bhi', 'bht', 'bhti', 'bho', 'bhoi', 'bhot', 'bhoti', 'bhy', 'bhyi', 'bhyt', 'bhyti', 'bhyo', 'bhyoi', 'bhyot', 'bhyoti', 'bhj', 'bhji', 'bhjt', 'bhjti', 'bhjo', 'bhjoi', 'bhjot', 'bhjoti', 'bhjy', 'bhjyi', 'bhjyt', 'bhjyti', 'bhjyo', 'bhjyoi', 'bhjyot', 'bhjyoti', 'bha', 'bhai', 'bhat', 'bhati', 'bhao', 'bhaoi', 'bhaot', 'bhaoti', 'bhay', 'bhayi', 'bhayt', 'bhayti', 'bhayo', 'bhayoi', 'bhayot', 'bhayoti', 'bhaj', 'bhaji', 'bhajt', 'bhajti', 'bhajo', 'bhajoi', 'bhajot', 'bhajoti', 'bhajy', 'bhajyi', 'bhajyt', 'bhajyti', 'bhajyo', 'bhajyoi', 'bhajyot', 'bhajyoti', 'bhr', 'bhri', 'bhrt', 'bhrti', 'bhro', 'bhroi', 'bhrot', 'bhroti', 'bhry', 'bhryi', 'bhryt', 'bhryti', 'bhryo', 'bhryoi', 'bhryot', 'bhryoti', 'bhrj', 'bhrji', 'bhrjt', 'bhrjti', 'bhrjo', 'bhrjoi', 'bhrjot', 'bhrjoti', 'bhrjy', 'bhrjyi', 'bhrjyt', 'bhrjyti', 'bhrjyo', 'bhrjyoi', 'bhrjyot', 'bhrjyoti', 'bhra', 'bhrai', 'bhrat', 'bhrati', 'bhrao', 'bhraoi', 'bhraot', 'bhraoti', 'bhray', 'bhrayi', 'bhrayt', 'bhrayti', 'bhrayo', 'bhrayoi', 'bhrayot', 'bhrayoti', 'bhraj', 'bhraji', 'bhrajt', 'bhrajti', 'bhrajo', 'bhrajoi', 'bhrajot', 'bhrajoti', 'bhrajy', 'bhrajyi', 'bhrajyt', 'bhrajyti', 'bhrajyo', 'bhrajyoi', 'bhrajyot', 'bhrajyoti', 'a', 'ai', 'at', 'ati', 'ao', 'aoi', 'aot', 'aoti', 'ay', 'ayi', 'ayt', 'ayti', 'ayo', 'ayoi', 'ayot', 'ayoti', 'aj', 'aji', 'ajt', 'ajti', 'ajo', 'ajoi', 'ajot', 'ajoti', 'ajy', 'ajyi', 'ajyt', 'ajyti', 'ajyo', 'ajyoi', 'ajyot', 'ajyoti', 'aa', 'aai', 'aat', 'aati', 'aao', 'aaoi', 'aaot', 'aaoti', 'aay', 'aayi', 'aayt', 'aayti', 'aayo', 'aayoi', 'aayot', 'aayoti', 'aaj', 'aaji', 'aajt', 'aajti', 'aajo', 'aajoi', 'aajot', 'aajoti', 'aajy', 'aajyi', 'aajyt', 'aajyti', 'aajyo', 'aajyoi', 'aajyot', 'aajyoti', 'ar', 'ari', 'art', 'arti', 'aro', 'aroi', 'arot', 'aroti', 'ary', 'aryi', 'aryt', 'aryti', 'aryo', 'aryoi', 'aryot', 'aryoti', 'arj', 'arji', 'arjt', 'arjti', 'arjo', 'arjoi', 'arjot', 'arjoti', 'arjy', 'arjyi', 'arjyt', 'arjyti', 'arjyo', 'arjyoi', 'arjyot', 'arjyoti', 'ara', 'arai', 'arat', 'arati', 'arao', 'araoi', 'araot', 'araoti', 'aray', 'arayi', 'arayt', 'arayti', 'arayo', 'arayoi', 'arayot', 'arayoti', 'araj', 'araji', 'arajt', 'arajti', 'arajo', 'arajoi', 'arajot', 'arajoti', 'arajy', 'arajyi', 'arajyt', 'arajyti', 'arajyo', 'arajyoi', 'arajyot', 'arajyoti', 'ah', 'ahi', 'aht', 'ahti', 'aho', 'ahoi', 'ahot', 'ahoti', 'ahy', 'ahyi', 'ahyt', 'ahyti', 'ahyo', 'ahyoi', 'ahyot', 'ahyoti', 'ahj', 'ahji', 'ahjt', 'ahjti', 'ahjo', 'ahjoi', 'ahjot', 'ahjoti', 'ahjy', 'ahjyi', 'ahjyt', 'ahjyti', 'ahjyo', 'ahjyoi', 'ahjyot', 'ahjyoti', 'aha', 'ahai', 'ahat', 'ahati', 'ahao', 'ahaoi', 'ahaot', 'ahaoti', 'ahay', 'ahayi', 'ahayt', 'ahayti', 'ahayo', 'ahayoi', 'ahayot', 'ahayoti', 'ahaj', 'ahaji', 'ahajt', 'ahajti', 'ahajo', 'ahajoi', 'ahajot', 'ahajoti', 'ahajy', 'ahajyi', 'ahajyt', 'ahajyti', 'ahajyo', 'ahajyoi', 'ahajyot', 'ahajyoti', 'ahr', 'ahri', 'ahrt', 'ahrti', 'ahro', 'ahroi', 'ahrot', 'ahroti', 'ahry', 'ahryi', 'ahryt', 'ahryti', 'ahryo', 'ahryoi', 'ahryot', 'ahryoti', 'ahrj', 'ahrji', 'ahrjt', 'ahrjti', 'ahrjo', 'ahrjoi', 'ahrjot', 'ahrjoti', 'ahrjy', 'ahrjyi', 'ahrjyt', 'ahrjyti', 'ahrjyo', 'ahrjyoi', 'ahrjyot', 'ahrjyoti', 'ahra', 'ahrai', 'ahrat', 'ahrati', 'ahrao', 'ahraoi', 'ahraot', 'ahraoti', 'ahray', 'ahrayi', 'ahrayt', 'ahrayti', 'ahrayo', 'ahrayoi', 'ahrayot', 'ahrayoti', 'ahraj', 'ahraji', 'ahrajt', 'ahrajti', 'ahrajo', 'ahrajoi', 'ahrajot', 'ahrajoti', 'ahrajy', 'ahrajyi', 'ahrajyt', 'ahrajyti', 'ahrajyo', 'ahrajyoi', 'ahrajyot', 'ahrajyoti', 'ab', 'abi', 'abt', 'abti', 'abo', 'aboi', 'abot', 'aboti', 'aby', 'abyi', 'abyt', 'abyti', 'abyo', 'abyoi', 'abyot', 'abyoti', 'abj', 'abji', 'abjt', 'abjti', 'abjo', 'abjoi', 'abjot', 'abjoti', 'abjy', 'abjyi', 'abjyt', 'abjyti', 'abjyo', 'abjyoi', 'abjyot', 'abjyoti', 'aba', 'abai', 'abat', 'abati', 'abao', 'abaoi', 'abaot', 'abaoti', 'abay', 'abayi', 'abayt', 'abayti', 'abayo', 'abayoi', 'abayot', 'abayoti', 'abaj', 'abaji', 'abajt', 'abajti', 'abajo', 'abajoi', 'abajot', 'abajoti', 'abajy', 'abajyi', 'abajyt', 'abajyti', 'abajyo', 'abajyoi', 'abajyot', 'abajyoti', 'abr', 'abri', 'abrt', 'abrti', 'abro', 'abroi', 'abrot', 'abroti', 'abry', 'abryi', 'abryt', 'abryti', 'abryo', 'abryoi', 'abryot', 'abryoti', 'abrj', 'abrji', 'abrjt', 'abrjti', 'abrjo', 'abrjoi', 'abrjot', 'abrjoti', 'abrjy', 'abrjyi', 'abrjyt', 'abrjyti', 'abrjyo', 'abrjyoi', 'abrjyot', 'abrjyoti', 'abra', 'abrai', 'abrat', 'abrati', 'abrao', 'abraoi', 'abraot', 'abraoti', 'abray', 'abrayi', 'abrayt', 'abrayti', 'abrayo', 'abrayoi', 'abrayot', 'abrayoti', 'abraj', 'abraji', 'abrajt', 'abrajti', 'abrajo', 'abrajoi', 'abrajot', 'abrajoti', 'abrajy', 'abrajyi', 'abrajyt', 'abrajyti', 'abrajyo', 'abrajyoi', 'abrajyot', 'abrajyoti', 'abh', 'abhi', 'abht', 'abhti', 'abho', 'abhoi', 'abhot', 'abhoti', 'abhy', 'abhyi', 'abhyt', 'abhyti', 'abhyo', 'abhyoi', 'abhyot', 'abhyoti', 'abhj', 'abhji', 'abhjt', 'abhjti', 'abhjo', 'abhjoi', 'abhjot', 'abhjoti', 'abhjy', 'abhjyi', 'abhjyt', 'abhjyti', 'abhjyo', 'abhjyoi', 'abhjyot', 'abhjyoti', 'abha', 'abhai', 'abhat', 'abhati', 'abhao', 'abhaoi', 'abhaot', 'abhaoti', 'abhay', 'abhayi', 'abhayt', 'abhayti', 'abhayo', 'abhayoi', 'abhayot', 'abhayoti', 'abhaj', 'abhaji', 'abhajt', 'abhajti', 'abhajo', 'abhajoi', 'abhajot', 'abhajoti', 'abhajy', 'abhajyi', 'abhajyt', 'abhajyti', 'abhajyo', 'abhajyoi', 'abhajyot', 'abhajyoti', 'abhr', 'abhri', 'abhrt', 'abhrti', 'abhro', 'abhroi', 'abhrot', 'abhroti', 'abhry', 'abhryi', 'abhryt', 'abhryti', 'abhryo', 'abhryoi', 'abhryot', 'abhryoti', 'abhrj', 'abhrji', 'abhrjt', 'abhrjti', 'abhrjo', 'abhrjoi', 'abhrjot', 'abhrjoti', 'abhrjy', 'abhrjyi', 'abhrjyt', 'abhrjyti', 'abhrjyo', 'abhrjyoi', 'abhrjyot', 'abhrjyoti', 'abhra', 'abhrai', 'abhrat', 'abhrati', 'abhrao', 'abhraoi', 'abhraot', 'abhraoti', 'abhray', 'abhrayi', 'abhrayt', 'abhrayti', 'abhrayo', 'abhrayoi', 'abhrayot', 'abhrayoti', 'abhraj', 'abhraji', 'abhrajt', 'abhrajti', 'abhrajo', 'abhrajoi', 'abhrajot', 'abhrajoti', 'abhrajy', 'abhrajyi', 'abhrajyt', 'abhrajyti', 'abhrajyo', 'abhrajyoi', 'abhrajyot', 'abhrajyoti']\n"
     ]
    }
   ],
   "source": [
    "def subsequences(str):\n",
    "    if len(str) == 0:\n",
    "        output = []\n",
    "        output.append('')\n",
    "        return output\n",
    "    \n",
    "    smaller_string = str[1:]\n",
    "    smaller_output = subsequences(smaller_string)\n",
    "    output = []\n",
    "    for ele in smaller_output:\n",
    "        output.append(ele)\n",
    "    for ele in smaller_output:\n",
    "        output.append(str[0]+ele)\n",
    "    return output\n",
    "\n",
    "str = input()\n",
    "\n",
    "print(subsequences(str))"
   ]
  }
 ]
}