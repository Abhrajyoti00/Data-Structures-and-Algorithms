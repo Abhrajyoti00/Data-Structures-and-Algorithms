{
 "metadata": {
  "language_info": {
   "codemirror_mode": {
    "name": "ipython",
    "version": 3
   },
   "file_extension": ".py",
   "mimetype": "text/x-python",
   "name": "python",
   "nbconvert_exporter": "python",
   "pygments_lexer": "ipython3",
   "version": "3.8.3-final"
  },
  "orig_nbformat": 2,
  "kernelspec": {
   "name": "python3",
   "display_name": "Python 3"
  }
 },
 "nbformat": 4,
 "nbformat_minor": 2,
 "cells": [
  {
   "source": [
    "## Recursive Soln"
   ],
   "cell_type": "markdown",
   "metadata": {}
  },
  {
   "cell_type": "code",
   "execution_count": 8,
   "metadata": {},
   "outputs": [
    {
     "output_type": "stream",
     "name": "stdout",
     "text": [
      "51\n"
     ]
    }
   ],
   "source": [
    "def ks(W,wt,val,i):\n",
    "\n",
    "    if i == n:\n",
    "        return 0\n",
    "\n",
    "    if wt[i] <= W:\n",
    "        ans = max(ks(W,wt,val,i+1), (val[i] + ks(W-wt[i],wt, val, i+1)))\n",
    "        return ans\n",
    "    else:\n",
    "        return (ks(W,wt,val,i+1))\n",
    "\n",
    "\n",
    "\n",
    "n = int(input())\n",
    "wt = list(map(int,input().split()))\n",
    "val = list(map(int,input().split()))\n",
    "W = int(input())\n",
    "print(ks(W,wt,val,0))"
   ]
  },
  {
   "cell_type": "code",
   "execution_count": null,
   "metadata": {},
   "outputs": [],
   "source": []
  }
 ]
}