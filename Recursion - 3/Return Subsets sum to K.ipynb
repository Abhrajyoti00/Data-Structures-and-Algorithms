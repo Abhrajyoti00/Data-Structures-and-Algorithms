{
 "metadata": {
  "language_info": {
   "codemirror_mode": {
    "name": "ipython",
    "version": 3
   },
   "file_extension": ".py",
   "mimetype": "text/x-python",
   "name": "python",
   "nbconvert_exporter": "python",
   "pygments_lexer": "ipython3",
   "version": "3.8.3-final"
  },
  "orig_nbformat": 2,
  "kernelspec": {
   "name": "python3",
   "display_name": "Python 3"
  }
 },
 "nbformat": 4,
 "nbformat_minor": 2,
 "cells": [
  {
   "cell_type": "code",
   "execution_count": 1,
   "metadata": {},
   "outputs": [
    {
     "output_type": "stream",
     "name": "stdout",
     "text": [
      "3 5 \n"
     ]
    }
   ],
   "source": [
    "import sys\n",
    "sys.setrecursionlimit(10 ** 8)\n",
    "\n",
    "\n",
    "def subset(arr,k):\n",
    "  n=len(arr)\n",
    "  if n == 1:\n",
    "    if arr[0]==k:\n",
    "      output = [ [k] ]\n",
    "      return output\n",
    "    else:\n",
    "      output = []\n",
    "      return output\n",
    "\n",
    "  output1 = subset(arr[:-1], k)\n",
    "  output2 = subset(arr[:-1], k - arr[-1])\n",
    "\n",
    "  for lst in output2:\n",
    "    lst.append(arr[-1])\n",
    "\n",
    "  if arr[-1] == k:\n",
    "    output2.append([k])\n",
    "\n",
    "  return output1 + output2\n",
    "\n",
    "#taking input\n",
    "def takeInput() :\n",
    "    n = int(input().strip())\n",
    "\n",
    "    if n == 0 :\n",
    "        return list(), 0\n",
    "\n",
    "    arr = [int(element) for element in list(input().strip().split(\" \"))]\n",
    "    return arr, n\n",
    "\n",
    "\n",
    "#printing the list of lists\n",
    "def printListOfList(liOfLi) :\n",
    "    for li in liOfLi :\n",
    "        for elem in li :\n",
    "            print(elem, end = \" \")\n",
    "        print()\n",
    "\n",
    "#main\n",
    "arr, n = takeInput()\n",
    "\n",
    "if n != 0 :\n",
    "    k = int(input().strip())\n",
    "    liOfLi = subset(arr,k)\n",
    "\n",
    "    printListOfList(liOfLi)\n",
    "\n"
   ]
  },
  {
   "cell_type": "code",
   "execution_count": null,
   "metadata": {},
   "outputs": [],
   "source": []
  }
 ]
}