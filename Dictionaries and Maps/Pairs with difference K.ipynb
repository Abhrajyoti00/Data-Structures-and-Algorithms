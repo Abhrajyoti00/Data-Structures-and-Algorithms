{
 "metadata": {
  "language_info": {
   "codemirror_mode": {
    "name": "ipython",
    "version": 3
   },
   "file_extension": ".py",
   "mimetype": "text/x-python",
   "name": "python",
   "nbconvert_exporter": "python",
   "pygments_lexer": "ipython3",
   "version": "3.9.0-final"
  },
  "orig_nbformat": 2,
  "kernelspec": {
   "name": "Python 3.9.0 64-bit",
   "display_name": "Python 3.9.0 64-bit",
   "metadata": {
    "interpreter": {
     "hash": "86fac28bb28b019b7f775f2fe5ba6a78f4263158a8fbe5bc11c7908c73e10420"
    }
   }
  }
 },
 "nbformat": 4,
 "nbformat_minor": 2,
 "cells": [
  {
   "cell_type": "code",
   "execution_count": 1,
   "metadata": {},
   "outputs": [
    {
     "output_type": "stream",
     "name": "stdout",
     "text": [
      "1\n1\n1\n1\n"
     ]
    }
   ],
   "source": [
    "def printPairDiffK(l, k):\n",
    "    d = {}\n",
    "    for num in l:\n",
    "        d[num] = d.get(num,0)+1\n",
    "    for keys in d:\n",
    "        if key+k in d:\n",
    "            for i in range(d[key]*d[key+k]):\n",
    "                if key<key+k:\n",
    "                    print(key,' ', key+k)\n",
    "                else:\n",
    "                    print(key+k, ' ', key)\n",
    "            d[key] = 0\n",
    "        elif key-k in d:\n",
    "            for i in range(d[key]*d[key-k]):\n",
    "                if key<key-k:\n",
    "                    print(key,' ', key-k)\n",
    "                else:\n",
    "                    print(key-k, ' ', key)\n",
    "            d[key] = 0\n",
    "\n",
    "n=int(input())\n",
    "l=list(int(i) for i in input().strip().split(' '))\n",
    "k=int(input())\n",
    "printPairDiffK(l, k)"
   ]
  },
  {
   "cell_type": "code",
   "execution_count": null,
   "metadata": {},
   "outputs": [],
   "source": []
  }
 ]
}