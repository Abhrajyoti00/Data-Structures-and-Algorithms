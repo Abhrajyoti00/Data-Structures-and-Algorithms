{
 "metadata": {
  "language_info": {
   "codemirror_mode": {
    "name": "ipython",
    "version": 3
   },
   "file_extension": ".py",
   "mimetype": "text/x-python",
   "name": "python",
   "nbconvert_exporter": "python",
   "pygments_lexer": "ipython3",
   "version": "3.8.3-final"
  },
  "orig_nbformat": 2,
  "kernelspec": {
   "name": "python3",
   "display_name": "Python 3"
  }
 },
 "nbformat": 4,
 "nbformat_minor": 2,
 "cells": [
  {
   "cell_type": "code",
   "execution_count": 7,
   "metadata": {},
   "outputs": [],
   "source": [
    "def getOptions(inp):\n",
    "    d = {2:('a','b','c'), 3: ('d','e','f'), 4: ('g', 'h', 'i'), 5: ('j', 'k', 'l'), 6: ('m','n','o'), 7: ('p','q','r','s'), \n",
    "8: ('t','u','v'), 9: ('w', 'x', 'y', 'z')}\n",
    "\n",
    "    return d[inp]\n"
   ]
  },
  {
   "cell_type": "code",
   "execution_count": 13,
   "metadata": {},
   "outputs": [
    {
     "output_type": "stream",
     "name": "stdout",
     "text": [
      "ad\nbd\ncd\nae\nbe\nce\naf\nbf\ncf\n"
     ]
    }
   ],
   "source": [
    "def printNum(inp, out):\n",
    "    if inp == 0:\n",
    "        print(out)\n",
    "        return\n",
    "    else:\n",
    "        \n",
    "        smaller_inp = inp%10\n",
    "        s = getOptions(smaller_inp)\n",
    "        remaining_inp = inp//10\n",
    "        for ele in s:\n",
    "            printNum(remaining_inp, ele+out)\n",
    "\n",
    "\n",
    "\n",
    "num = int(input())\n",
    "# print('Num is',num)\n",
    "printNum(num, '')\n",
    "\n"
   ]
  },
  {
   "cell_type": "code",
   "execution_count": 6,
   "metadata": {},
   "outputs": [
    {
     "output_type": "stream",
     "name": "stdout",
     "text": [
      "('a', 'b', 'c')\n('d', 'e', 'f')\n('g', 'h', 'i')\n('j', 'k', 'l')\n('m', 'n', 'o')\n('p', 'q', 'r', 's')\n('t', 'u', 'v')\n('w', 'x', 'y', 'z')\n"
     ]
    }
   ],
   "source": [
    "d = {2:('a','b','c'), 3: ('d','e','f'), 4: ('g', 'h', 'i'), 5: ('j', 'k', 'l'), 6: ('m','n','o'), 7: ('p','q','r','s'), 8: ('t','u','v'), 9: ('w', 'x', 'y', 'z')}\n",
    "\n",
    "for tup in d.values():\n",
    "    print(tup)\n"
   ]
  },
  {
   "cell_type": "code",
   "execution_count": null,
   "metadata": {},
   "outputs": [],
   "source": []
  }
 ]
}