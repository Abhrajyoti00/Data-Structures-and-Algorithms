{
 "metadata": {
  "language_info": {
   "codemirror_mode": {
    "name": "ipython",
    "version": 3
   },
   "file_extension": ".py",
   "mimetype": "text/x-python",
   "name": "python",
   "nbconvert_exporter": "python",
   "pygments_lexer": "ipython3",
   "version": 3
  },
  "orig_nbformat": 2
 },
 "nbformat": 4,
 "nbformat_minor": 2,
 "cells": [
  {
   "source": [
    "# Reason\n",
    "\n",
    "In recursion, there is a chance of Stack Overflow Error\n",
    "\n",
    "For More than 10^4 calls in C++/Java, it gives that Error\n",
    "\n",
    "By default 10^3 in Python.... Setrecursion Limit (10^4)  \n",
    "\n"
   ],
   "cell_type": "markdown",
   "metadata": {}
  },
  {
   "source": [
    "So fib(10^6) cannot be solved in a stack. \n",
    "\n",
    "In iterative method, Stack Overflow is not there. :)"
   ],
   "cell_type": "markdown",
   "metadata": {}
  },
  {
   "cell_type": "code",
   "execution_count": null,
   "metadata": {},
   "outputs": [],
   "source": []
  }
 ]
}