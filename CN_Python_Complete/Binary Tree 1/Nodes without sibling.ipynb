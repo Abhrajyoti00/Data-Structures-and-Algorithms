{
 "cells": [
  {
   "cell_type": "code",
   "execution_count": null,
   "metadata": {},
   "outputs": [],
   "source": [
    "def printNodesWithoutSibling(root) :\n",
    "    if root.left is not None and root.right is not None:\n",
    "        printNodesWithoutSibling(root.left)\n",
    "        printNodesWithoutSibling(root.right)\n",
    "    else:\n",
    "        if root.left is not None and root.right is None:\n",
    "            print(root.left.data,end = \" \")\n",
    "            printNodesWithoutSibling(root.left)\n",
    "        if root.right is not None and root.left is None:\n",
    "            print(root.right.data, end = \" \")\n",
    "            printNodesWithoutSibling(root.right)\n",
    "        return\n",
    "    \n"
   ]
  }
 ],
 "metadata": {
  "kernelspec": {
   "display_name": "Python 3",
   "language": "python",
   "name": "python3"
  },
  "language_info": {
   "codemirror_mode": {
    "name": "ipython",
    "version": 3
   },
   "file_extension": ".py",
   "mimetype": "text/x-python",
   "name": "python",
   "nbconvert_exporter": "python",
   "pygments_lexer": "ipython3",
   "version": "3.8.2"
  }
 },
 "nbformat": 4,
 "nbformat_minor": 4
}
