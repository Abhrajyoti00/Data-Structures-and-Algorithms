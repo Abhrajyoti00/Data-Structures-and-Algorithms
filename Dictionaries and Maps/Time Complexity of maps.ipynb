{
 "metadata": {
  "language_info": {
   "codemirror_mode": {
    "name": "ipython",
    "version": 3
   },
   "file_extension": ".py",
   "mimetype": "text/x-python",
   "name": "python",
   "nbconvert_exporter": "python",
   "pygments_lexer": "ipython3",
   "version": 3
  },
  "orig_nbformat": 2
 },
 "nbformat": 4,
 "nbformat_minor": 2,
 "cells": [
  {
   "source": [
    "# Insert function\n",
    "\n",
    "\n",
    "Comprises : 1)  Calculating Hash Code   O(l) {l = length} \n",
    "2) Iterating on Linked List  O(n)   {n elements}\n",
    "\n",
    "\n",
    "Now O(l) << O(n) cconsidered ... So O(n) has to be improved\n",
    "\n"
   ],
   "cell_type": "markdown",
   "metadata": {}
  },
  {
   "source": [
    "Since we will implement good hash code and good compression methods, hence all the elemnts falling under the same hash code is impractical\n",
    "\n",
    "('b boxes in bucketlist, then eac box will have (n/b) entries)\n",
    "We will make sure (n/b) < 0.7\n",
    "\n",
    "This 0.7 is called Load Factor... we need to maintain this for O(1)\n",
    "\n",
    "\n"
   ],
   "cell_type": "markdown",
   "metadata": {}
  },
  {
   "source": [
    "Now, whenever (n/b) will be >0.7, we will increase b = 2b... (DOUBLE THE BUCKET SIZE) this is called REHASHING.\n",
    "\n",
    "\n",
    "Hence it becomes O(1)\n"
   ],
   "cell_type": "markdown",
   "metadata": {}
  }
 ]
}