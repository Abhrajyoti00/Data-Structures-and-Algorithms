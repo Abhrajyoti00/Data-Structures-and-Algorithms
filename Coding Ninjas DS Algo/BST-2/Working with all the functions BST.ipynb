{
 "cells": [
  {
   "cell_type": "code",
   "execution_count": 2,
   "metadata": {},
   "outputs": [],
   "source": [
    "class BinaryTreeNode:\n",
    "    def __init__(self,data):\n",
    "        self.data = data\n",
    "        self.left = None\n",
    "        self.right = None"
   ]
  },
  {
   "cell_type": "code",
   "execution_count": 3,
   "metadata": {},
   "outputs": [],
   "source": [
    "def printTree(root):\n",
    "    if root == None:\n",
    "        return\n",
    "    print(root.data)\n",
    "    printTree(root.left)\n",
    "    printTree(root.right)"
   ]
  },
  {
   "cell_type": "code",
   "execution_count": 4,
   "metadata": {},
   "outputs": [],
   "source": [
    "def printTreeDetailed(root):\n",
    "    if root == None:\n",
    "        return\n",
    "    print(root.data, end = ':')\n",
    "    if root.left !=None:\n",
    "        print(\"L\", root.left.data,end = ',')\n",
    "    if root.right!=None:\n",
    "        print(\"R\", root.right.data,end='')\n",
    "    print()\n",
    "    printTreeDetailed(root.left)\n",
    "    printTreeDetailed(root.right)"
   ]
  },
  {
   "cell_type": "code",
   "execution_count": 5,
   "metadata": {},
   "outputs": [],
   "source": [
    "def treeInput():\n",
    "    rootData = int(input())\n",
    "    if rootData == -1:\n",
    "        return\n",
    "    root = BinaryTreeNode(rootData)\n",
    "    root.left = treeInput()\n",
    "    root.right = treeInput()\n",
    "    return root"
   ]
  },
  {
   "cell_type": "code",
   "execution_count": 6,
   "metadata": {},
   "outputs": [],
   "source": [
    "def countNodes(root):\n",
    "    if root == None:\n",
    "        return 0\n",
    "    cl = countNodes(root.left)\n",
    "    cr = countNodes(root.right)\n",
    "    return (1+cl+cr)"
   ]
  },
  {
   "cell_type": "code",
   "execution_count": 7,
   "metadata": {},
   "outputs": [],
   "source": [
    "def getSum(root):\n",
    "    if root is None:\n",
    "        return 0\n",
    "    leftsum = getSum(root.left)\n",
    "    rightsum = getSum(root.right)\n",
    "    return root.data+leftsum+rightsum"
   ]
  },
  {
   "cell_type": "code",
   "execution_count": 8,
   "metadata": {},
   "outputs": [],
   "source": [
    "# root = treeInput()\n",
    "# printTreeDetailed(root)\n",
    "# print('Count of Nodes = '+ str(countNodes(root)))\n",
    "# print('Sum of the Nodes = '+str(getSum(root)))"
   ]
  },
  {
   "cell_type": "code",
   "execution_count": 9,
   "metadata": {},
   "outputs": [],
   "source": [
    "def preOrder(root):\n",
    "    if root == None:\n",
    "        return\n",
    "    print(root.data,end= \" \")\n",
    "    preOrder(root.left)\n",
    "    preOrder(root.right)"
   ]
  },
  {
   "cell_type": "code",
   "execution_count": 10,
   "metadata": {},
   "outputs": [],
   "source": [
    "def postOrder(root):\n",
    "    if root == None:\n",
    "        return\n",
    "    postOrder(root.left)\n",
    "    postOrder(root.right)\n",
    "    print(root.data,end= \" \")"
   ]
  },
  {
   "cell_type": "code",
   "execution_count": 11,
   "metadata": {},
   "outputs": [],
   "source": [
    "import math\n",
    "def LargestData(root):\n",
    "    if root == None:\n",
    "        return -math.inf\n",
    "    leftLar = LargestData(root.left)\n",
    "    rightlar = LargestData(root.right)\n",
    "    return max(root.data,leftLar,rightlar)"
   ]
  },
  {
   "cell_type": "code",
   "execution_count": 12,
   "metadata": {},
   "outputs": [],
   "source": [
    "# root = treeInput()\n",
    "# printTreeDetailed(root)\n",
    "# print('Count of Nodes = '+ str(countNodes(root)))\n",
    "# print('Sum of the Nodes = '+str(getSum(root)))\n",
    "# print('Largest Data = '+ str(LargestData(root)))"
   ]
  },
  {
   "cell_type": "code",
   "execution_count": 13,
   "metadata": {},
   "outputs": [],
   "source": [
    "def countNodesGreaterThanX(root, x) :\n",
    "    if root == None:\n",
    "        return 0\n",
    "    if root.data>x:\n",
    "        p = 1\n",
    "    else:\n",
    "        p = 0\n",
    "    lc = countNodesGreaterThanX(root.left,x)\n",
    "    rc = countNodesGreaterThanX(root.right,x)\n",
    "    return (p+lc+rc)"
   ]
  },
  {
   "cell_type": "code",
   "execution_count": 14,
   "metadata": {},
   "outputs": [],
   "source": [
    "# root = treeInput()\n",
    "# printTreeDetailed(root)\n",
    "# print('Count of Nodes = '+ str(countNodes(root)))\n",
    "# print('Sum of the Nodes = '+str(getSum(root)))\n",
    "# print('Largest Data = '+ str(LargestData(root)))\n",
    "# print('No of nodes greater than 5 are: '+str(countNodesGreaterThanX(root,5)))"
   ]
  },
  {
   "cell_type": "code",
   "execution_count": 15,
   "metadata": {},
   "outputs": [],
   "source": [
    "def height(root) :\n",
    "    if root == None:\n",
    "        return 0\n",
    "    lh = height(root.left)\n",
    "    rh = height(root.right)\n",
    "    return (1+max(lh,rh))"
   ]
  },
  {
   "cell_type": "code",
   "execution_count": 16,
   "metadata": {},
   "outputs": [],
   "source": [
    "def leafNodes(root):\n",
    "    if root == None:\n",
    "        return 0\n",
    "    if root.left == None and root.right == None:\n",
    "        return 1\n",
    "    return (leafNodes(root.left)+leafNodes(root.right))"
   ]
  },
  {
   "cell_type": "code",
   "execution_count": 17,
   "metadata": {},
   "outputs": [],
   "source": [
    "# root = treeInput()\n",
    "# printTreeDetailed(root)\n",
    "# print('Count of Nodes = '+ str(countNodes(root)))\n",
    "# print('Sum of the Nodes = '+str(getSum(root)))\n",
    "# print('Largest Data = '+ str(LargestData(root)))\n",
    "# print('No of nodes greater than 5 are: '+str(countNodesGreaterThanX(root,5)))\n",
    "# print(\"No of leaf nodes = \"+ str(leafNodes(root)))"
   ]
  },
  {
   "cell_type": "markdown",
   "metadata": {},
   "source": [
    "# "
   ]
  },
  {
   "cell_type": "code",
   "execution_count": 18,
   "metadata": {},
   "outputs": [],
   "source": [
    "def DepthAtK(root,K):\n",
    "    if root == None:\n",
    "        return\n",
    "    if K==0:\n",
    "        print(root.data)\n",
    "        return\n",
    "    (DepthAtK(root.left,K-1))\n",
    "    (DepthAtK(root.right,K-1))"
   ]
  },
  {
   "cell_type": "code",
   "execution_count": 19,
   "metadata": {},
   "outputs": [],
   "source": [
    "# root = treeInput()\n",
    "# printTreeDetailed(root)\n",
    "# print('Count of Nodes = '+ str(countNodes(root)))\n",
    "# print('Sum of the Nodes = '+str(getSum(root)))\n",
    "# print('Largest Data = '+ str(LargestData(root)))\n",
    "# print('No of nodes greater than 5 are: '+str(countNodesGreaterThanX(root,5)))\n",
    "# print(\"No of leaf nodes = \"+ str(leafNodes(root)))\n",
    "# print(\"Depth at 2 = \"+str(DepthAtK(root,2)))"
   ]
  },
  {
   "cell_type": "code",
   "execution_count": 20,
   "metadata": {},
   "outputs": [],
   "source": [
    "def DepthAtKv2(root,K,d=0):\n",
    "    if root==None:\n",
    "        return\n",
    "    if K==d:\n",
    "        print(root.data)\n",
    "        return\n",
    "    DepthAtKv2(root.left,K,d+1)\n",
    "    DepthAtKv2(root.right,K,d+1)"
   ]
  },
  {
   "cell_type": "code",
   "execution_count": 21,
   "metadata": {},
   "outputs": [],
   "source": [
    "# root = treeInput()\n",
    "# printTreeDetailed(root)\n",
    "# print('Count of Nodes = '+ str(countNodes(root)))\n",
    "# print('Sum of the Nodes = '+str(getSum(root)))\n",
    "# print('Largest Data = '+ str(LargestData(root)))\n",
    "# print('No of nodes greater than 5 are: '+str(countNodesGreaterThanX(root,5)))\n",
    "# print(\"No of leaf nodes = \"+ str(leafNodes(root)))\n",
    "# print(\"Depth at 2 = \"+str(DepthAtKv2(root,2)))"
   ]
  },
  {
   "cell_type": "code",
   "execution_count": 22,
   "metadata": {},
   "outputs": [],
   "source": [
    "def isBalanced(root):\n",
    "    if root == None:\n",
    "        return True\n",
    "    lh = height(root.left)\n",
    "    rh = height(root.right)\n",
    "    if abs(lh-rh)>1:\n",
    "        return False\n",
    "    isLeftBalanced = isBalanced(root.left)\n",
    "    isRightBalanced = isBalanced(root.right)\n",
    "    if isLeftBalanced and isRightBalanced:\n",
    "        return True\n",
    "    else:\n",
    "        return False"
   ]
  },
  {
   "cell_type": "code",
   "execution_count": 23,
   "metadata": {},
   "outputs": [],
   "source": [
    "# root = treeInput()\n",
    "# printTreeDetailed(root)\n",
    "# print('Count of Nodes = '+ str(countNodes(root)))\n",
    "# print('Sum of the Nodes = '+str(getSum(root)))\n",
    "# print('Largest Data = '+ str(LargestData(root)))\n",
    "# print('No of nodes greater than 5 are: '+str(countNodesGreaterThanX(root,5)))\n",
    "# print(\"No of leaf nodes = \"+ str(leafNodes(root)))\n",
    "# print(\"Depth at 2 = \"+str(DepthAtKv2(root,2)))\n",
    "# if isBalanced(root):\n",
    "#     print('Balanced')\n",
    "# else:\n",
    "#     print(\"Not Balanced\")"
   ]
  },
  {
   "cell_type": "code",
   "execution_count": 24,
   "metadata": {},
   "outputs": [],
   "source": [
    "def getHeightAndCheckBalanced(root):\n",
    "    if root == None:\n",
    "        return 0, True\n",
    "    lh, isLeftBalanced = getHeightAndCheckBalanced(root.left)\n",
    "    rh,isRightBalanced = getHeightAndCheckBalanced(root.right)\n",
    "    \n",
    "    h = 1+max(lh,rh)\n",
    "    if abs(lh-rh)>1:\n",
    "        return h, False\n",
    "    if isLeftBalanced and isRightBalanced:\n",
    "        return h,True\n",
    "    else:\n",
    "        return h,False\n",
    "    "
   ]
  },
  {
   "cell_type": "code",
   "execution_count": 25,
   "metadata": {},
   "outputs": [],
   "source": [
    "# root = treeInput()\n",
    "# printTreeDetailed(root)\n",
    "# print('Count of Nodes = '+ str(countNodes(root)))\n",
    "# print('Sum of the Nodes = '+str(getSum(root)))\n",
    "# print('Largest Data = '+ str(LargestData(root)))\n",
    "# print('No of nodes greater than 5 are: '+str(countNodesGreaterThanX(root,5)))\n",
    "# print(\"No of leaf nodes = \"+ str(leafNodes(root)))\n",
    "# print(\"Depth at 2 = \"+str(DepthAtKv2(root,2)))\n",
    "# if getHeightAndCheckBalanced(root):\n",
    "#     print('Balanced')\n",
    "# else:\n",
    "#     print(\"Not Balanced\")"
   ]
  },
  {
   "cell_type": "code",
   "execution_count": 26,
   "metadata": {},
   "outputs": [],
   "source": [
    "# root = treeInput()\n",
    "# printTreeDetailed(root)\n",
    "# print('Count of Nodes = '+ str(countNodes(root)))\n",
    "# print('Sum of the Nodes = '+str(getSum(root)))\n",
    "# print('Largest Data = '+ str(LargestData(root)))\n",
    "# print('No of nodes greater than 5 are: '+str(countNodesGreaterThanX(root,5)))\n",
    "# print(\"No of leaf nodes = \"+ str(leafNodes(root)))\n",
    "# print(\"Depth at 2 = \"+str(DepthAtKv2(root,2)))\n",
    "# print(getHeightAndCheckBalanced(root))"
   ]
  },
  {
   "cell_type": "code",
   "execution_count": 27,
   "metadata": {},
   "outputs": [],
   "source": [
    "# Diameter of a Binary tree : Farthest Distance between two nodes"
   ]
  },
  {
   "cell_type": "code",
   "execution_count": 28,
   "metadata": {},
   "outputs": [],
   "source": [
    "def diameterOfTree(root):\n",
    "    if root == None:\n",
    "        return 0\n",
    "    dia = height(root.left) + height(root.right)\n",
    "    ld = diameterOfTree(root.left)\n",
    "    rd = diameterOfTree(root.right)\n",
    "    return 1+ max(dia,ld,rd)"
   ]
  },
  {
   "cell_type": "code",
   "execution_count": 29,
   "metadata": {},
   "outputs": [],
   "source": [
    "def getHeightAndDiameter(root):\n",
    "    if root == None:\n",
    "        return 0,1\n",
    "    lh, ld = getHeightAndDiameter(root.left)\n",
    "    rh, rd = getHeightAndDiameter(root.right)\n",
    "    \n",
    "    h = 1+max(lh,rh)\n",
    "    return h,1+ max(lh+rh,ld,rd)"
   ]
  },
  {
   "cell_type": "code",
   "execution_count": 30,
   "metadata": {},
   "outputs": [],
   "source": [
    "def diameterOfBinaryTree(root):\n",
    "    h,dia = getHeightAndDiameter(root)\n",
    "    return dia"
   ]
  },
  {
   "cell_type": "code",
   "execution_count": 31,
   "metadata": {
    "scrolled": true
   },
   "outputs": [],
   "source": [
    "# root = treeInput()\n",
    "# printTreeDetailed(root)\n",
    "# print('Count of Nodes = '+ str(countNodes(root)))\n",
    "# print('Sum of the Nodes = '+str(getSum(root)))\n",
    "# print('Largest Data = '+ str(LargestData(root)))\n",
    "# print('No of nodes greater than 5 are: '+str(countNodesGreaterThanX(root,5)))\n",
    "# print(\"No of leaf nodes = \"+ str(leafNodes(root)))\n",
    "# print(\"Depth at 2 = \"+str(DepthAtKv2(root,2)))\n",
    "# print(getHeightAndCheckBalanced(root))\n",
    "# print('Diameter of tree is '+str(diameterOfTree(root)))\n",
    "# print('Diameter of Binary tree func : - ' + str(diameterOfBinaryTree(root)))"
   ]
  },
  {
   "cell_type": "code",
   "execution_count": 32,
   "metadata": {},
   "outputs": [],
   "source": [
    "import queue\n",
    "def takeLevelWiseInput():\n",
    "    q = queue.Queue()\n",
    "    print('Enter Root')\n",
    "    rootData = int(input())\n",
    "    if rootData == -1:\n",
    "        return None\n",
    "    root = BinaryTreeNode(rootData)\n",
    "    q.put(root)\n",
    "    while (not(q.empty())):\n",
    "        currentNode = q.get()\n",
    "        print(\"Enter the left child of \", currentNode.data)\n",
    "        leftChildData = int(input())\n",
    "        if leftChildData !=-1:\n",
    "            leftChild = BinaryTreeNode(leftChildData)\n",
    "            currentNode.left = leftChild\n",
    "            q.put(leftChild)\n",
    "        \n",
    "        print(\"Enter the right child of \", currentNode.data)\n",
    "        rightChildData = int(input())\n",
    "        if rightChildData !=-1:\n",
    "            rightChild = BinaryTreeNode(rightChildData)\n",
    "            currentNode.right = rightChild\n",
    "            q.put(rightChild)\n",
    "    \n",
    "    return root"
   ]
  },
  {
   "cell_type": "code",
   "execution_count": 33,
   "metadata": {},
   "outputs": [],
   "source": [
    "# # root = takeLevelWiseInput()\n",
    "# printTreeDetailed(root)"
   ]
  },
  {
   "cell_type": "code",
   "execution_count": 34,
   "metadata": {},
   "outputs": [],
   "source": [
    "import queue\n",
    "def printTreeLevelWise(root):\n",
    "    q = queue.Queue()\n",
    "    if root == None:\n",
    "        return\n",
    "    q.put(root)\n",
    "    \n",
    "    while (not(q.empty())):\n",
    "        currentNode = q.get()\n",
    "        print(currentNode.data, end = ':')\n",
    "        \n",
    "        if currentNode.left!=None:\n",
    "            print(\"L:\",end = '')\n",
    "            print(currentNode.left.data, end = ',')\n",
    "            q.put(currentNode.left)\n",
    "        else:\n",
    "            print(\"L:\", end = \"\")\n",
    "            print(-1, end = \",\")\n",
    "            \n",
    "        if currentNode.right!=None:\n",
    "            print(\"R:\",end = '')\n",
    "            print(currentNode.right.data)\n",
    "            q.put(currentNode.right)\n",
    "        else:\n",
    "            print(\"R:\", end = \"\")\n",
    "            print(-1)\n",
    "    print()"
   ]
  },
  {
   "cell_type": "code",
   "execution_count": 34,
   "metadata": {},
   "outputs": [],
   "source": [
    "# root = takeLevelWiseInput()\n",
    "# printTreeLevelWise(root)"
   ]
  },
  {
   "cell_type": "markdown",
   "metadata": {},
   "source": [
    "Inorder : d b e a p q r\n",
    "Preorder: a b d e q p r \n",
    "PostOrd : \n",
    "\n",
    "\n",
    "a: L: b R: p\n",
    "b: \n"
   ]
  },
  {
   "cell_type": "code",
   "execution_count": 35,
   "metadata": {},
   "outputs": [],
   "source": [
    " def nodeToPath(root,s):\n",
    "        if root == None:\n",
    "            return None\n",
    "        if root.data == s:\n",
    "            l = list()\n",
    "            l.append(root.data)\n",
    "            return l\n",
    "        leftOutput = nodeToPath(root.left, s)\n",
    "        if leftOutput !=None:\n",
    "            leftOutput.append(root.data)\n",
    "            return leftOutput\n",
    "        rightOutput = nodeToPath(root.right,s)\n",
    "        if rightOutput!=None:\n",
    "            rightOutput.append(root.data)\n",
    "            return rightOutput\n",
    "        else:\n",
    "            return None"
   ]
  },
  {
   "cell_type": "code",
   "execution_count": 36,
   "metadata": {},
   "outputs": [
    {
     "name": "stdout",
     "output_type": "stream",
     "text": [
      "Enter Root\n",
      "1\n",
      "Enter the left child of  1\n",
      "2\n",
      "Enter the right child of  1\n",
      "3\n",
      "Enter the left child of  2\n",
      "-1\n",
      "Enter the right child of  2\n",
      "-1\n",
      "Enter the left child of  3\n",
      "4\n",
      "Enter the right child of  3\n",
      "6\n",
      "Enter the left child of  4\n",
      "-1\n",
      "Enter the right child of  4\n",
      "-1\n",
      "Enter the left child of  6\n",
      "5\n",
      "Enter the right child of  6\n",
      "9\n",
      "Enter the left child of  5\n",
      "7\n",
      "Enter the right child of  5\n",
      "8\n",
      "Enter the left child of  9\n",
      "-1\n",
      "Enter the right child of  9\n",
      "-1\n",
      "Enter the left child of  7\n",
      "-1\n",
      "Enter the right child of  7\n",
      "-1\n",
      "Enter the left child of  8\n",
      "-1\n",
      "Enter the right child of  8\n",
      "-1\n",
      "1:L:2,R:3\n",
      "2:L:-1,R:-1\n",
      "3:L:4,R:6\n",
      "4:L:-1,R:-1\n",
      "6:L:5,R:9\n",
      "5:L:7,R:8\n",
      "9:L:-1,R:-1\n",
      "7:L:-1,R:-1\n",
      "8:L:-1,R:-1\n",
      "\n"
     ]
    },
    {
     "data": {
      "text/plain": [
       "[5, 6, 3, 1]"
      ]
     },
     "execution_count": 36,
     "metadata": {},
     "output_type": "execute_result"
    }
   ],
   "source": [
    "root = takeLevelWiseInput()\n",
    "printTreeLevelWise(root)\n",
    "nodeToPath(root,5)"
   ]
  },
  {
   "cell_type": "code",
   "execution_count": null,
   "metadata": {},
   "outputs": [],
   "source": [
    " def nodeToPathBST(root,s):\n",
    "        if root == None:\n",
    "            return None\n",
    "        if root.data == s:\n",
    "            l = list()\n",
    "            l.append(root.data)\n",
    "            return l\n",
    "        leftOutput = nodeToPath(root.left, s)\n",
    "        if leftOutput !=None:\n",
    "            leftOutput.append(root.data)\n",
    "            return leftOutput\n",
    "        rightOutput = nodeToPath(root.right,s)\n",
    "        if rightOutput!=None:\n",
    "            rightOutput.append(root.data)\n",
    "            return rightOutput\n",
    "        else:\n",
    "            return None"
   ]
  }
 ],
 "metadata": {
  "kernelspec": {
   "display_name": "Python 3",
   "language": "python",
   "name": "python3"
  },
  "language_info": {
   "codemirror_mode": {
    "name": "ipython",
    "version": 3
   },
   "file_extension": ".py",
   "mimetype": "text/x-python",
   "name": "python",
   "nbconvert_exporter": "python",
   "pygments_lexer": "ipython3",
   "version": "3.8.3"
  }
 },
 "nbformat": 4,
 "nbformat_minor": 4
}
