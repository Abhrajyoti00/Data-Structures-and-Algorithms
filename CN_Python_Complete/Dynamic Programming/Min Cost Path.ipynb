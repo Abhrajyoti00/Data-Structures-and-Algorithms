{
 "metadata": {
  "language_info": {
   "codemirror_mode": {
    "name": "ipython",
    "version": 3
   },
   "file_extension": ".py",
   "mimetype": "text/x-python",
   "name": "python",
   "nbconvert_exporter": "python",
   "pygments_lexer": "ipython3",
   "version": "3.8.3-final"
  },
  "orig_nbformat": 2,
  "kernelspec": {
   "name": "python3",
   "display_name": "Python 3"
  }
 },
 "nbformat": 4,
 "nbformat_minor": 2,
 "cells": [
  {
   "source": [
    "## An  mxn matrix is given, and we have to give the minimum cost of the path."
   ],
   "cell_type": "markdown",
   "metadata": {}
  },
  {
   "source": [
    "## Recursive Solution"
   ],
   "cell_type": "markdown",
   "metadata": {}
  },
  {
   "cell_type": "code",
   "execution_count": 18,
   "metadata": {},
   "outputs": [
    {
     "output_type": "stream",
     "name": "stdout",
     "text": [
      "30\n"
     ]
    }
   ],
   "source": [
    "def minCost(cost, m , n, i, j):\n",
    "\n",
    "        if (i == (m-1)) and (j == (n-1)):\n",
    "            return cost[i][j]\n",
    "        \n",
    "        if i>=m or j>=n:\n",
    "            return sys.maxsize\n",
    "\n",
    "        ans1 =  minCost(cost, m, n, i, j+1)\n",
    "        ans2 =  minCost(cost, m, n, i+1, j)\n",
    "        ans3 =  minCost(cost, m, n, i+1, j+1)\n",
    "\n",
    "        return cost[i][j] + min(ans1,ans2,ans3)\n",
    "\n",
    "\n",
    "m = int(input())\n",
    "n = int(input())\n",
    "\n",
    "cost = [list(map(int, input().strip().split(\" \"))) for row in range(m)]\n",
    "print(minCost(cost, m, n, 0, 0))"
   ]
  },
  {
   "cell_type": "code",
   "execution_count": 19,
   "metadata": {},
   "outputs": [
    {
     "output_type": "error",
     "ename": "ValueError",
     "evalue": "invalid literal for int() with base 10: ''",
     "traceback": [
      "\u001b[1;31m---------------------------------------------------------------------------\u001b[0m",
      "\u001b[1;31mValueError\u001b[0m                                Traceback (most recent call last)",
      "\u001b[1;32m<ipython-input-19-718c07b67908>\u001b[0m in \u001b[0;36m<module>\u001b[1;34m\u001b[0m\n\u001b[0;32m     17\u001b[0m \u001b[1;33m\u001b[0m\u001b[0m\n\u001b[0;32m     18\u001b[0m \u001b[0mli\u001b[0m \u001b[1;33m=\u001b[0m \u001b[0mstdin\u001b[0m\u001b[1;33m.\u001b[0m\u001b[0mreadline\u001b[0m\u001b[1;33m(\u001b[0m\u001b[1;33m)\u001b[0m\u001b[1;33m.\u001b[0m\u001b[0mrstrip\u001b[0m\u001b[1;33m(\u001b[0m\u001b[1;33m)\u001b[0m\u001b[1;33m.\u001b[0m\u001b[0msplit\u001b[0m\u001b[1;33m(\u001b[0m\u001b[1;34m\" \"\u001b[0m\u001b[1;33m)\u001b[0m\u001b[1;33m\u001b[0m\u001b[1;33m\u001b[0m\u001b[0m\n\u001b[1;32m---> 19\u001b[1;33m \u001b[0mm\u001b[0m \u001b[1;33m=\u001b[0m \u001b[0mint\u001b[0m\u001b[1;33m(\u001b[0m\u001b[0mli\u001b[0m\u001b[1;33m[\u001b[0m\u001b[1;36m0\u001b[0m\u001b[1;33m]\u001b[0m\u001b[1;33m)\u001b[0m\u001b[1;33m\u001b[0m\u001b[1;33m\u001b[0m\u001b[0m\n\u001b[0m\u001b[0;32m     20\u001b[0m \u001b[0mn\u001b[0m \u001b[1;33m=\u001b[0m \u001b[0mint\u001b[0m\u001b[1;33m(\u001b[0m\u001b[0mli\u001b[0m\u001b[1;33m[\u001b[0m\u001b[1;36m1\u001b[0m\u001b[1;33m]\u001b[0m\u001b[1;33m)\u001b[0m\u001b[1;33m\u001b[0m\u001b[1;33m\u001b[0m\u001b[0m\n\u001b[0;32m     21\u001b[0m \u001b[1;33m\u001b[0m\u001b[0m\n",
      "\u001b[1;31mValueError\u001b[0m: invalid literal for int() with base 10: ''"
     ]
    }
   ],
   "source": [
    "# CodeZen Solution\n",
    "\n",
    "\n",
    "import sys\n",
    "from sys import stdin\n",
    "\n",
    "def minCost(cost, m , n, i, j):\n",
    "\n",
    "        if (i == (m-1)) and (j == (n-1)):\n",
    "            return cost[i][j]\n",
    "        \n",
    "        if i>=m or j>=n:\n",
    "            return sys.maxsize\n",
    "\n",
    "        ans1 =  minCost(cost, m, n, i, j+1)\n",
    "        ans2 =  minCost(cost, m, n, i+1, j)\n",
    "        ans3 =  minCost(cost, m, n, i+1, j+1)\n",
    "\n",
    "        return cost[i][j] + min(ans1,ans2,ans3)\n",
    "\n",
    "li = stdin.readline().rstrip().split(\" \")\n",
    "m = int(li[0])\n",
    "n = int(li[1])\n",
    "\n",
    "\n",
    "cost = [list(map(int, input().strip().split(\" \"))) for row in range(m)]\n",
    "print(minCost(cost, m, n, 0, 0))"
   ]
  },
  {
   "source": [
    "## Memoized Solution"
   ],
   "cell_type": "markdown",
   "metadata": {}
  },
  {
   "source": [
    "def minCost(cost, m , n, i, j):\n",
    "\n",
    "        if (i == (m-1)) and (j == (n-1)):\n",
    "            return cost[i][j]\n",
    "        \n",
    "        if i>=m or j>=n:\n",
    "            return sys.maxsize\n",
    "\n",
    "        if dp[i][j+1] == sys.maxsize:\n",
    "            ans1 =  minCost(cost, m, n, i, j+1)\n",
    "            dp[i][j+1] = ans1\n",
    "        \n",
    "        else:\n",
    "            ans1 = dp[i][j+1]\n",
    "        \n",
    "        if dp[i+1][j] == sys.maxsize:\n",
    "            ans2 =  minCost(cost, m, n, i+1, j)\n",
    "            dp[i+1][j] = ans2\n",
    "        \n",
    "        else:\n",
    "            ans2 = dp[i+1][j]\n",
    "\n",
    "        if dp[i+1][j+1] == sys.maxsize:\n",
    "            ans3 =  minCost(cost, m, n, i+1, j+1)\n",
    "            dp[i+1][j+1] = ans3\n",
    "        \n",
    "        else:\n",
    "            ans3 = dp[i+1][j+1]\n",
    "\n",
    "        return cost[i][j] + min(ans1,ans2,ans3)\n",
    "\n",
    "\n",
    "li = list(map(int, input().split()))\n",
    "m = int(li[0])\n",
    "n = int(li[1])\n",
    "\n",
    "cost = [list(map(int, input().strip().split(\" \"))) for row in range(m)]\n",
    "dp = [[sys.maxsize for j in range(n+1)] for i in range(m+1)]\n",
    "\n",
    "print(minCost(cost, m, n, 0, 0))\n",
    "\n",
    "for i in range(m+1):\n",
    "    for j in range(n+1):\n",
    "        print(dp[i][j], end = ' ')\n",
    "    print()"
   ],
   "cell_type": "code",
   "metadata": {},
   "execution_count": 34,
   "outputs": [
    {
     "output_type": "stream",
     "name": "stdout",
     "text": [
      "18\n9223372036854775807 15 10 24 103 14 9223372036854775807 \n10 9 10 12 85 13 9223372036854775807 \n9 8 2 7 17 7 9223372036854775807 \n19 10 4 2 14 11 9223372036854775807 \n25 15 17 17 12 7 9223372036854775807 \n9223372036854775807 9223372036854775807 9223372036854775807 9223372036854775807 9223372036854775807 9223372036854775807 9223372036854775807 \n"
     ]
    }
   ]
  },
  {
   "cell_type": "code",
   "execution_count": 26,
   "metadata": {},
   "outputs": [
    {
     "output_type": "stream",
     "name": "stdout",
     "text": [
      "9223372036854775807\n"
     ]
    }
   ],
   "source": [
    "print(sys.maxsize)"
   ]
  },
  {
   "cell_type": "code",
   "execution_count": 28,
   "metadata": {},
   "outputs": [
    {
     "output_type": "execute_result",
     "data": {
      "text/plain": [
       "[[9223372036854775807, 9223372036854775807, 9223372036854775807],\n",
       " [9223372036854775807, 9223372036854775807, 9223372036854775807],\n",
       " [9223372036854775807, 9223372036854775807, 9223372036854775807]]"
      ]
     },
     "metadata": {},
     "execution_count": 28
    }
   ],
   "source": [
    "dp = [[sys.maxsize for j in range(n+1)] for i in range(m+1)]\n",
    "dp"
   ]
  },
  {
   "source": [
    "## Iterative Soln  (Bottom Up)"
   ],
   "cell_type": "markdown",
   "metadata": {}
  },
  {
   "cell_type": "code",
   "execution_count": 6,
   "metadata": {},
   "outputs": [
    {
     "output_type": "stream",
     "name": "stdout",
     "text": [
      "30\n"
     ]
    }
   ],
   "source": [
    "import sys\n",
    "from sys import stdin\n",
    "\n",
    "def minCost(cost, m , n, i, j):\n",
    "    \n",
    "    dp = [[sys.maxsize for j in range(n+1)] for i in range(m+1)]\n",
    "\n",
    "\n",
    "    for i in range(m-1,-1,-1):\n",
    "        for j in range(n-1,-1,-1):\n",
    "            if i == (m-1) and j == (n-1):\n",
    "                dp[i][j] = cost[i][j]\n",
    "            else:\n",
    "                dp[i][j] = min(dp[i][j+1], dp[i+1][j], dp[i+1][j+1]) + cost[i][j]\n",
    "    \n",
    "    return dp[0][0]\n",
    "        \n",
    "\n",
    "li = list(map(int, input().split()))\n",
    "m = int(li[0])\n",
    "n = int(li[1])\n",
    "\n",
    "cost = [list(map(int, input().strip().split(\" \"))) for row in range(m)]\n",
    "\n",
    "\n",
    "print(minCost(cost, m, n, 0, 0))\n"
   ]
  },
  {
   "cell_type": "code",
   "execution_count": null,
   "metadata": {},
   "outputs": [],
   "source": []
  },
  {
   "source": [
    "## Iterative Soln  (Top Down)"
   ],
   "cell_type": "markdown",
   "metadata": {}
  },
  {
   "cell_type": "code",
   "execution_count": 9,
   "metadata": {},
   "outputs": [
    {
     "output_type": "stream",
     "name": "stdout",
     "text": [
      "30\n"
     ]
    }
   ],
   "source": [
    "import sys\n",
    "from sys import stdin\n",
    "\n",
    "def minCost(cost, m , n):\n",
    "    \n",
    "    dp = [[sys.maxsize for j in range(n+1)] for i in range(m+1)]\n",
    "\n",
    "\n",
    "    for i in range(1,m+1):\n",
    "        for j in range(1,n+1):\n",
    "            if i == (1) and j == (1):\n",
    "                dp[i][j] = cost[0][0]\n",
    "            else:\n",
    "                dp[i][j] = min(dp[i][j-1], dp[i-1][j], dp[i-1][j-1]) + cost[i-1][j-1]\n",
    "    \n",
    "    return dp[m][n]\n",
    "        \n",
    "\n",
    "li = list(map(int, input().split()))\n",
    "m = int(li[0])\n",
    "n = int(li[1])\n",
    "\n",
    "cost = [list(map(int, input().strip().split(\" \"))) for row in range(m)]\n",
    "\n",
    "\n",
    "print(minCost(cost, m, n))\n"
   ]
  },
  {
   "cell_type": "code",
   "execution_count": null,
   "metadata": {},
   "outputs": [],
   "source": []
  }
 ]
}