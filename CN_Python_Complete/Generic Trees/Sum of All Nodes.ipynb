{
 "cells": [
  {
   "cell_type": "code",
   "execution_count": 2,
   "metadata": {},
   "outputs": [],
   "source": [
    "class TreeNode():\n",
    "    def __init__(self,data):\n",
    "        self.data = data\n",
    "        self.children = []\n"
   ]
  },
  {
   "cell_type": "code",
   "execution_count": 13,
   "metadata": {},
   "outputs": [],
   "source": [
    "def takeTreeInput():\n",
    "    if root == None:\n",
    "        return\n",
    "    print('Enter root data')\n",
    "    rootData = int(input())\n",
    "    root = TreeNode(rootData)\n",
    "    print('Enter the nummber of children of ', root.data)\n",
    "    childCount = int(input())\n",
    "    print('Enter the children of ', root.data)\n",
    "    for i in range(childCount):\n",
    "        child = takeTreeInput()\n",
    "        root.chidren.append(child)\n",
    "    return root"
   ]
  },
  {
   "cell_type": "code",
   "execution_count": 30,
   "metadata": {},
   "outputs": [],
   "source": [
    "def printTreeDetailed(root):\n",
    "    if root == None:\n",
    "        return\n",
    "    print(root.data, \":\", end = '')\n",
    "    for child in root.children:\n",
    "        print(child.data,end= ', ')\n",
    "        \n",
    "    print()\n",
    "    for child in root.children:\n",
    "        printTreeDetailed(child)"
   ]
  },
  {
   "cell_type": "code",
   "execution_count": 31,
   "metadata": {},
   "outputs": [],
   "source": [
    "def takeTreeInput():\n",
    "    print('Enter root data')\n",
    "    rootData = int(input())\n",
    "    root = TreeNode(rootData)\n",
    "    print('Enter the nummber of children')\n",
    "    childCount = int(input())\n",
    "    for i in range(childCount):\n",
    "        child = takeTreeInput()\n",
    "        root.children.append(child)\n",
    "    return root"
   ]
  },
  {
   "cell_type": "code",
   "execution_count": 32,
   "metadata": {},
   "outputs": [],
   "source": [
    "def numNodes(root):\n",
    "    if root == None:\n",
    "        return 0\n",
    "    count = 1\n",
    "    for child in root.children:\n",
    "        count+=numNodes(child)\n",
    "    return count"
   ]
  },
  {
   "cell_type": "code",
   "execution_count": 66,
   "metadata": {},
   "outputs": [],
   "source": [
    "def sumofNodes(root):\n",
    "    if root == None:\n",
    "        return 0\n",
    "    s = root.data\n",
    "    for child in root.children:\n",
    "        s+= sumofNodes(child)\n",
    "    return s"
   ]
  },
  {
   "cell_type": "code",
   "execution_count": 67,
   "metadata": {},
   "outputs": [
    {
     "name": "stdout",
     "output_type": "stream",
     "text": [
      "Enter root data\n",
      "5\n",
      "Enter the nummber of children\n",
      "4\n",
      "Enter root data\n",
      "2\n",
      "Enter the nummber of children\n",
      "0\n",
      "Enter root data\n",
      "9\n",
      "Enter the nummber of children\n",
      "2\n",
      "Enter root data\n",
      "15\n",
      "Enter the nummber of children\n",
      "0\n",
      "Enter root data\n",
      "1\n",
      "Enter the nummber of children\n",
      "0\n",
      "Enter root data\n",
      "8\n",
      "Enter the nummber of children\n",
      "0\n",
      "Enter root data\n",
      "7\n",
      "Enter the nummber of children\n",
      "0\n",
      "5 :2, 9, 8, 7, \n",
      "2 :\n",
      "9 :15, 1, \n",
      "15 :\n",
      "1 :\n",
      "8 :\n",
      "7 :\n",
      "The no of nodes =  7\n",
      "The sum of nodes =  47\n"
     ]
    }
   ],
   "source": [
    "root = takeTreeInput()\n",
    "printTreeDetailed(root)\n",
    "print('The no of nodes = ', numNodes(root))\n",
    "print('The sum of nodes = ', sumofNodes(root))"
   ]
  },
  {
   "cell_type": "code",
   "execution_count": null,
   "metadata": {},
   "outputs": [],
   "source": []
  }
 ],
 "metadata": {
  "kernelspec": {
   "display_name": "Python 3",
   "language": "python",
   "name": "python3"
  },
  "language_info": {
   "codemirror_mode": {
    "name": "ipython",
    "version": 3
   },
   "file_extension": ".py",
   "mimetype": "text/x-python",
   "name": "python",
   "nbconvert_exporter": "python",
   "pygments_lexer": "ipython3",
   "version": "3.8.3"
  }
 },
 "nbformat": 4,
 "nbformat_minor": 4
}
