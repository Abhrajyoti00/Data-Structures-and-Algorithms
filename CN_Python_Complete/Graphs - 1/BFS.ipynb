{
 "metadata": {
  "language_info": {
   "codemirror_mode": {
    "name": "ipython",
    "version": 3
   },
   "file_extension": ".py",
   "mimetype": "text/x-python",
   "name": "python",
   "nbconvert_exporter": "python",
   "pygments_lexer": "ipython3",
   "version": "3.8.3-final"
  },
  "orig_nbformat": 2,
  "kernelspec": {
   "name": "python3",
   "display_name": "Python 3",
   "language": "python"
  }
 },
 "nbformat": 4,
 "nbformat_minor": 2,
 "cells": [
  {
   "cell_type": "code",
   "execution_count": 3,
   "metadata": {},
   "outputs": [
    {
     "output_type": "stream",
     "name": "stdout",
     "text": [
      "0 1 3 2 4 5 6 "
     ]
    }
   ],
   "source": [
    "import queue\n",
    "\n",
    "class Graph:\n",
    "    def __init__(self, nVertices):\n",
    "        self.nVertices = nVertices\n",
    "        self.adjMatrix = [[0 for j in range(nVertices)] for i in range(nVertices)]\n",
    "\n",
    "    def addEdge(self, v1,v2):\n",
    "    \n",
    "        self.adjMatrix[v1][v2] = 1\n",
    "        self.adjMatrix[v2][v1] = 1\n",
    "    \n",
    "    def removeEdge(self, v1, v2):\n",
    "        if self.containsEdge(v1,v2) is False:\n",
    "            return\n",
    "        self.adjMatrix[v1][v2] = 0\n",
    "        self.adjMatrix[v2][v1] = 0\n",
    "\n",
    "    def containsEdge(self, v1, v2):\n",
    "        return True if self.adjMatrix[v1][v2]>0 and self.adjMatrix[v2][v1] > 0 else False\n",
    "\n",
    "    def __str__(self):\n",
    "        return str(self.adjMatrix)\n",
    "\n",
    "\n",
    "    def __dfsHelper(self, sv, visited):\n",
    "        print(sv)\n",
    "        visited[sv] = True\n",
    "\n",
    "        for i in range(self.nVertices):\n",
    "            if self.adjMatrix[sv][i] > 0 and visited[i] is False:  # Not visited and edge is present:\n",
    "                self.__dfsHelper(i, visited)\n",
    "\n",
    "    def dfs(self):\n",
    "        visited = [False for i in range(self.nVertices)]\n",
    "        self.__dfsHelper(0,visited)\n",
    "\n",
    "\n",
    "    def __bfs (self, sv, visited):\n",
    "        q = queue.Queue()\n",
    "        q.put(sv)\n",
    "        visited[sv] = True\n",
    "        while q.empty() is False :\n",
    "            u = q.get()\n",
    "            print(u, end= \" \" )\n",
    "            for i in range(self.nVertices) :\n",
    "                if self.adjMatrix[u][i] > 0 and visited[i] is False :\n",
    "                    q.put(i)\n",
    "                    visited[i] = True\n",
    "    def bfs (self):\n",
    "        visited = [ False for i in range(self.nVertices)]\n",
    "        for i in range(self.nVertices):\n",
    "            if visited[i] is False :\n",
    "                self.__bfs(i, visited)\n",
    "\n",
    "\n",
    "\n",
    "ve = list(map(int,input().split()))\n",
    "v = ve[0]\n",
    "e = ve[1]\n",
    "g = Graph(v)\n",
    "for i in range(e):\n",
    "    v1v2 = list(map(int,input().split()))\n",
    "    v1 = v1v2[0]\n",
    "    v2 = v1v2[1]\n",
    "    g.addEdge(v1,v2)\n",
    "\n",
    "g.bfs()"
   ]
  },
  {
   "cell_type": "code",
   "execution_count": null,
   "metadata": {},
   "outputs": [],
   "source": []
  }
 ]
}