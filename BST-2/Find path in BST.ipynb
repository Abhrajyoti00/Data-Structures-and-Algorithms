{
 "cells": [
  {
   "cell_type": "code",
   "execution_count": 3,
   "metadata": {},
   "outputs": [
    {
     "name": "stdout",
     "output_type": "stream",
     "text": [
      "1229 501 1551 145 627 1382 1677 93 289 569 677 1334 1410 1556 1803 -1 -1 -1 299 -1 -1 -1 1184 -1 -1 -1 1482 -1 1604 -1 1862 -1 -1 -1 -1 -1 -1 -1 -1 -1 -1\n",
      "627\n",
      "627\n",
      "501\n",
      "1229\n"
     ]
    }
   ],
   "source": [
    "import queue\n",
    "class BinaryTreeNode:\n",
    "    def __init__(self, data):\n",
    "        self.data = data\n",
    "        self.left = None\n",
    "        self.right = None\n",
    "\n",
    "def findPathBST(root,s):\n",
    "    if root == None:\n",
    "        return None\n",
    "    if root.data == s:\n",
    "        l = list()\n",
    "        l.append(root.data)\n",
    "        return l\n",
    "\n",
    "    if root.data > s:\n",
    "        leftOutput = findPathBST(root.left, s)\n",
    "        if leftOutput !=None:\n",
    "            leftOutput.append(root.data)\n",
    "            return leftOutput\n",
    "    if root.data <s:\n",
    "        rightOutput = findPathBST(root.right,s)\n",
    "        if rightOutput!=None:\n",
    "            rightOutput.append(root.data)\n",
    "            return rightOutput\n",
    "    else:\n",
    "        return None\n",
    "\n",
    "def buildLevelTree(levelorder):\n",
    "    index = 0\n",
    "    length = len(levelorder)\n",
    "    if length<=0 or levelorder[0]==-1:\n",
    "        return None\n",
    "    root = BinaryTreeNode(levelorder[index])\n",
    "    index += 1\n",
    "    q = queue.Queue()\n",
    "    q.put(root)\n",
    "    while not q.empty():\n",
    "        currentNode = q.get()\n",
    "        leftChild = levelorder[index]\n",
    "        index += 1\n",
    "        if leftChild != -1:\n",
    "            leftNode = BinaryTreeNode(leftChild)\n",
    "            currentNode.left =leftNode\n",
    "            q.put(leftNode)\n",
    "        rightChild = levelorder[index]\n",
    "        index += 1\n",
    "        if rightChild != -1:\n",
    "            rightNode = BinaryTreeNode(rightChild)\n",
    "            currentNode.right =rightNode\n",
    "            q.put(rightNode)\n",
    "    return root\n",
    "\n",
    "# Main\n",
    "levelOrder = [int(i) for i in input().strip().split()]\n",
    "root = buildLevelTree(levelOrder)\n",
    "data = int(input())\n",
    "path = findPathBST(root,data)\n",
    "if path is not None:\n",
    "    for ele in path:\n",
    "        print(ele)"
   ]
  },
  {
   "cell_type": "code",
   "execution_count": null,
   "metadata": {},
   "outputs": [],
   "source": []
  }
 ],
 "metadata": {
  "kernelspec": {
   "display_name": "Python 3",
   "language": "python",
   "name": "python3"
  },
  "language_info": {
   "codemirror_mode": {
    "name": "ipython",
    "version": 3
   },
   "file_extension": ".py",
   "mimetype": "text/x-python",
   "name": "python",
   "nbconvert_exporter": "python",
   "pygments_lexer": "ipython3",
   "version": "3.8.3"
  }
 },
 "nbformat": 4,
 "nbformat_minor": 4
}
