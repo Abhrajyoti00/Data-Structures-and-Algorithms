{
 "metadata": {
  "language_info": {
   "codemirror_mode": {
    "name": "ipython",
    "version": 3
   },
   "file_extension": ".py",
   "mimetype": "text/x-python",
   "name": "python",
   "nbconvert_exporter": "python",
   "pygments_lexer": "ipython3",
   "version": "3.8.3-final"
  },
  "orig_nbformat": 2,
  "kernelspec": {
   "name": "python3",
   "display_name": "Python 3"
  }
 },
 "nbformat": 4,
 "nbformat_minor": 2,
 "cells": [
  {
   "source": [
    "# Problem Statement\n",
    "\n",
    "\n",
    "A numnber n is given. Reduce it to 1 by the 3 conditions :-\n",
    "\n",
    "1) You can always Reduce it from n to (n-1)\n",
    "\n",
    "2) You can reduce from n to (n/2) if it is divisible by 2\n",
    "\n",
    "3) You can reduce from n to (n/3) if it is divisible by 3\n",
    "\n",
    "Eg : 10->5->4->2->1 (4 Steps) but,  10->9->3->1 (3 Steps),  So ans = 3"
   ],
   "cell_type": "markdown",
   "metadata": {}
  },
  {
   "source": [
    "## Recursive Solution"
   ],
   "cell_type": "markdown",
   "metadata": {}
  },
  {
   "cell_type": "code",
   "execution_count": 2,
   "metadata": {},
   "outputs": [
    {
     "output_type": "stream",
     "name": "stdout",
     "text": [
      "3\n"
     ]
    }
   ],
   "source": [
    "\n",
    "\n",
    "\n",
    "def minStepstoOneRecursive(n):\n",
    "    ans1 = sys.maxsize\n",
    "    ans2 = sys.maxsize\n",
    "    ans3 = sys.maxsize\n",
    "\n",
    "    if n == 1:\n",
    "        return 0\n",
    "\n",
    "    if n%3==0:\n",
    "        ans3 = minStepstoOneRecursive(n//3)\n",
    "    \n",
    "    if n%2==0:\n",
    "        ans2 = minStepstoOneRecursive(n//2)\n",
    "\n",
    "    ans1 = minStepstoOneRecursive(n-1)\n",
    "\n",
    "    ans = (1+min(ans1,ans2,ans3))\n",
    "    return ans\n",
    "\n",
    "n = int(input())\n",
    "print(minStepstoOneRecursive(n))\n"
   ]
  },
  {
   "source": [
    "## Memoized Solution"
   ],
   "cell_type": "markdown",
   "metadata": {}
  },
  {
   "cell_type": "code",
   "execution_count": 16,
   "metadata": {},
   "outputs": [
    {
     "output_type": "stream",
     "name": "stdout",
     "text": [
      "3\n"
     ]
    }
   ],
   "source": [
    "def minStepstoOneRecursive(n,dp):\n",
    "    ans1 = sys.maxsize\n",
    "    ans2 = sys.maxsize\n",
    "    ans3 = sys.maxsize\n",
    "\n",
    "    if n == 1:\n",
    "        return 0\n",
    "\n",
    "    if n%3==0:\n",
    "        if dp[n//3] == -1:\n",
    "            ans3 = minStepstoOneRecursive(n//3,dp)\n",
    "            dp[n//3] = ans3\n",
    "        else:\n",
    "            ans3 = dp[n//3]\n",
    "    if n%2==0:\n",
    "        \n",
    "        if dp[n//2] == -1:\n",
    "            ans2 = minStepstoOneRecursive(n//2,dp)\n",
    "            dp[n//2] = ans2\n",
    "        else:\n",
    "            ans2 = dp[n//2]\n",
    "    \n",
    "    if dp[n-1] == -1:\n",
    "        ans1 = minStepstoOneRecursive(n-1,dp)\n",
    "        dp[n-1] = ans1\n",
    "    else:\n",
    "        ans1 = dp[n-1]\n",
    "\n",
    "    ans = (1+min(ans1,ans2,ans3))\n",
    "    return ans\n",
    "\n",
    "n = int(input())\n",
    "dp = [-1 for i in range (n+1)]\n",
    "print(minStepstoOneRecursive(n,dp))\n"
   ]
  },
  {
   "source": [
    "## Iterative Solution\n",
    "\n",
    "\n"
   ],
   "cell_type": "markdown",
   "metadata": {}
  },
  {
   "cell_type": "code",
   "execution_count": 43,
   "metadata": {},
   "outputs": [
    {
     "output_type": "stream",
     "name": "stdout",
     "text": [
      "19\n"
     ]
    }
   ],
   "source": [
    "def minStepstoOneRecursive(n):\n",
    "    dp = [0 for i in range (n+1)]\n",
    "\n",
    "    dp[1] = 0\n",
    "\n",
    "    for i in range(2,n+1):\n",
    "        res = dp[i-1]\n",
    "        if(i%3 == 0):\n",
    "            res = min(res, dp[i//3])\n",
    "        if(i%2 ==0):\n",
    "            res = min(res, dp[i//2])\n",
    "\n",
    "        dp[i] = 1+res\n",
    "    return dp[n]\n",
    "\n",
    "n = int(input())\n",
    "\n",
    "print(minStepstoOneRecursive(n))\n"
   ]
  },
  {
   "cell_type": "code",
   "execution_count": 30,
   "metadata": {},
   "outputs": [
    {
     "output_type": "stream",
     "name": "stdout",
     "text": [
      "Yes\n"
     ]
    }
   ],
   "source": [
    "n = 4\n",
    "if (not(n%2)):\n",
    "    print('Yes')\n",
    "else:\n",
    "    print('No')"
   ]
  },
  {
   "cell_type": "code",
   "execution_count": null,
   "metadata": {},
   "outputs": [],
   "source": []
  }
 ]
}