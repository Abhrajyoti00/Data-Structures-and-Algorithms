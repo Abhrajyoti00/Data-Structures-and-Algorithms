{
 "metadata": {
  "language_info": {
   "codemirror_mode": {
    "name": "ipython",
    "version": 3
   },
   "file_extension": ".py",
   "mimetype": "text/x-python",
   "name": "python",
   "nbconvert_exporter": "python",
   "pygments_lexer": "ipython3",
   "version": "3.9.0-final"
  },
  "orig_nbformat": 2,
  "kernelspec": {
   "name": "Python 3.9.0 64-bit",
   "display_name": "Python 3.9.0 64-bit",
   "metadata": {
    "interpreter": {
     "hash": "86fac28bb28b019b7f775f2fe5ba6a78f4263158a8fbe5bc11c7908c73e10420"
    }
   }
  }
 },
 "nbformat": 4,
 "nbformat_minor": 2,
 "cells": [
  {
   "source": [
    "## Structure of Classes :- \n",
    "\n",
    "class Map:\n",
    "- buckets\n",
    "- bucket size\n",
    "- count -- How many elements are inserted\n",
    "\n",
    "class MapNode:\n",
    "- key\n",
    "- value\n",
    "- next\n",
    "\n"
   ],
   "cell_type": "markdown",
   "metadata": {}
  },
  {
   "source": [
    "## Functions of Hash Map :-\n",
    "\n",
    "- Insert(key,value)\n",
    "- Remove(key, value)\n",
    "- search ( key)\n"
   ],
   "cell_type": "markdown",
   "metadata": {}
  },
  {
   "cell_type": "code",
   "execution_count": null,
   "metadata": {},
   "outputs": [],
   "source": []
  }
 ]
}