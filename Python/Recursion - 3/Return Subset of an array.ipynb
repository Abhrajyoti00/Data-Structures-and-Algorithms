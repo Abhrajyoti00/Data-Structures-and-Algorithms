{
 "metadata": {
  "language_info": {
   "codemirror_mode": {
    "name": "ipython",
    "version": 3
   },
   "file_extension": ".py",
   "mimetype": "text/x-python",
   "name": "python",
   "nbconvert_exporter": "python",
   "pygments_lexer": "ipython3",
   "version": "3.8.3-final"
  },
  "orig_nbformat": 2,
  "kernelspec": {
   "name": "python3",
   "display_name": "Python 3"
  }
 },
 "nbformat": 4,
 "nbformat_minor": 2,
 "cells": [
  {
   "cell_type": "code",
   "execution_count": 1,
   "metadata": {},
   "outputs": [
    {
     "output_type": "execute_result",
     "data": {
      "text/plain": [
       "[1, 2, 3, 4]"
      ]
     },
     "metadata": {},
     "execution_count": 1
    }
   ],
   "source": [
    "arr = [1,2,3,4,5]\n",
    "arr[:-1]"
   ]
  },
  {
   "source": [
    "## Proper Code :)"
   ],
   "cell_type": "markdown",
   "metadata": {}
  },
  {
   "cell_type": "code",
   "execution_count": 7,
   "metadata": {},
   "outputs": [
    {
     "output_type": "stream",
     "name": "stdout",
     "text": [
      "\n3 \n2 \n2 3 \n1 \n1 3 \n1 2 \n1 2 3 \n"
     ]
    }
   ],
   "source": [
    "def subset(arr):\n",
    "    if len(arr) == 0:\n",
    "        output = [[]]\n",
    "        return output\n",
    "    else:\n",
    "        output = [[]]\n",
    "        smaller_array = arr[1:]\n",
    "        smaller_output = subset(smaller_array)\n",
    "        output = smaller_output.copy()\n",
    "        for i in range(len(smaller_output)):\n",
    "            output.append([arr[0]]+smaller_output[i])\n",
    "\n",
    "        return output\n",
    "\n",
    "\n",
    "\n",
    "n = int(input())\n",
    "arr = list(map(int, input().split()))\n",
    "liOfLi = subset(arr)\n",
    "for li in liOfLi :\n",
    "        for elem in li :\n",
    "            print(elem, end = \" \")\n",
    "        print()"
   ]
  },
  {
   "source": [
    "### Some rough works :-"
   ],
   "cell_type": "markdown",
   "metadata": {}
  },
  {
   "cell_type": "code",
   "execution_count": 6,
   "metadata": {},
   "outputs": [
    {
     "output_type": "stream",
     "name": "stdout",
     "text": [
      "[[1, 2, 3], [4, 5, 6], [7, 8, 9], [100, 1, 2, 3], [100, 4, 5, 6], [100, 7, 8, 9]]\n"
     ]
    }
   ],
   "source": [
    "small = [[1,2,3], [4,5,6], [7,8,9]]\n",
    "output = small.copy()\n",
    "for i in range(len(small)):\n",
    "    output.append([100]+small[i])\n",
    "# for lists in output:\n",
    "#     lists.append\n",
    "print(output)"
   ]
  },
  {
   "cell_type": "code",
   "execution_count": null,
   "metadata": {},
   "outputs": [],
   "source": []
  },
  {
   "cell_type": "code",
   "execution_count": null,
   "metadata": {},
   "outputs": [],
   "source": []
  }
 ]
}