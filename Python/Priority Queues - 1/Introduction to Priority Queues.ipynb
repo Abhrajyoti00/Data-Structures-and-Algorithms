{
 "metadata": {
  "language_info": {
   "codemirror_mode": {
    "name": "ipython",
    "version": 3
   },
   "file_extension": ".py",
   "mimetype": "text/x-python",
   "name": "python",
   "nbconvert_exporter": "python",
   "pygments_lexer": "ipython3",
   "version": 3
  },
  "orig_nbformat": 2
 },
 "nbformat": 4,
 "nbformat_minor": 2,
 "cells": [
  {
   "source": [
    "Problem : Which one will come first?\n",
    "\n",
    "Need to deciude on the basis of priority\n",
    "\n",
    "Eg, Seat reservation in flghts, Bed reservation in hosptal beds\n",
    "\n",
    ".) Importance factor is the key\n",
    "\n"
   ],
   "cell_type": "markdown",
   "metadata": {}
  },
  {
   "source": [
    "2 things:\n",
    "1) Value\n",
    "2) Priority\n"
   ],
   "cell_type": "markdown",
   "metadata": {}
  },
  {
   "source": [
    "We will insert elements in ppriority queue in the same way we do in queue.\n"
   ],
   "cell_type": "markdown",
   "metadata": {}
  },
  {
   "source": [
    "Variations :-\n",
    "\n",
    "1) min priority queue : Least priority comes out first\n",
    "2) max priorirty queue : Max priority comes out first\n",
    "\n",
    "\n",
    "1) Insert \n",
    "\n",
    "3, 50   : Most priority\n",
    "2, 20\n",
    "1, 18   : Least priority\n",
    "\n",
    "2) Get Min/ Get Max : -> similar to top\n",
    "3) Remove Min/Remove Max : -> Like Pop\n",
    "\n",
    "\n",
    "\n"
   ],
   "cell_type": "markdown",
   "metadata": {}
  },
  {
   "cell_type": "code",
   "execution_count": null,
   "metadata": {},
   "outputs": [],
   "source": []
  }
 ]
}