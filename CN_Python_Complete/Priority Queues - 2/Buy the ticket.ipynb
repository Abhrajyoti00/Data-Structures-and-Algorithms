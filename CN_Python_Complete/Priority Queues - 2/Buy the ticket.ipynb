{
 "metadata": {
  "language_info": {
   "codemirror_mode": {
    "name": "ipython",
    "version": 3
   },
   "file_extension": ".py",
   "mimetype": "text/x-python",
   "name": "python",
   "nbconvert_exporter": "python",
   "pygments_lexer": "ipython3",
   "version": "3.8.3-final"
  },
  "orig_nbformat": 2,
  "kernelspec": {
   "name": "python3",
   "display_name": "Python 3"
  }
 },
 "nbformat": 4,
 "nbformat_minor": 2,
 "cells": [
  {
   "cell_type": "code",
   "execution_count": 9,
   "metadata": {
    "tags": []
   },
   "outputs": [
    {
     "output_type": "stream",
     "name": "stdout",
     "text": [
      "16\n"
     ]
    }
   ],
   "source": [
    "import heapq\n",
    "\n",
    "\n",
    "# if current person is the highest priority one, remove him from priority queue, increase time by 1\n",
    "\n",
    "# if not, remove it and insert it at the last of the queue.\n",
    "\n",
    "#Function to implement\n",
    "def buyTicket(arr, n, k) : \n",
    "    pq = []\n",
    "    for ele in arr:\n",
    "        pq.append(ele)\n",
    "    heapq._heapify_max(pq)\n",
    "    indices_list = []\n",
    "    time = 0\n",
    "\n",
    "    for ind in range(len(arr)):\n",
    "        indices_list.append(ind)\n",
    "    \n",
    "    while(len(indices_list)!=0):\n",
    "        curr_person_index = indices_list[0]\n",
    "        # print('ind = ', curr_person_index)\n",
    "        # print('pq = ',pq)\n",
    "        # print('Arr is : ', arr)\n",
    "        # print('indices_list = ', indices_list)\n",
    "        \n",
    "        max_priority = pq[0]\n",
    "        if max_priority == arr[curr_person_index] and curr_person_index == k:\n",
    "            heapq._heappop_max(pq)\n",
    "            time+=1\n",
    "            return time\n",
    "        \n",
    "        if max_priority == arr[curr_person_index]:\n",
    "            heapq._heappop_max(pq)\n",
    "            t = curr_person_index\n",
    "            indices_list.remove(curr_person_index)\n",
    "            time+=1\n",
    "        \n",
    "        if max_priority > arr[curr_person_index]:\n",
    "            t = curr_person_index\n",
    "            indices_list.remove(curr_person_index)\n",
    "            indices_list.append(t)\n",
    "        # print('time = ', time)\n",
    "\n",
    "\n",
    "#taking input using fast I/O\n",
    "def takeInput() :\n",
    "    \n",
    "    n = int(input())\n",
    "    \n",
    "    if n == 0 :\n",
    "        return n, list(), int(stdin.readline().strip())\n",
    "    \n",
    "    arr = list(map(int,input().split(\" \")))\n",
    "    \n",
    "    k = int(input())\n",
    "    \n",
    "    return n, arr, k\n",
    "\n",
    "\n",
    "#main\n",
    "n, arr, k = takeInput()\n",
    "print(buyTicket(arr, n, k))"
   ]
  },
  {
   "source": [
    "# CodeZen Solution"
   ],
   "cell_type": "markdown",
   "metadata": {}
  },
  {
   "cell_type": "code",
   "execution_count": 12,
   "metadata": {},
   "outputs": [
    {
     "output_type": "stream",
     "name": "stdout",
     "text": [
      "3\n"
     ]
    }
   ],
   "source": [
    "import heapq\n",
    "def ticket(arr,k,count):\n",
    "    Priority=arr[k]\n",
    "    heapq._heapify_max(arr)\n",
    "    time=0\n",
    "    while True:\n",
    "        temp=heapq._heappop_max(arr)\n",
    "        time+=1\n",
    "        if temp==Priority:\n",
    "            count-=1\n",
    "            if count<=0:\n",
    "            \treturn time\n",
    "            \n",
    "n = int(input())                \n",
    "li = [int(x) for x in input().split()]\n",
    "k = int(input())\n",
    "count=0\n",
    "for i in range(k+1):\n",
    "    if li[k]==li[i]:\n",
    "        count+=1\n",
    "print(ticket(li,k,count))"
   ]
  },
  {
   "cell_type": "code",
   "execution_count": null,
   "metadata": {},
   "outputs": [],
   "source": []
  }
 ]
}