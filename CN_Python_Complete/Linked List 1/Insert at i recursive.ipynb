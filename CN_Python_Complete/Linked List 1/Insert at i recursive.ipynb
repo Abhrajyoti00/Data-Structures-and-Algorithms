{
 "cells": [
  {
   "cell_type": "code",
   "execution_count": 15,
   "metadata": {},
   "outputs": [
    {
     "name": "stdout",
     "output_type": "stream",
     "text": [
      "-1\n",
      "None\n",
      "0\n",
      "7\n",
      "None\n"
     ]
    }
   ],
   "source": [
    "class Node:\n",
    "    def __init__(self,data):\n",
    "        self.data = data\n",
    "        self.next = None\n",
    "def printLL(head):\n",
    "    while head is not None:\n",
    "        print(str(head.data)+\"->\",end = '')\n",
    "        head = head.next\n",
    "    print(\"None\")\n",
    "    return\n",
    "\n",
    "def takeInput():\n",
    "    inputList = list(map(int,input().split()))\n",
    "    head = None\n",
    "    tail = None\n",
    "    for currData in inputList:\n",
    "        if currData == -1:\n",
    "            break\n",
    "        newNode = Node(currData)\n",
    "        if head is None:\n",
    "            head = newNode\n",
    "            tail = head\n",
    "        else:\n",
    "            tail.next = newNode\n",
    "            tail = newNode\n",
    "    return head\n",
    "def insert(head,pos,data):\n",
    "    if pos == 0:\n",
    "        newNode = Node(data)\n",
    "        newNode.next = head\n",
    "        return newNode\n",
    "    if pos<0 or head is None:\n",
    "        return head\n",
    "    head.next = insert(head.next,pos-1,data)\n",
    "    return head\n",
    "head = takeInput()\n",
    "printLL(head)\n",
    "pos = int(input())\n",
    "data = int(input())\n",
    "insert(head,pos,data)\n",
    "printLL(head)"
   ]
  },
  {
   "cell_type": "code",
   "execution_count": null,
   "metadata": {},
   "outputs": [],
   "source": []
  }
 ],
 "metadata": {
  "kernelspec": {
   "display_name": "Python 3",
   "language": "python",
   "name": "python3"
  },
  "language_info": {
   "codemirror_mode": {
    "name": "ipython",
    "version": 3
   },
   "file_extension": ".py",
   "mimetype": "text/x-python",
   "name": "python",
   "nbconvert_exporter": "python",
   "pygments_lexer": "ipython3",
   "version": "3.8.3"
  }
 },
 "nbformat": 4,
 "nbformat_minor": 4
}
