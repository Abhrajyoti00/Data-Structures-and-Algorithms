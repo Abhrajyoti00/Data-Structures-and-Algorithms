{
 "metadata": {
  "language_info": {
   "codemirror_mode": {
    "name": "ipython",
    "version": 3
   },
   "file_extension": ".py",
   "mimetype": "text/x-python",
   "name": "python",
   "nbconvert_exporter": "python",
   "pygments_lexer": "ipython3",
   "version": 3
  },
  "orig_nbformat": 2
 },
 "nbformat": 4,
 "nbformat_minor": 2,
 "cells": [
  {
   "source": [
    "# HEAP ORDER PROPERTY\n",
    "\n",
    "IN TERMS OF MIN & MAX\n"
   ],
   "cell_type": "markdown",
   "metadata": {}
  },
  {
   "source": [
    "## MIN HEAP\n",
    "\n",
    "MIN HEAP is A HEAP, having CBT property and every parent should b less than its child\n",
    "\n",
    "Root is the smallest, TOP OF THE ELEMENT"
   ],
   "cell_type": "markdown",
   "metadata": {}
  },
  {
   "source": [
    "## MAX HEAP\n",
    "\n",
    "For MAX heap, every node's data is greater than it's child's data.\n",
    "\n",
    "Root is the largest  (TOP OF THE ELEMENT)\n",
    "\n"
   ],
   "cell_type": "markdown",
   "metadata": {}
  },
  {
   "cell_type": "code",
   "execution_count": null,
   "metadata": {},
   "outputs": [],
   "source": []
  }
 ]
}