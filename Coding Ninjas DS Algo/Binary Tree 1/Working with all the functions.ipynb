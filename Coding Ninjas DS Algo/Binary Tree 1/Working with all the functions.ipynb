{
 "cells": [
  {
   "cell_type": "code",
   "execution_count": 1,
   "metadata": {},
   "outputs": [],
   "source": [
    "class BinaryTreeNode:\n",
    "    def __init__(self,data):\n",
    "        self.data = data\n",
    "        self.left = None\n",
    "        self.right = None"
   ]
  },
  {
   "cell_type": "code",
   "execution_count": 2,
   "metadata": {},
   "outputs": [],
   "source": [
    "def printTree(root):\n",
    "    if root == None:\n",
    "        return\n",
    "    print(root.data)\n",
    "    printTree(root.left)\n",
    "    printTree(root.right)"
   ]
  },
  {
   "cell_type": "code",
   "execution_count": 3,
   "metadata": {},
   "outputs": [],
   "source": [
    "def printTreeDetailed(root):\n",
    "    if root == None:\n",
    "        return\n",
    "    print(root.data, end = ':')\n",
    "    if root.left !=None:\n",
    "        print(\"L\", root.left.data,end = ',')\n",
    "    if root.right!=None:\n",
    "        print(\"R\", root.right.data,end='')\n",
    "    print()\n",
    "    printTreeDetailed(root.left)\n",
    "    printTreeDetailed(root.right)"
   ]
  },
  {
   "cell_type": "code",
   "execution_count": 4,
   "metadata": {},
   "outputs": [],
   "source": [
    "def treeInput():\n",
    "    rootData = int(input())\n",
    "    if rootData == -1:\n",
    "        return\n",
    "    root = BinaryTreeNode(rootData)\n",
    "    root.left = treeInput()\n",
    "    root.right = treeInput()\n",
    "    return root"
   ]
  },
  {
   "cell_type": "code",
   "execution_count": 5,
   "metadata": {},
   "outputs": [],
   "source": [
    "def countNodes(root):\n",
    "    if root == None:\n",
    "        return 0\n",
    "    cl = countNodes(root.left)\n",
    "    cr = countNodes(root.right)\n",
    "    return (1+cl+cr)"
   ]
  },
  {
   "cell_type": "code",
   "execution_count": 13,
   "metadata": {},
   "outputs": [],
   "source": [
    "def getSum(root):\n",
    "    if root is None:\n",
    "        return 0\n",
    "    leftsum = getSum(root.left)\n",
    "    rightsum = getSum(root.right)\n",
    "    return root.data+leftsum+rightsum"
   ]
  },
  {
   "cell_type": "code",
   "execution_count": 14,
   "metadata": {},
   "outputs": [
    {
     "name": "stdout",
     "output_type": "stream",
     "text": [
      "4\n",
      "2\n",
      "7\n",
      "6\n",
      "-1\n",
      "-1\n",
      "3\n",
      "-1\n",
      "-1\n",
      "9\n",
      "-1\n",
      "-1\n",
      "8\n",
      "-1\n",
      "15\n",
      "4\n",
      "-1\n",
      "-1\n",
      "8\n",
      "-1\n",
      "-1\n",
      "4:L 2,R 8\n",
      "2:L 7,R 9\n",
      "7:L 6,R 3\n",
      "6:\n",
      "3:\n",
      "9:\n",
      "8:R 15\n",
      "15:L 4,R 8\n",
      "4:\n",
      "8:\n",
      "Count of Nodes = 10\n",
      "Sum of the Nodes = 66\n"
     ]
    }
   ],
   "source": [
    "root = treeInput()\n",
    "printTreeDetailed(root)\n",
    "print('Count of Nodes = '+ str(countNodes(root)))\n",
    "print('Sum of the Nodes = '+str(getSum(root)))"
   ]
  },
  {
   "cell_type": "code",
   "execution_count": null,
   "metadata": {},
   "outputs": [],
   "source": []
  }
 ],
 "metadata": {
  "kernelspec": {
   "display_name": "Python 3",
   "language": "python",
   "name": "python3"
  },
  "language_info": {
   "codemirror_mode": {
    "name": "ipython",
    "version": 3
   },
   "file_extension": ".py",
   "mimetype": "text/x-python",
   "name": "python",
   "nbconvert_exporter": "python",
   "pygments_lexer": "ipython3",
   "version": "3.8.2"
  }
 },
 "nbformat": 4,
 "nbformat_minor": 4
}
