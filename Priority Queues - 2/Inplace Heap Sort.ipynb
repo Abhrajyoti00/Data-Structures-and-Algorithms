{
 "metadata": {
  "language_info": {
   "codemirror_mode": {
    "name": "ipython",
    "version": 3
   },
   "file_extension": ".py",
   "mimetype": "text/x-python",
   "name": "python",
   "nbconvert_exporter": "python",
   "pygments_lexer": "ipython3",
   "version": "3.8.3-final"
  },
  "orig_nbformat": 2,
  "kernelspec": {
   "name": "python3",
   "display_name": "Python 3"
  }
 },
 "nbformat": 4,
 "nbformat_minor": 2,
 "cells": [
  {
   "source": [
    "Time Complexity : O(nlogn)\n",
    "Space Complexity : O(1)"
   ],
   "cell_type": "markdown",
   "metadata": {}
  },
  {
   "source": [
    "#### up heapify\n",
    "for i to n-1 {\n",
    "ci = i\n",
    "pi = (i-1)/2\n",
    "until ci = 0\n",
    "compare parernt with child\n",
    "} # Constructeh heap\n",
    "\n",
    "#### Down heapify\n",
    "for i= n-1 to 0\n",
    "{\n",
    "    ##### swap a[i], a[0]\n",
    "    until (i)   ---- range of heap\n",
    "        pi = i\n",
    "        lci = 2*i+1\n",
    "        rci = 2*i+2\n",
    "        while lci < i\n",
    "    \n",
    "}"
   ],
   "cell_type": "markdown",
   "metadata": {}
  },
  {
   "source": [
    "## Heap Construction in O(n) time complexity\n",
    "\n",
    "Point : If there are  n nodes in a CBT, there will be n/2 non - leaf nodes, and (n - n/2) leaf nodes\n",
    " \n",
    "\n",
    "for i = (n/2 -1) to 0:\n",
    "    downheapify(i,n)\n",
    "    just work on the non-leaf nodes\n",
    "\n",
    "\n",
    "### Removing Min elements\n",
    "\n",
    "for j = n-1 to 0:\n",
    "    DownHeapify(0,j)"
   ],
   "cell_type": "markdown",
   "metadata": {}
  },
  {
   "source": [
    "Start from the non leaf node\n",
    "Work on the left and right child.\n",
    "Heap will be built"
   ],
   "cell_type": "markdown",
   "metadata": {}
  },
  {
   "source": [
    "Proof of O(n) in copy"
   ],
   "cell_type": "markdown",
   "metadata": {}
  },
  {
   "source": [
    "# Code to sort array in descending order using heap sort in O(1) space complexity\n"
   ],
   "cell_type": "markdown",
   "metadata": {}
  },
  {
   "cell_type": "code",
   "execution_count": 1,
   "metadata": {},
   "outputs": [
    {
     "output_type": "stream",
     "name": "stdout",
     "text": [
      "11 10 9 7 6 4 3 "
     ]
    }
   ],
   "source": [
    "def downHeapify(arr,i,n):\n",
    "    parentIndex = i\n",
    "    leftChildIndex = 2*parentIndex+1\n",
    "    rightChildIndex = 2*parentIndex+2\n",
    "\n",
    "    while leftChildIndex<n:\n",
    "        minIndex = parentIndex\n",
    "        if arr[minIndex] > arr[leftChildIndex]:\n",
    "            minIndex = leftChildIndex\n",
    "        if rightChildIndex < n and arr[minIndex] > arr[rightChildIndex]:\n",
    "            minIndex = rightChildIndex\n",
    "        if minIndex == parentIndex:\n",
    "            return\n",
    "        arr[minIndex], arr[parentIndex] = arr[parentIndex], arr[minIndex]\n",
    "        \n",
    "        parentIndex = minIndex\n",
    "        leftChildIndex = 2*parentIndex+1\n",
    "        rightChildIndex = 2*parentIndex+2\n",
    "    return\n",
    "\n",
    "\n",
    "def heapSort(arr):\n",
    "    # Build the heap\n",
    "    n = len(arr)\n",
    "    for i in range(n//2 - 1, -1, -1):   # Go from n//2 - 1 to 0\n",
    "        downHeapify(arr,i,n)\n",
    "\n",
    "\n",
    "    # Remove the min elements\n",
    "    for i in range(n-1,0,-1):\n",
    "        arr[0], arr[i] = arr[i],arr[0]\n",
    "        downHeapify(arr,0,i)\n",
    "    return\n",
    "\n",
    "\n",
    "n = int(input())  # Enter the no of elements\n",
    "arr = list(map(int,input().split()))\n",
    "heapSort(arr)\n",
    "for ele in arr:   # If ascending oreder is needed then use list comprehension like, for ele in arr[::-1]\n",
    "    print(ele,end= ' ')\n"
   ]
  },
  {
   "cell_type": "code",
   "execution_count": null,
   "metadata": {},
   "outputs": [],
   "source": []
  }
 ]
}