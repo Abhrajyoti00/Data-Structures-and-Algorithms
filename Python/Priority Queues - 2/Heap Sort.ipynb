{
 "metadata": {
  "language_info": {
   "codemirror_mode": {
    "name": "ipython",
    "version": 3
   },
   "file_extension": ".py",
   "mimetype": "text/x-python",
   "name": "python",
   "nbconvert_exporter": "python",
   "pygments_lexer": "ipython3",
   "version": 3
  },
  "orig_nbformat": 2
 },
 "nbformat": 4,
 "nbformat_minor": 2,
 "cells": [
  {
   "source": [
    "Time Complexity : O(n log n )\n",
    "Space Complexity : O (n)"
   ],
   "cell_type": "markdown",
   "metadata": {}
  },
  {
   "source": [
    "Point is : We will insert the array elements into a heap. Then we will remove the min element from the heap and store it in an array....\n",
    "In this  way the array will be sorted."
   ],
   "cell_type": "markdown",
   "metadata": {}
  },
  {
   "cell_type": "code",
   "execution_count": null,
   "metadata": {},
   "outputs": [],
   "source": []
  }
 ]
}