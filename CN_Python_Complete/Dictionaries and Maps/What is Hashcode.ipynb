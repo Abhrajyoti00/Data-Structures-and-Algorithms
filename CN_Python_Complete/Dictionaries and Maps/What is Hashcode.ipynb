{
 "cells": [
  {
   "cell_type": "markdown",
   "metadata": {},
   "source": [
    "# Integer -> Integer\n",
    "\n",
    "# Strings\n",
    "\n",
    "Sum of Ascii values (Brutal)?? Wrong for 'abc' and 'bac'\n",
    "\n",
    "Another approach is :- \n",
    "\n",
    "Eg, for 'abc':- \n",
    "Hash code = 10^2 x ascii of 'a' + 10^1 x ascii of 'b' +10^0 x ascii of 'c'\n",
    "\n",
    "We need to use p (prime no) as the base... There's a reseacrh whivch says it is better to use prime no .\n",
    "\n",
    "\n",
    "\n",
    "We have inbuilt function called hash() in Python which autpmatically takes care of these ;)\n",
    "\n",
    "We will use this hash function , and use modulo fuction for compression .. The only probelm still left is Collision\n"
   ]
  },
  {
   "cell_type": "code",
   "execution_count": null,
   "metadata": {},
   "outputs": [],
   "source": []
  }
 ],
 "metadata": {
  "kernelspec": {
   "display_name": "Python 3",
   "language": "python",
   "name": "python3"
  },
  "language_info": {
   "codemirror_mode": {
    "name": "ipython",
    "version": 3
   },
   "file_extension": ".py",
   "mimetype": "text/x-python",
   "name": "python",
   "nbconvert_exporter": "python",
   "pygments_lexer": "ipython3",
   "version": "3.8.3"
  }
 },
 "nbformat": 4,
 "nbformat_minor": 4
}
