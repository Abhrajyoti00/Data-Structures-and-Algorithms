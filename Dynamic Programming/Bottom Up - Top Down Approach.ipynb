{
 "metadata": {
  "language_info": {
   "codemirror_mode": {
    "name": "ipython",
    "version": 3
   },
   "file_extension": ".py",
   "mimetype": "text/x-python",
   "name": "python",
   "nbconvert_exporter": "python",
   "pygments_lexer": "ipython3",
   "version": 3
  },
  "orig_nbformat": 2
 },
 "nbformat": 4,
 "nbformat_minor": 2,
 "cells": [
  {
   "source": [
    "## Bottom up\n",
    "\n",
    "dp(i,j) -> mincost from (i,j) to reach (n-1,m-1)\n",
    "\n",
    "dp(0,0) is my answer"
   ],
   "cell_type": "markdown",
   "metadata": {}
  },
  {
   "source": [
    "## Top Down Approach\n",
    "\n",
    "\n",
    "dp(i,j) -> Mincost from (0,0) to (i,j)\n",
    "\n",
    "dp(n-1,m-1) is my answer\n",
    "\n",
    "Here the code is :-\n",
    "\n",
    "mincost(i,j) = cost(i,j) + min(mincost(i-1,j), mincost(i,j-1), mincost(i-1,j-1))"
   ],
   "cell_type": "markdown",
   "metadata": {}
  },
  {
   "cell_type": "code",
   "execution_count": null,
   "metadata": {},
   "outputs": [],
   "source": []
  }
 ]
}