{
 "metadata": {
  "language_info": {
   "codemirror_mode": {
    "name": "ipython",
    "version": 3
   },
   "file_extension": ".py",
   "mimetype": "text/x-python",
   "name": "python",
   "nbconvert_exporter": "python",
   "pygments_lexer": "ipython3",
   "version": "3.9.0-final"
  },
  "orig_nbformat": 2,
  "kernelspec": {
   "name": "Python 3.9.0 64-bit",
   "display_name": "Python 3.9.0 64-bit",
   "metadata": {
    "interpreter": {
     "hash": "86fac28bb28b019b7f775f2fe5ba6a78f4263158a8fbe5bc11c7908c73e10420"
    }
   }
  }
 },
 "nbformat": 4,
 "nbformat_minor": 2,
 "cells": [
  {
   "source": [
    "## Question \n",
    "\n",
    "Given a string, you need to remove all the duplicates. That means, the output string should contain each character only once. The respective order of characters should remain same.\n",
    "\n",
    "\n",
    "\n",
    "Sample Input 1 :\n",
    "ababacd\n",
    "\n",
    "Sample Output 1 :\n",
    "abcd\n"
   ],
   "cell_type": "markdown",
   "metadata": {}
  },
  {
   "source": [
    "## Solution\n"
   ],
   "cell_type": "markdown",
   "metadata": {}
  },
  {
   "cell_type": "code",
   "execution_count": 14,
   "metadata": {},
   "outputs": [
    {
     "output_type": "stream",
     "name": "stdout",
     "text": [
      "abhrjyoti\n"
     ]
    }
   ],
   "source": [
    "def uniqueChars(string):\n",
    "    l = [s for s in string]\n",
    "    d = {}\n",
    "    nl = []\n",
    "    final_list = []\n",
    "    for s in string:\n",
    "        d[s] = d.get(s,0) + 1\n",
    "    \n",
    "    for alphas in l:\n",
    "        if d[alphas]>0:\n",
    "            d[alphas]=0\n",
    "            final_list.append(alphas)\n",
    "            \n",
    "    return (''.join(final_list))\n",
    "\n",
    "# Main\n",
    "string = input()\n",
    "print(uniqueChars(string))\n"
   ]
  },
  {
   "cell_type": "code",
   "execution_count": null,
   "metadata": {},
   "outputs": [],
   "source": []
  }
 ]
}