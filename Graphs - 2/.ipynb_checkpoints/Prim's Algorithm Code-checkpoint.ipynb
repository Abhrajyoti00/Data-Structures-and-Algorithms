{
 "cells": [
  {
   "cell_type": "code",
   "execution_count": 4,
   "metadata": {},
   "outputs": [
    {
     "name": "stdout",
     "output_type": "stream",
     "text": [
      "4 4\n",
      "0 1 3\n",
      "0 3 5\n",
      "1 2 1\n",
      "2 3 8\n",
      "0 1 3\n",
      "1 2 1\n",
      "0 3 5\n"
     ]
    }
   ],
   "source": [
    "import sys\n",
    "\n",
    "class Graph:\n",
    "    def __init__(self, nVertices):\n",
    "        self.nVertices = nVertices\n",
    "        self.adjMatrix = [[0 for j in range(nVertices)] for i in range(nVertices)]\n",
    "\n",
    "    def addEdge(self, v1,v2,wt):\n",
    "    \n",
    "        self.adjMatrix[v1][v2] = wt\n",
    "        self.adjMatrix[v2][v1] = wt    #Adjacency Matrix is storing the weight between two vertices\n",
    "    \n",
    "    def removeEdge(self, v1, v2):\n",
    "        if self.containsEdge(v1,v2) is False:\n",
    "            return\n",
    "        self.adjMatrix[v1][v2] = 0\n",
    "        self.adjMatrix[v2][v1] = 0\n",
    "\n",
    "    def containsEdge(self, v1, v2):\n",
    "        return True if self.adjMatrix[v1][v2]>0 and self.adjMatrix[v2][v1] > 0 else False\n",
    "    \n",
    "    \n",
    "    def __getMinVertex(self, visited, weight): # Get the vertex with minimum weight\n",
    "        \n",
    "        min_vertex = -1 #initially it's nothing\n",
    "        for i in range(self.nVertices):\n",
    "            if (visited[i] is False and (min_vertex == -1 or weight[min_vertex] > weight[i])):\n",
    "                min_vertex = i\n",
    "        return min_vertex\n",
    "    \n",
    "    def prims(self):\n",
    "        visited = [False for i in range(self.nVertices)]\n",
    "        parent = [-1 for i in range(self.nVertices)]\n",
    "        weight = [sys.maxsize for i in range(self.nVertices)]\n",
    "        \n",
    "        # We need to get the minimum vertex, explore its adjacent neighbours\n",
    "        # update the weight corresponding to that (n-1) times...\n",
    "        weight[0] = 0\n",
    "        for i in range(self.nVertices-1):\n",
    "            min_vertex = self.__getMinVertex(visited, weight)\n",
    "            visited[min_vertex] = True\n",
    "            \n",
    "            # explore the adjacent neighbours of min vertex and\n",
    "            # update the weight corresponding to them if reqd.\n",
    "            \n",
    "            for j in range(self.nVertices):\n",
    "                if self.adjMatrix[min_vertex][j] > 0 and visited[j] is False:\n",
    "                    if(weight[j] > self.adjMatrix[min_vertex][j]): #If weight at that place is greater than the current weight\n",
    "                        weight[j] = self.adjMatrix[min_vertex][j] #Update weight\n",
    "                        parent[j] = min_vertex\n",
    "        \n",
    "        for i in range(1,self.nVertices):  # Because parent of 0 will be none\n",
    "            if i < parent[i]:\n",
    "                print(str(i) + \" \" + str(parent[i]) + \" \" + str(weight[i]))\n",
    "            else:\n",
    "                print(str(parent[i]) + \" \" + str(i) + \" \" + str(weight[i]))\n",
    "        \n",
    "li = [int(ele) for ele in input().split()]\n",
    "n = li[0]\n",
    "E = li[1]\n",
    "g = Graph(n)\n",
    "\n",
    "for i in range(E):\n",
    "    curr_input = [int(ele) for ele in input().split()]\n",
    "    g.addEdge(curr_input[0], curr_input[1], curr_input[2])\n",
    "    \n",
    "g.prims()\n",
    "    \n",
    "\n"
   ]
  },
  {
   "cell_type": "code",
   "execution_count": null,
   "metadata": {},
   "outputs": [],
   "source": []
  }
 ],
 "metadata": {
  "kernelspec": {
   "display_name": "Python 3",
   "language": "python",
   "name": "python3"
  },
  "language_info": {
   "codemirror_mode": {
    "name": "ipython",
    "version": 3
   },
   "file_extension": ".py",
   "mimetype": "text/x-python",
   "name": "python",
   "nbconvert_exporter": "python",
   "pygments_lexer": "ipython3",
   "version": "3.8.3"
  }
 },
 "nbformat": 4,
 "nbformat_minor": 4
}
