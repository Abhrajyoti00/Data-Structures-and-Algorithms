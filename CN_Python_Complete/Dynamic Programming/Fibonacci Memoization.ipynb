{
 "metadata": {
  "language_info": {
   "codemirror_mode": {
    "name": "ipython",
    "version": 3
   },
   "file_extension": ".py",
   "mimetype": "text/x-python",
   "name": "python",
   "nbconvert_exporter": "python",
   "pygments_lexer": "ipython3",
   "version": "3.8.3-final"
  },
  "orig_nbformat": 2,
  "kernelspec": {
   "name": "python3",
   "display_name": "Python 3"
  }
 },
 "nbformat": 4,
 "nbformat_minor": 2,
 "cells": [
  {
   "source": [
    "# Recursive Fibonacci"
   ],
   "cell_type": "markdown",
   "metadata": {}
  },
  {
   "cell_type": "code",
   "execution_count": 5,
   "metadata": {},
   "outputs": [
    {
     "output_type": "stream",
     "name": "stdout",
     "text": [
      "13\n"
     ]
    }
   ],
   "source": [
    "def fib(n):\n",
    "    if n==0 or n==1:\n",
    "        return n\n",
    "    ans1 = fib(n-1)\n",
    "    ans2 = fib(n-2)\n",
    "\n",
    "    return (ans1+ans2)\n",
    "\n",
    "n = int(input())\n",
    "print(fib(n))"
   ]
  },
  {
   "source": [
    "## Memoized Solution"
   ],
   "cell_type": "markdown",
   "metadata": {}
  },
  {
   "cell_type": "code",
   "execution_count": 48,
   "metadata": {},
   "outputs": [
    {
     "output_type": "stream",
     "name": "stdout",
     "text": [
      "71065403012682566472539438422038424563034848902017531872543259030457477579888266474053942500418144709951631067747813441829256683277832720489847690715091338569817215089350510288957254769758244673055071631153707907451632819757536181079307743259810565924123318321226976529123571870258362024769753212393478048887696992458809309855550645325494719549945615232489082388143606309451433984197925410219543713789141813634035678856890512451470141690912687580724007235674657463562514758935616957544808542293030818424048763731559788179117648289083995303882971518174249709983425248558818710687466412173686568106669356360257910224760641416\n"
     ]
    }
   ],
   "source": [
    "def fib(n,dp):\n",
    "    if n==0 or n==1:\n",
    "        return n\n",
    "\n",
    "    if dp[n-1]==-1:\n",
    "        ans1 = fib(n-1,dp)\n",
    "        dp[n-1] = ans1\n",
    "    else:\n",
    "        ans1 = dp[n-1]\n",
    "    \n",
    "    if dp[n-2] == -1:\n",
    "        ans2 = fib(n-2,dp)\n",
    "        dp[n-2] = ans2\n",
    "    else:\n",
    "        \n",
    "        ans2 = dp[n-2]\n",
    "\n",
    "    return (ans1+ans2)\n",
    "\n",
    "n = int(input())\n",
    "dp = [-1 for i in range(n+1)]   #Fill all with -1\n",
    "ans = fib(n,dp)\n",
    "print(ans)"
   ]
  },
  {
   "source": [
    "That was the answer foor 2982... That's the highest no my pc could find without recursion error :)"
   ],
   "cell_type": "markdown",
   "metadata": {}
  },
  {
   "cell_type": "code",
   "execution_count": 50,
   "metadata": {},
   "outputs": [],
   "source": [
    "# COMPLEXITY O(N) for both time and space"
   ]
  },
  {
   "cell_type": "code",
   "execution_count": null,
   "metadata": {},
   "outputs": [],
   "source": []
  }
 ]
}