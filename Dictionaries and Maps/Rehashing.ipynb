{
 "metadata": {
  "language_info": {
   "codemirror_mode": {
    "name": "ipython",
    "version": 3
   },
   "file_extension": ".py",
   "mimetype": "text/x-python",
   "name": "python",
   "nbconvert_exporter": "python",
   "pygments_lexer": "ipython3",
   "version": "3.9.0-final"
  },
  "orig_nbformat": 2,
  "kernelspec": {
   "name": "Python 3.9.0 64-bit",
   "display_name": "Python 3.9.0 64-bit",
   "metadata": {
    "interpreter": {
     "hash": "86fac28bb28b019b7f775f2fe5ba6a78f4263158a8fbe5bc11c7908c73e10420"
    }
   }
  }
 },
 "nbformat": 4,
 "nbformat_minor": 2,
 "cells": [
  {
   "source": [
    "class MapNode:\n",
    "    def __init__(self,key,value):\n",
    "        self.key = key\n",
    "        self.value = value\n",
    "        self.next = None\n",
    "class Map:\n",
    "    def __init__(self):\n",
    "        self.bucketSize = 5\n",
    "        self.buckets = [None for  i in range(self.bucketSize)]\n",
    "        self.count = 0\n",
    "    def size(self):\n",
    "        return self.count\n",
    "    \n",
    "    def getBucketIndex(self, hc):\n",
    "        return (abs(hc)%(self.bucketSize))\n",
    "\n",
    "    def getValue(self,key):\n",
    "        hc = hash(key)\n",
    "        index = self.getBucketIndex(hc)\n",
    "        head = self.buckets[index]\n",
    "        while head is not None:\n",
    "            if head.key == key:\n",
    "                return head.value\n",
    "            head = head.next\n",
    "        return None \n",
    "    \n",
    "    def remove(self,key):\n",
    "        hc = hash(key)\n",
    "        index = self.getBucketIndex(hc)\n",
    "        head = self.buckets[index]\n",
    "        prev = None\n",
    "        while head is not None:\n",
    "            if head.key == key:\n",
    "                if prev is None:\n",
    "                    self.buckets[index] = head.next\n",
    "                else:\n",
    "                    prev.next = head.next\n",
    "                self.count-=1\n",
    "                return head.value\n",
    "            prev = head\n",
    "            head = head.next\n",
    "            \n",
    "        return None\n",
    "\n",
    "    def rehash(self):\n",
    "        temp = self.buckets\n",
    "        self.buckets = [None for i in range(2*self.bucketSize)]\n",
    "        self.bucketSize = 2*self.bucketSize\n",
    "        self.count = 0\n",
    "\n",
    "        for head in temp:\n",
    "            while head is not None:\n",
    "                self.insert(head.key, head.value)\n",
    "                head = head.next\n",
    "    \n",
    "    def loadFactor(self):\n",
    "        return self.count/self.bucketSize\n",
    "    \n",
    "\n",
    "    def insert(self, key,value):\n",
    "        hc = hash(key)\n",
    "        index = self.getBucketIndex(hc)\n",
    "        head = self.buckets[index]\n",
    "        while head is not None:\n",
    "            if head.key == key:\n",
    "                head.value = value\n",
    "                return\n",
    "            head = head.next\n",
    "        head = self.buckets[index]\n",
    "        newNode = MapNode(key,value)\n",
    "        newNode.next = head\n",
    "        self.buckets[index] = newNode\n",
    "        self.count+=1\n",
    "        if self.loadFactor()>=0.7:\n",
    "            self.rehash()\n",
    "\n",
    "    \n",
    "m = Map()\n",
    "# m.insert('Parikh',2)\n",
    "# print(m.size())\n",
    "# m.insert('Rohan', 7 )\n",
    "# print(m.size())\n",
    "# m.insert('Parikh',9)\n",
    "# print(m.size())\n",
    "# print(m.getValue('Parikh'))\n",
    "# m.remove('Rohan')\n",
    "# print(m.getValue('Rohan'))\n",
    "# print(m.getValue('Parikh'))\n",
    "# print(m.size())\n",
    "\n",
    "for i in range(10):\n",
    "    m.insert('abc'+str(i), i+1)\n",
    "    print(m.loadFactor())\n",
    "\n",
    "for i in range(10):\n",
    "    print('abc'+str(i) + ': ', m.getValue('abc' + str(i)))\n",
    "\n",
    "\n",
    "\n",
    "\n"
   ],
   "cell_type": "code",
   "metadata": {},
   "execution_count": 6,
   "outputs": [
    {
     "output_type": "stream",
     "name": "stdout",
     "text": [
      "0.2\n0.4\n0.6\n0.4\n0.5\n0.6\n0.35\n0.4\n0.45\n0.5\nabc0:  1\nabc1:  2\nabc2:  3\nabc3:  4\nabc4:  5\nabc5:  6\nabc6:  7\nabc7:  8\nabc8:  9\nabc9:  10\n"
     ]
    }
   ]
  },
  {
   "source": [
    "## Time Complexity\n",
    "\n",
    "### Time Complexity for retrieving all keyset from Hashmap\n",
    "\n",
    "Solution : O(n)\n",
    "\n",
    "Solution Description\n",
    "--------------------- \n",
    "Will iterate through all the values"
   ],
   "cell_type": "markdown",
   "metadata": {}
  },
  {
   "cell_type": "code",
   "execution_count": null,
   "metadata": {},
   "outputs": [],
   "source": []
  }
 ]
}