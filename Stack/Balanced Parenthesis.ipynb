{
 "cells": [
  {
   "cell_type": "markdown",
   "metadata": {},
   "source": [
    "## For a given a string expression containing only round brackets or parentheses, check if they are balanced or not. Brackets are said to be balanced if the bracket which opens last, closes first."
   ]
  },
  {
   "cell_type": "code",
   "execution_count": null,
   "metadata": {},
   "outputs": [],
   "source": [
    "\n",
    "import queue\n",
    "from sys import stdin\n",
    "\n",
    "\n",
    "def isBalanced(expression) :\n",
    "    s = []\n",
    "    for _ in expression:\n",
    "        if _ in '({[':\n",
    "            s.append(_)\n",
    "        elif _ == ')':\n",
    "            if not s or s[-1]!='(':\n",
    "                return False\n",
    "            s.pop()\n",
    "        elif _ == '}':\n",
    "            if not s or s[-1]!='{':\n",
    "                return False\n",
    "            s.pop()                     \n",
    "        elif _ == ']':\n",
    "            if not s or s[-1]!='[':\n",
    "                return False\n",
    "            s.pop()\n",
    "    if not s:\n",
    "        return True\n",
    "    return False\n",
    "                                        \n",
    "\n",
    "\n",
    "\n",
    "\n",
    "\n",
    "\n",
    "\n",
    "\n",
    "\n",
    "\n",
    "\t\n",
    "\n",
    "\n",
    "\n",
    "\n",
    "#main\n",
    "expression = stdin.readline().strip()\n",
    "\n",
    "if isBalanced(expression) :\n",
    "\tprint(\"true\")\n",
    "\n",
    "else :\n",
    "\tprint(\"false\")\n"
   ]
  }
 ],
 "metadata": {
  "kernelspec": {
   "display_name": "Python 3",
   "language": "python",
   "name": "python3"
  },
  "language_info": {
   "codemirror_mode": {
    "name": "ipython",
    "version": 3
   },
   "file_extension": ".py",
   "mimetype": "text/x-python",
   "name": "python",
   "nbconvert_exporter": "python",
   "pygments_lexer": "ipython3",
   "version": "3.8.2"
  }
 },
 "nbformat": 4,
 "nbformat_minor": 4
}
