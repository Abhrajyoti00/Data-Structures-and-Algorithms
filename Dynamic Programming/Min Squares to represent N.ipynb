{
 "metadata": {
  "language_info": {
   "codemirror_mode": {
    "name": "ipython",
    "version": 3
   },
   "file_extension": ".py",
   "mimetype": "text/x-python",
   "name": "python",
   "nbconvert_exporter": "python",
   "pygments_lexer": "ipython3",
   "version": "3.8.3-final"
  },
  "orig_nbformat": 2,
  "kernelspec": {
   "name": "python3",
   "display_name": "Python 3"
  }
 },
 "nbformat": 4,
 "nbformat_minor": 2,
 "cells": [
  {
   "source": [
    "41 -> 5^2 + 4^2  (Ans = 2)\n",
    "\n",
    "26 -> 5^2 + 1^2  ( Ans = 2)"
   ],
   "cell_type": "markdown",
   "metadata": {}
  },
  {
   "cell_type": "code",
   "execution_count": 5,
   "metadata": {},
   "outputs": [
    {
     "output_type": "stream",
     "name": "stdout",
     "text": [
      "Min Squares to represent 41 is  2\n"
     ]
    }
   ],
   "source": [
    "import math\n",
    "\n",
    "def minSquaresN(n):\n",
    "    if n == 0:\n",
    "        return 0\n",
    "    ans = sys.maxsize\n",
    "    i = 1\n",
    "    while(i**2 <= n):\n",
    "        currAns = 1 + minSquaresN(n-(i**2))\n",
    "        ans = min(ans, currAns)\n",
    "        i+=1\n",
    "    return ans       \n",
    "n = int(input())\n",
    "print('Min Squares to represent', n, 'is ', minSquaresN(n))\n"
   ]
  },
  {
   "cell_type": "code",
   "execution_count": 4,
   "metadata": {},
   "outputs": [
    {
     "output_type": "execute_result",
     "data": {
      "text/plain": [
       "3"
      ]
     },
     "metadata": {},
     "execution_count": 4
    }
   ],
   "source": [
    "import math\n",
    "int(math.sqrt(9))"
   ]
  },
  {
   "source": [
    "## Memoized Solution"
   ],
   "cell_type": "markdown",
   "metadata": {}
  },
  {
   "cell_type": "code",
   "execution_count": 12,
   "metadata": {},
   "outputs": [
    {
     "output_type": "stream",
     "name": "stdout",
     "text": [
      "Min Squares to represent 41 is  3\n"
     ]
    }
   ],
   "source": [
    "import math\n",
    "import sys\n",
    "def minSquaresN(n,dp):\n",
    "    if n == 0:\n",
    "        return 0\n",
    "    ans = sys.maxsize\n",
    "    i = 1\n",
    "    while(i**2 <= n):\n",
    "        if dp[(n-(i**2))] == -1:\n",
    "            currAns = 1 + minSquaresN(n-(i**2),dp)\n",
    "            ans = min(ans, currAns)\n",
    "            dp[(n-(i**2))] = ans\n",
    "        else:\n",
    "            ans = dp[(n-(i**2))]\n",
    "        i+=1\n",
    "    return ans       \n",
    "n = int(input())\n",
    "dp = [-1 for i in range(n+1)]\n",
    "\n",
    "print('Min Squares to represent', n, 'is ', minSquaresN(n,dp))\n"
   ]
  },
  {
   "cell_type": "code",
   "execution_count": null,
   "metadata": {},
   "outputs": [],
   "source": [
    "import math\n",
    "import sys\n",
    "def minSquaresN(n,dp):\n",
    "    if n == 0:\n",
    "        return 0\n",
    "    ans = sys.maxsize\n",
    "    i = 1\n",
    "    while(i**2 <= n):\n",
    "        if dp[(n-(i**2))] == -1:\n",
    "            currAns = 1 + minSquaresN(n-(i**2),dp)\n",
    "            ans = min(ans, currAns)\n",
    "            dp[(n-(i**2))] = ans\n",
    "        else:\n",
    "            ans = dp[(n-(i**2))]\n",
    "        i+=1\n",
    "    return ans       \n",
    "n = int(input())\n",
    "dp = [-1 for i in range(n+1)]\n",
    "\n",
    "print('Min Squares to represent', n, 'is ', minSquaresN(n,dp))\n"
   ]
  },
  {
   "source": [
    "# Iterative Solution"
   ],
   "cell_type": "markdown",
   "metadata": {}
  },
  {
   "cell_type": "code",
   "execution_count": 17,
   "metadata": {},
   "outputs": [
    {
     "output_type": "stream",
     "name": "stdout",
     "text": [
      "Min Squares to represent 100000 is  2\n"
     ]
    }
   ],
   "source": [
    "import math\n",
    "import sys\n",
    "def minSquaresN(n):\n",
    "    dp = [0 for i in range(n+1)]\n",
    "    dp[0] = 0\n",
    "    \n",
    "    for i in range(1,n+1):\n",
    "        ans = sys.maxsize\n",
    "        root = int(math.sqrt(i))\n",
    "\n",
    "        for j in range(1,root+1):\n",
    "            currAns = 1 + dp[i-(j**2)]\n",
    "            ans = min(ans, currAns)\n",
    "        dp[i] = ans\n",
    "\n",
    "    return dp[n] \n",
    "\n",
    "n = int(input())\n",
    "\n",
    "print('Min Squares to represent', n, 'is ', minSquaresN(n))\n"
   ]
  },
  {
   "cell_type": "code",
   "execution_count": null,
   "metadata": {},
   "outputs": [],
   "source": []
  }
 ]
}