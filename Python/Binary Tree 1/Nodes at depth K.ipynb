{
 "cells": [
  {
   "cell_type": "code",
   "execution_count": 1,
   "metadata": {},
   "outputs": [],
   "source": [
    "def DepthAtK(root,K):\n",
    "    if root == None:\n",
    "        return\n",
    "    if K==0:\n",
    "        print(root.data)\n",
    "        return\n",
    "    (DepthAtK(root.left,K-1))\n",
    "    (DepthAtK(root.right,K-1))"
   ]
  },
  {
   "cell_type": "code",
   "execution_count": 2,
   "metadata": {},
   "outputs": [],
   "source": [
    "def DepthAtKv2(root,K,d=0):\n",
    "    if root==None:\n",
    "        return\n",
    "    if K==d:\n",
    "        print(root.data)\n",
    "        return\n",
    "    DepthAtKv2(root.left,K,d+1)\n",
    "    DepthAtKv2(root.right,K,d+1)"
   ]
  },
  {
   "cell_type": "code",
   "execution_count": null,
   "metadata": {},
   "outputs": [],
   "source": []
  }
 ],
 "metadata": {
  "kernelspec": {
   "display_name": "Python 3",
   "language": "python",
   "name": "python3"
  },
  "language_info": {
   "codemirror_mode": {
    "name": "ipython",
    "version": 3
   },
   "file_extension": ".py",
   "mimetype": "text/x-python",
   "name": "python",
   "nbconvert_exporter": "python",
   "pygments_lexer": "ipython3",
   "version": "3.8.2"
  }
 },
 "nbformat": 4,
 "nbformat_minor": 4
}
