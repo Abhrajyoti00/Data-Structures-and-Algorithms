{
 "cells": [
  {
   "cell_type": "code",
   "execution_count": null,
   "metadata": {},
   "outputs": [],
   "source": [
    " def nodeToPath(root,s):\n",
    "        if root == None:\n",
    "            return None\n",
    "        if root.data == s:\n",
    "            l = list()\n",
    "            l.append(root.data)\n",
    "            return l\n",
    "        leftOutput = nodeToPath(root.left, s)\n",
    "        if leftOutput !=None:\n",
    "            leftOutput.append(root.data)\n",
    "            return leftOutput\n",
    "        rightOutput = nodeToPath(root.right,s)\n",
    "        if rightOutput!=None:\n",
    "            rightOutput.append(root.data)\n",
    "            return rightOutput\n",
    "        else:\n",
    "            return None"
   ]
  }
 ],
 "metadata": {
  "kernelspec": {
   "display_name": "Python 3",
   "language": "python",
   "name": "python3"
  },
  "language_info": {
   "codemirror_mode": {
    "name": "ipython",
    "version": 3
   },
   "file_extension": ".py",
   "mimetype": "text/x-python",
   "name": "python",
   "nbconvert_exporter": "python",
   "pygments_lexer": "ipython3",
   "version": "3.8.3"
  }
 },
 "nbformat": 4,
 "nbformat_minor": 4
}
