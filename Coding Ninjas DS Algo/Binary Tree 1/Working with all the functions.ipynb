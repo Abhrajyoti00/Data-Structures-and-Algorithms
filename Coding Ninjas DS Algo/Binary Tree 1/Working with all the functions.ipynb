{
 "cells": [
  {
   "cell_type": "code",
   "execution_count": 1,
   "metadata": {},
   "outputs": [],
   "source": [
    "class BinaryTreeNode:\n",
    "    def __init__(self,data):\n",
    "        self.data = data\n",
    "        self.left = None\n",
    "        self.right = None"
   ]
  },
  {
   "cell_type": "code",
   "execution_count": 2,
   "metadata": {},
   "outputs": [],
   "source": [
    "def printTree(root):\n",
    "    if root == None:\n",
    "        return\n",
    "    print(root.data)\n",
    "    printTree(root.left)\n",
    "    printTree(root.right)"
   ]
  },
  {
   "cell_type": "code",
   "execution_count": 3,
   "metadata": {},
   "outputs": [],
   "source": [
    "def printTreeDetailed(root):\n",
    "    if root == None:\n",
    "        return\n",
    "    print(root.data, end = ':')\n",
    "    if root.left !=None:\n",
    "        print(\"L\", root.left.data,end = ',')\n",
    "    if root.right!=None:\n",
    "        print(\"R\", root.right.data,end='')\n",
    "    print()\n",
    "    printTreeDetailed(root.left)\n",
    "    printTreeDetailed(root.right)"
   ]
  },
  {
   "cell_type": "code",
   "execution_count": 4,
   "metadata": {},
   "outputs": [],
   "source": [
    "def treeInput():\n",
    "    rootData = int(input())\n",
    "    if rootData == -1:\n",
    "        return\n",
    "    root = BinaryTreeNode(rootData)\n",
    "    root.left = treeInput()\n",
    "    root.right = treeInput()\n",
    "    return root"
   ]
  },
  {
   "cell_type": "code",
   "execution_count": 5,
   "metadata": {},
   "outputs": [],
   "source": [
    "def countNodes(root):\n",
    "    if root == None:\n",
    "        return 0\n",
    "    cl = countNodes(root.left)\n",
    "    cr = countNodes(root.right)\n",
    "    return (1+cl+cr)"
   ]
  },
  {
   "cell_type": "code",
   "execution_count": 6,
   "metadata": {},
   "outputs": [],
   "source": [
    "def getSum(root):\n",
    "    if root is None:\n",
    "        return 0\n",
    "    leftsum = getSum(root.left)\n",
    "    rightsum = getSum(root.right)\n",
    "    return root.data+leftsum+rightsum"
   ]
  },
  {
   "cell_type": "code",
   "execution_count": 14,
   "metadata": {},
   "outputs": [
    {
     "name": "stdout",
     "output_type": "stream",
     "text": [
      "4\n",
      "2\n",
      "7\n",
      "6\n",
      "-1\n",
      "-1\n",
      "3\n",
      "-1\n",
      "-1\n",
      "9\n",
      "-1\n",
      "-1\n",
      "8\n",
      "-1\n",
      "15\n",
      "4\n",
      "-1\n",
      "-1\n",
      "8\n",
      "-1\n",
      "-1\n",
      "4:L 2,R 8\n",
      "2:L 7,R 9\n",
      "7:L 6,R 3\n",
      "6:\n",
      "3:\n",
      "9:\n",
      "8:R 15\n",
      "15:L 4,R 8\n",
      "4:\n",
      "8:\n",
      "Count of Nodes = 10\n",
      "Sum of the Nodes = 66\n"
     ]
    }
   ],
   "source": [
    "root = treeInput()\n",
    "printTreeDetailed(root)\n",
    "print('Count of Nodes = '+ str(countNodes(root)))\n",
    "print('Sum of the Nodes = '+str(getSum(root)))"
   ]
  },
  {
   "cell_type": "code",
   "execution_count": 7,
   "metadata": {},
   "outputs": [],
   "source": [
    "def preOrder(root):\n",
    "    if root == None:\n",
    "        return\n",
    "    print(root.data,end= \" \")\n",
    "    preOrder(root.left)\n",
    "    preOrder(root.right)"
   ]
  },
  {
   "cell_type": "code",
   "execution_count": 8,
   "metadata": {},
   "outputs": [],
   "source": [
    "def postOrder(root):\n",
    "    if root == None:\n",
    "        return\n",
    "    postOrder(root.left)\n",
    "    postOrder(root.right)\n",
    "    print(root.data,end= \" \")"
   ]
  },
  {
   "cell_type": "code",
   "execution_count": 9,
   "metadata": {},
   "outputs": [],
   "source": [
    "import math\n",
    "def LargestData(root):\n",
    "    if root == None:\n",
    "        return -math.inf\n",
    "    leftLar = LargestData(root.left)\n",
    "    rightlar = LargestData(root.right)\n",
    "    return max(root.data,leftLar,rightlar)"
   ]
  },
  {
   "cell_type": "code",
   "execution_count": 21,
   "metadata": {},
   "outputs": [
    {
     "name": "stdout",
     "output_type": "stream",
     "text": [
      "1\n",
      "2\n",
      "-1\n",
      "6\n",
      "-1\n",
      "-1\n",
      "3\n",
      "-1\n",
      "-1\n",
      "1:L 2,R 3\n",
      "2:R 6\n",
      "6:\n",
      "3:\n",
      "Count of Nodes = 4\n",
      "Sum of the Nodes = 12\n",
      "Largest Data = 6\n"
     ]
    }
   ],
   "source": [
    "root = treeInput()\n",
    "printTreeDetailed(root)\n",
    "print('Count of Nodes = '+ str(countNodes(root)))\n",
    "print('Sum of the Nodes = '+str(getSum(root)))\n",
    "print('Largest Data = '+ str(LargestData(root)))"
   ]
  },
  {
   "cell_type": "code",
   "execution_count": 10,
   "metadata": {},
   "outputs": [],
   "source": [
    "def countNodesGreaterThanX(root, x) :\n",
    "    if root == None:\n",
    "        return 0\n",
    "    if root.data>x:\n",
    "        p = 1\n",
    "    else:\n",
    "        p = 0\n",
    "    lc = countNodesGreaterThanX(root.left,x)\n",
    "    rc = countNodesGreaterThanX(root.right,x)\n",
    "    return (p+lc+rc)"
   ]
  },
  {
   "cell_type": "code",
   "execution_count": 35,
   "metadata": {},
   "outputs": [
    {
     "name": "stdout",
     "output_type": "stream",
     "text": [
      "1\n",
      "6\n",
      "-1\n",
      "-1\n",
      "7\n",
      "-1\n",
      "-1\n",
      "1:L 6,R 7\n",
      "6:\n",
      "7:\n",
      "Count of Nodes = 3\n",
      "Sum of the Nodes = 14\n",
      "Largest Data = 7\n",
      "No of nodes greater than 5 are: 2\n"
     ]
    }
   ],
   "source": [
    "root = treeInput()\n",
    "printTreeDetailed(root)\n",
    "print('Count of Nodes = '+ str(countNodes(root)))\n",
    "print('Sum of the Nodes = '+str(getSum(root)))\n",
    "print('Largest Data = '+ str(LargestData(root)))\n",
    "print('No of nodes greater than 5 are: '+str(countNodesGreaterThanX(root,5)))"
   ]
  },
  {
   "cell_type": "code",
   "execution_count": 11,
   "metadata": {},
   "outputs": [],
   "source": [
    "def height(root) :\n",
    "    if root == None:\n",
    "        return 0\n",
    "    lh = height(root.left)\n",
    "    rh = height(root.right)\n",
    "    return (1+max(lh,rh))"
   ]
  },
  {
   "cell_type": "code",
   "execution_count": 12,
   "metadata": {},
   "outputs": [],
   "source": [
    "def leafNodes(root):\n",
    "    if root == None:\n",
    "        return 0\n",
    "    if root.left == None and root.right == None:\n",
    "        return 1\n",
    "    return (leafNodes(root.left)+leafNodes(root.right))"
   ]
  },
  {
   "cell_type": "code",
   "execution_count": 41,
   "metadata": {},
   "outputs": [
    {
     "name": "stdout",
     "output_type": "stream",
     "text": [
      "1\n",
      "2\n",
      "-1\n",
      "-1\n",
      "-1\n",
      "1:L 2,\n",
      "2:\n",
      "Count of Nodes = 2\n",
      "Sum of the Nodes = 3\n",
      "Largest Data = 2\n",
      "No of nodes greater than 5 are: 0\n",
      "No of leaf nodes = 1\n"
     ]
    }
   ],
   "source": [
    "root = treeInput()\n",
    "printTreeDetailed(root)\n",
    "print('Count of Nodes = '+ str(countNodes(root)))\n",
    "print('Sum of the Nodes = '+str(getSum(root)))\n",
    "print('Largest Data = '+ str(LargestData(root)))\n",
    "print('No of nodes greater than 5 are: '+str(countNodesGreaterThanX(root,5)))\n",
    "print(\"No of leaf nodes = \"+ str(leafNodes(root)))"
   ]
  },
  {
   "cell_type": "markdown",
   "metadata": {},
   "source": [
    "# "
   ]
  },
  {
   "cell_type": "code",
   "execution_count": 15,
   "metadata": {},
   "outputs": [],
   "source": [
    "def DepthAtK(root,K):\n",
    "    if root == None:\n",
    "        return\n",
    "    if K==0:\n",
    "        print(root.data)\n",
    "        return\n",
    "    (DepthAtK(root.left,K-1))\n",
    "    (DepthAtK(root.right,K-1))"
   ]
  },
  {
   "cell_type": "code",
   "execution_count": 16,
   "metadata": {},
   "outputs": [
    {
     "name": "stdout",
     "output_type": "stream",
     "text": [
      "1\n",
      "2\n",
      "4\n",
      "-1\n",
      "-1\n",
      "5\n",
      "-1\n",
      "-1\n",
      "3\n",
      "6\n",
      "-1\n",
      "-1\n",
      "-1\n",
      "1:L 2,R 3\n",
      "2:L 4,R 5\n",
      "4:\n",
      "5:\n",
      "3:L 6,\n",
      "6:\n",
      "Count of Nodes = 6\n",
      "Sum of the Nodes = 21\n",
      "Largest Data = 6\n",
      "No of nodes greater than 5 are: 1\n",
      "No of leaf nodes = 3\n",
      "4\n",
      "5\n",
      "6\n",
      "Depth at 2 = None\n"
     ]
    }
   ],
   "source": [
    "root = treeInput()\n",
    "printTreeDetailed(root)\n",
    "print('Count of Nodes = '+ str(countNodes(root)))\n",
    "print('Sum of the Nodes = '+str(getSum(root)))\n",
    "print('Largest Data = '+ str(LargestData(root)))\n",
    "print('No of nodes greater than 5 are: '+str(countNodesGreaterThanX(root,5)))\n",
    "print(\"No of leaf nodes = \"+ str(leafNodes(root)))\n",
    "print(\"Depth at 2 = \"+str(DepthAtK(root,2)))"
   ]
  },
  {
   "cell_type": "code",
   "execution_count": 17,
   "metadata": {},
   "outputs": [],
   "source": [
    "def DepthAtKv2(root,K,d=0):\n",
    "    if root==None:\n",
    "        return\n",
    "    if K==d:\n",
    "        print(root.data)\n",
    "        return\n",
    "    DepthAtKv2(root.left,K,d+1)\n",
    "    DepthAtKv2(root.right,K,d+1)"
   ]
  },
  {
   "cell_type": "code",
   "execution_count": 24,
   "metadata": {},
   "outputs": [
    {
     "name": "stdout",
     "output_type": "stream",
     "text": [
      "1\n",
      "2\n",
      "4\n",
      "-1\n",
      "-1\n",
      "5\n",
      "-1\n",
      "-1\n",
      "3\n",
      "6\n",
      "-1\n",
      "-1\n",
      "-1\n",
      "1:L 2,R 3\n",
      "2:L 4,R 5\n",
      "4:\n",
      "5:\n",
      "3:L 6,\n",
      "6:\n",
      "Count of Nodes = 6\n",
      "Sum of the Nodes = 21\n",
      "Largest Data = 6\n",
      "No of nodes greater than 5 are: 1\n",
      "No of leaf nodes = 3\n",
      "4\n",
      "5\n",
      "6\n",
      "Depth at 2 = None\n"
     ]
    }
   ],
   "source": [
    "root = treeInput()\n",
    "printTreeDetailed(root)\n",
    "print('Count of Nodes = '+ str(countNodes(root)))\n",
    "print('Sum of the Nodes = '+str(getSum(root)))\n",
    "print('Largest Data = '+ str(LargestData(root)))\n",
    "print('No of nodes greater than 5 are: '+str(countNodesGreaterThanX(root,5)))\n",
    "print(\"No of leaf nodes = \"+ str(leafNodes(root)))\n",
    "print(\"Depth at 2 = \"+str(DepthAtKv2(root,2)))"
   ]
  },
  {
   "cell_type": "code",
   "execution_count": null,
   "metadata": {},
   "outputs": [],
   "source": []
  }
 ],
 "metadata": {
  "kernelspec": {
   "display_name": "Python 3",
   "language": "python",
   "name": "python3"
  },
  "language_info": {
   "codemirror_mode": {
    "name": "ipython",
    "version": 3
   },
   "file_extension": ".py",
   "mimetype": "text/x-python",
   "name": "python",
   "nbconvert_exporter": "python",
   "pygments_lexer": "ipython3",
   "version": "3.8.2"
  }
 },
 "nbformat": 4,
 "nbformat_minor": 4
}
