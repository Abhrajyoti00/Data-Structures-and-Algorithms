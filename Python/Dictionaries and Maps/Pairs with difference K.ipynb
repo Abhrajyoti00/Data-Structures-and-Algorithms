{
 "metadata": {
  "language_info": {
   "codemirror_mode": {
    "name": "ipython",
    "version": 3
   },
   "file_extension": ".py",
   "mimetype": "text/x-python",
   "name": "python",
   "nbconvert_exporter": "python",
   "pygments_lexer": "ipython3",
   "version": "3.9.0-final"
  },
  "orig_nbformat": 2,
  "kernelspec": {
   "name": "Python 3.9.0 64-bit",
   "display_name": "Python 3.9.0 64-bit",
   "metadata": {
    "interpreter": {
     "hash": "86fac28bb28b019b7f775f2fe5ba6a78f4263158a8fbe5bc11c7908c73e10420"
    }
   }
  }
 },
 "nbformat": 4,
 "nbformat_minor": 2,
 "cells": [
  {
   "cell_type": "code",
   "execution_count": 1,
   "metadata": {},
   "outputs": [
    {
     "output_type": "stream",
     "name": "stdout",
     "text": [
      "4 4\n4 4\n4 4\n4 4\n4 4\n4 4\n"
     ]
    }
   ],
   "source": [
    "def printPairDiffK(l, k):\n",
    "        \n",
    "    # initializing dict/map\n",
    "    m={}\n",
    "    \n",
    "    # Iterate each element\n",
    "    for num in l:\n",
    "        \n",
    "        #check for pair in map\n",
    "        if num+k in m:\n",
    "            for i in range(0,m[num+k]):\n",
    "                print(num,num+k)\n",
    "        if k!=0 and num-k in m:\n",
    "            for i in range(0,m[num-k]):\n",
    "                print(num-k,num)\n",
    "                \n",
    "        # update dict\n",
    "        if num in m:\n",
    "            m[num]+=1\n",
    "        else:\n",
    "            m[num]=1\n",
    "\n",
    "n=int(input())\n",
    "l=list(int(i) for i in input().strip().split(' '))\n",
    "k=int(input())\n",
    "printPairDiffK(l, k)"
   ]
  },
  {
   "cell_type": "code",
   "execution_count": 21,
   "metadata": {},
   "outputs": [
    {
     "output_type": "stream",
     "name": "stdout",
     "text": [
      "0\n3\n4\ndict_keys(['3', '4'])\n"
     ]
    }
   ],
   "source": [
    "d = {'3':0, '4':6}\n",
    "print(d.get('3'))\n",
    "for p in d.keys():\n",
    "    print(p)\n",
    "print(d.keys())"
   ]
  },
  {
   "cell_type": "code",
   "execution_count": null,
   "metadata": {},
   "outputs": [],
   "source": []
  }
 ]
}