{
 "metadata": {
  "language_info": {
   "codemirror_mode": {
    "name": "ipython",
    "version": 3
   },
   "file_extension": ".py",
   "mimetype": "text/x-python",
   "name": "python",
   "nbconvert_exporter": "python",
   "pygments_lexer": "ipython3",
   "version": "3.8.3-final"
  },
  "orig_nbformat": 2,
  "kernelspec": {
   "name": "python3",
   "display_name": "Python 3"
  }
 },
 "nbformat": 4,
 "nbformat_minor": 2,
 "cells": [
  {
   "source": [
    "# Longest Common Subsequence\n"
   ],
   "cell_type": "markdown",
   "metadata": {}
  },
  {
   "source": [
    "## Recurrence relation\n",
    "\n",
    "\n",
    "lcs(i,j) = 1 + lcs(i+1,j+1) :  if str1[i] == str2[j]\n",
    "         = max(lcs(i,j+1), lcs(i+1,j))   : if str1[i] != str2[j]\n",
    "\n",
    "\n",
    "#### Detailed notes in notebook\n"
   ],
   "cell_type": "markdown",
   "metadata": {}
  },
  {
   "source": [
    "## Recursive Solution"
   ],
   "cell_type": "markdown",
   "metadata": {}
  },
  {
   "cell_type": "code",
   "execution_count": 2,
   "metadata": {},
   "outputs": [
    {
     "output_type": "stream",
     "name": "stdout",
     "text": [
      "4\n"
     ]
    }
   ],
   "source": [
    "def lcs_rec(str1,str2, i, j):\n",
    "    \n",
    "    if i == len(str1) or j == len(str2):\n",
    "        return 0\n",
    "\n",
    "    if str1[i] == str2[j]:\n",
    "        return 1+lcs_rec(str1, str2, i+1,j+1)\n",
    "    elif str1[i] != str2[j]:\n",
    "        return max(lcs_rec(str1, str2, i+1,j), lcs_rec(str1, str2, i,j+1))\n",
    "    \n",
    "\n",
    "\n",
    "\n",
    "str1 = input()\n",
    "str2 = input()\n",
    "ans = lcs_rec(str1,str2,0,0)\n",
    "print(ans)"
   ]
  },
  {
   "source": [
    "## Memoized Solution"
   ],
   "cell_type": "markdown",
   "metadata": {}
  },
  {
   "cell_type": "code",
   "execution_count": 23,
   "metadata": {},
   "outputs": [
    {
     "output_type": "stream",
     "name": "stdout",
     "text": [
      "4\n"
     ]
    }
   ],
   "source": [
    "import sys\n",
    "\n",
    "def lcs_mem(dp, str1, str2, i, j):\n",
    "\n",
    "    if i == len(str1) or j == len(str2):\n",
    "        return 0\n",
    "\n",
    "    if str1[i] == str2[j]:\n",
    "        if dp[i+1][j+1] == 0:\n",
    "            smallans = lcs_mem(dp, str1, str2, i+1,j+1)\n",
    "            dp[i+1][j+1] = smallans\n",
    "            ans = 1+smallans\n",
    "        else:\n",
    "            ans = 1+ dp[i+1][j+1]\n",
    "    \n",
    "    elif str1[i] != str2[j]:\n",
    "\n",
    "        if dp[i+1][j] == 0:\n",
    "            ans1 = (lcs_mem(dp, str1, str2, i+1,j))\n",
    "            dp[i+1][j] = ans1\n",
    "\n",
    "        else:\n",
    "            ans1 = dp[i+1][j]\n",
    "            \n",
    "        if dp[i][j+1] == 0:\n",
    "            ans2 = (lcs_mem(dp, str1, str2, i, j+1))       \n",
    "            dp[i][j+1] = ans2\n",
    "\n",
    "        else:\n",
    "            ans2 = dp[i][j+1]\n",
    "    \n",
    "        ans = max(ans1,ans2)\n",
    "    return ans\n",
    "\n",
    "str1 = input()\n",
    "str2 = input()\n",
    "dp = [[0 for j in range (len(str2)+1) ] for i in range(len(str1)+1)]\n",
    "\n",
    "ans = lcs_mem(dp,str1,str2,0,0)\n",
    "\n",
    "print(ans)"
   ]
  },
  {
   "cell_type": "code",
   "execution_count": 6,
   "metadata": {},
   "outputs": [
    {
     "output_type": "error",
     "ename": "AttributeError",
     "evalue": "module 'sys' has no attribute 'minSize'",
     "traceback": [
      "\u001b[1;31m---------------------------------------------------------------------------\u001b[0m",
      "\u001b[1;31mAttributeError\u001b[0m                            Traceback (most recent call last)",
      "\u001b[1;32m<ipython-input-6-61a0fc3c5f8f>\u001b[0m in \u001b[0;36m<module>\u001b[1;34m\u001b[0m\n\u001b[1;32m----> 1\u001b[1;33m \u001b[0msys\u001b[0m\u001b[1;33m.\u001b[0m\u001b[0mminSize\u001b[0m\u001b[1;33m\u001b[0m\u001b[1;33m\u001b[0m\u001b[0m\n\u001b[0m",
      "\u001b[1;31mAttributeError\u001b[0m: module 'sys' has no attribute 'minSize'"
     ]
    }
   ],
   "source": [
    "str1 = 'abdgec'\n",
    "str2 = 'bfdmgjc'"
   ]
  },
  {
   "source": [
    "## Iterative Solution"
   ],
   "cell_type": "markdown",
   "metadata": {}
  },
  {
   "cell_type": "code",
   "execution_count": 27,
   "metadata": {},
   "outputs": [
    {
     "output_type": "stream",
     "name": "stdout",
     "text": [
      "4\n"
     ]
    }
   ],
   "source": [
    "def lcs_iter(str1,str2):\n",
    "    dp = [[0 for j in range (len(str2)+1)]  for i in range(len(str1)+1)]\n",
    "    \n",
    "    for i in range(len(str1), -1, -1):\n",
    "        for j in range(len(str2), -1, -1):\n",
    "            if i == len(str1) or j == len(str2):\n",
    "                dp[i][j] = 0\n",
    "            else:\n",
    "                if str1[i] == str2[j]:\n",
    "                    dp[i][j] = 1+dp[i+1][j+1]\n",
    "                else:\n",
    "                    dp[i][j] = max(dp[i][j+1], dp[i+1][j])\n",
    "    \n",
    "\n",
    "    return dp[0][0]\n",
    "\n",
    "\n",
    "\n",
    "\n",
    "str1 = input()\n",
    "str2 = input()\n",
    "\n",
    "\n",
    "ans = lcs_iter(str1,str2)\n",
    "\n",
    "print(ans)\n",
    "\n"
   ]
  },
  {
   "cell_type": "code",
   "execution_count": null,
   "metadata": {},
   "outputs": [],
   "source": []
  }
 ]
}