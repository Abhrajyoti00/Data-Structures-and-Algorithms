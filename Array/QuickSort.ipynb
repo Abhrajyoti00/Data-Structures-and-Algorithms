{
 "metadata": {
  "language_info": {
   "codemirror_mode": {
    "name": "ipython",
    "version": 3
   },
   "file_extension": ".py",
   "mimetype": "text/x-python",
   "name": "python",
   "nbconvert_exporter": "python",
   "pygments_lexer": "ipython3",
   "version": "3.8.3-final"
  },
  "orig_nbformat": 2,
  "kernelspec": {
   "name": "python3",
   "display_name": "Python 3",
   "language": "python"
  }
 },
 "nbformat": 4,
 "nbformat_minor": 2,
 "cells": [
  {
   "source": [
    "The key process in quickSort is partition(). \n",
    "Target of partitions is, given an array and an element x of array as pivot, put x at its correct position in sorted array and put all smaller elements (smaller than x) before x, and put all greater elements (greater than x) after x. \n",
    "All this should be done in linear time."
   ],
   "cell_type": "markdown",
   "metadata": {}
  },
  {
   "cell_type": "code",
   "execution_count": 3,
   "metadata": {},
   "outputs": [
    {
     "output_type": "stream",
     "name": "stdout",
     "text": [
      "Sorted array is:\n1  \n5  \n7  \n8  \n9  \n10  \n"
     ]
    }
   ],
   "source": [
    "# l = Starting Index, h = ending index\n",
    "\n",
    "def partition(arr, low, high):\n",
    "    pivot = arr[high]\n",
    "    i = low-1 #Index Of Smaller Element\n",
    "    for j in range(low, high):\n",
    "        #If current element is smaller than the pivot\n",
    "        if arr[j]<pivot:\n",
    "            #increment index of smaller element\n",
    "            i=i+1\n",
    "            arr[j],arr[i] = arr[i], arr[j]\n",
    "\n",
    "    arr[i+1], arr[high] = arr[high], arr[i+1]\n",
    "    return (i+1)\n",
    "\n",
    "\n",
    "def quickSort(arr, l, h):\n",
    "    if l<h:\n",
    "        #  pi is partitioning index, arr[pi] is now at right place\n",
    "        pi = partition(arr, l, h)\n",
    "        quickSort(arr, l, pi-1)\n",
    "        quickSort(arr, pi+1, h)\n",
    "\n",
    "arr = [10, 7, 8, 9, 1, 5] \n",
    "n = len(arr) \n",
    "quickSort(arr,0,n-1) \n",
    "print (\"Sorted array is:\") \n",
    "for i in range(n): \n",
    "    print (arr[i], \" \") \n"
   ]
  },
  {
   "cell_type": "code",
   "execution_count": null,
   "metadata": {},
   "outputs": [],
   "source": []
  }
 ]
}