{
 "metadata": {
  "language_info": {
   "codemirror_mode": {
    "name": "ipython",
    "version": 3
   },
   "file_extension": ".py",
   "mimetype": "text/x-python",
   "name": "python",
   "nbconvert_exporter": "python",
   "pygments_lexer": "ipython3",
   "version": "3.8.3-final"
  },
  "orig_nbformat": 2,
  "kernelspec": {
   "name": "python3",
   "display_name": "Python 3"
  }
 },
 "nbformat": 4,
 "nbformat_minor": 2,
 "cells": [
  {
   "source": [
    "## GFG Solution "
   ],
   "cell_type": "markdown",
   "metadata": {}
  },
  {
   "cell_type": "code",
   "execution_count": 2,
   "metadata": {},
   "outputs": [
    {
     "output_type": "error",
     "ename": "ValueError",
     "evalue": "invalid literal for int() with base 10: ''",
     "traceback": [
      "\u001b[1;31m---------------------------------------------------------------------------\u001b[0m",
      "\u001b[1;31mValueError\u001b[0m                                Traceback (most recent call last)",
      "\u001b[1;32m<ipython-input-2-2898eac6c6e4>\u001b[0m in \u001b[0;36m<module>\u001b[1;34m\u001b[0m\n\u001b[0;32m     47\u001b[0m \u001b[1;31m#       str(MatrixChainOrder(arr, size)))\u001b[0m\u001b[1;33m\u001b[0m\u001b[1;33m\u001b[0m\u001b[1;33m\u001b[0m\u001b[0m\n\u001b[0;32m     48\u001b[0m \u001b[1;33m\u001b[0m\u001b[0m\n\u001b[1;32m---> 49\u001b[1;33m \u001b[0mn\u001b[0m\u001b[1;33m=\u001b[0m\u001b[0mint\u001b[0m\u001b[1;33m(\u001b[0m\u001b[0mstdin\u001b[0m\u001b[1;33m.\u001b[0m\u001b[0mreadline\u001b[0m\u001b[1;33m(\u001b[0m\u001b[1;33m)\u001b[0m\u001b[1;33m.\u001b[0m\u001b[0mstrip\u001b[0m\u001b[1;33m(\u001b[0m\u001b[1;33m)\u001b[0m\u001b[1;33m)\u001b[0m\u001b[1;33m\u001b[0m\u001b[1;33m\u001b[0m\u001b[0m\n\u001b[0m\u001b[0;32m     50\u001b[0m \u001b[0mp\u001b[0m\u001b[1;33m=\u001b[0m\u001b[1;33m[\u001b[0m\u001b[0mint\u001b[0m\u001b[1;33m(\u001b[0m\u001b[0mi\u001b[0m\u001b[1;33m)\u001b[0m \u001b[1;32mfor\u001b[0m \u001b[0mi\u001b[0m \u001b[1;32min\u001b[0m \u001b[0mstdin\u001b[0m\u001b[1;33m.\u001b[0m\u001b[0mreadline\u001b[0m\u001b[1;33m(\u001b[0m\u001b[1;33m)\u001b[0m\u001b[1;33m.\u001b[0m\u001b[0mstrip\u001b[0m\u001b[1;33m(\u001b[0m\u001b[1;33m)\u001b[0m\u001b[1;33m.\u001b[0m\u001b[0msplit\u001b[0m\u001b[1;33m(\u001b[0m\u001b[1;33m)\u001b[0m\u001b[1;33m]\u001b[0m\u001b[1;33m\u001b[0m\u001b[1;33m\u001b[0m\u001b[0m\n\u001b[0;32m     51\u001b[0m \u001b[0mprint\u001b[0m\u001b[1;33m(\u001b[0m\u001b[0mmcm\u001b[0m\u001b[1;33m(\u001b[0m\u001b[0mp\u001b[0m\u001b[1;33m,\u001b[0m\u001b[0mn\u001b[0m\u001b[1;33m)\u001b[0m\u001b[1;33m)\u001b[0m\u001b[1;33m\u001b[0m\u001b[1;33m\u001b[0m\u001b[0m\n",
      "\u001b[1;31mValueError\u001b[0m: invalid literal for int() with base 10: ''"
     ]
    }
   ],
   "source": [
    "# Dynamic Programming Python implementation of Matrix \n",
    "# Chain Multiplication. See the Cormen book for details \n",
    "# of the following algorithm \n",
    "import sys \n",
    "from sys import stdin\n",
    "# Matrix Ai has dimension p[i-1] x p[i] for i = 1..n \n",
    "  \n",
    "  \n",
    "def MatrixChainOrder(p, n): \n",
    "    # For simplicity of the program,  \n",
    "    # one extra row and one \n",
    "    # extra column are allocated in m[][].   \n",
    "    # 0th row and 0th \n",
    "    # column of m[][] are not used \n",
    "    m = [[0 for x in range(n)] for x in range(n)] \n",
    "  \n",
    "    # m[i, j] = Minimum number of scalar  \n",
    "    # multiplications needed \n",
    "    # to compute the matrix A[i]A[i + 1]...A[j] =  \n",
    "    # A[i..j] where \n",
    "    # dimension of A[i] is p[i-1] x p[i] \n",
    "  \n",
    "    # cost is zero when multiplying one matrix. \n",
    "    for i in range(1, n): \n",
    "        m[i][i] = 0\n",
    "  \n",
    "    # L is chain length. \n",
    "    for L in range(2, n): \n",
    "        for i in range(1, n-L + 1): \n",
    "            j = i + L-1\n",
    "            m[i][j] = sys.maxsize \n",
    "            for k in range(i, j): \n",
    "  \n",
    "                # q = cost / scalar multiplications \n",
    "                q = m[i][k] + m[k + 1][j] + p[i-1]*p[k]*p[j] \n",
    "                if q < m[i][j]: \n",
    "                    m[i][j] = q \n",
    "  \n",
    "    return m[1][n-1] \n",
    "  \n",
    "  \n",
    "# Driver code \n",
    "# arr = [1, 2, 3, 4] \n",
    "# size = len(arr) \n",
    "  \n",
    "# print(\"Minimum number of multiplications is \" +\n",
    "#       str(MatrixChainOrder(arr, size))) \n",
    "\n",
    "n=int(stdin.readline().strip())\n",
    "p=[int(i) for i in stdin.readline().strip().split()]\n",
    "print(mcm(p,n))"
   ]
  },
  {
   "cell_type": "code",
   "execution_count": null,
   "metadata": {},
   "outputs": [],
   "source": []
  }
 ]
}