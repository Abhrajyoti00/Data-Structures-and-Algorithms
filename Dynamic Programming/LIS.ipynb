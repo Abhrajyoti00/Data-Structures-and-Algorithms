{
 "metadata": {
  "language_info": {
   "codemirror_mode": {
    "name": "ipython",
    "version": 3
   },
   "file_extension": ".py",
   "mimetype": "text/x-python",
   "name": "python",
   "nbconvert_exporter": "python",
   "pygments_lexer": "ipython3",
   "version": "3.8.3-final"
  },
  "orig_nbformat": 2,
  "kernelspec": {
   "name": "python3",
   "display_name": "Python 3"
  }
 },
 "nbformat": 4,
 "nbformat_minor": 2,
 "cells": [
  {
   "source": [
    "## Longest Increasing Subsequence"
   ],
   "cell_type": "markdown",
   "metadata": {}
  },
  {
   "source": [
    "### Notes\n",
    "\n",
    "Subsequence : Like a subarray, move from left to right, but it need not be consecutive.  "
   ],
   "cell_type": "markdown",
   "metadata": {}
  },
  {
   "source": [
    "## Recursive Solution"
   ],
   "cell_type": "markdown",
   "metadata": {}
  },
  {
   "cell_type": "code",
   "execution_count": 16,
   "metadata": {},
   "outputs": [
    {
     "output_type": "stream",
     "name": "stdout",
     "text": [
      "4\n"
     ]
    }
   ],
   "source": [
    "import sys\n",
    "def lis(arr,i):\n",
    "    \n",
    "    if i  == len(arr):\n",
    "        return 0,0\n",
    "    \n",
    "    including_max = 1\n",
    "\n",
    "    for j in range(i+1,len(arr)):\n",
    "        if arr[j] >= arr[i]:\n",
    "            further_including_max = lis(arr,j)[0]\n",
    "            including_max = max(including_max,1+further_including_max)\n",
    "            \n",
    "    excluding_max = lis(arr, i+1)[1]\n",
    "    overallMax = max(including_max,excluding_max)\n",
    "    return including_max, overallMax\n",
    "\n",
    "\n",
    "\n",
    "arr =  list(map(int,input().split()))\n",
    "print(lis(arr,0)[1])\n"
   ]
  },
  {
   "source": [
    "## Iterative Solution"
   ],
   "cell_type": "markdown",
   "metadata": {}
  },
  {
   "cell_type": "code",
   "execution_count": 8,
   "metadata": {},
   "outputs": [
    {
     "output_type": "stream",
     "name": "stdout",
     "text": [
      "4\n"
     ]
    }
   ],
   "source": [
    "def lisI(li,n):\n",
    "\n",
    "    dp = [[0 for j in range(2)] for i in range(n+1)]\n",
    "\n",
    "    for i in range(n-1, -1, -1):\n",
    "        including_max = 1\n",
    "        for j in range (i+1, n):\n",
    "            if li[j] > li[i]:\n",
    "                including_max = max(including_max, 1+dp[j][0])\n",
    "            \n",
    "        dp[i][0]  = including_max\n",
    "        excluding_max = dp[i+1][1]\n",
    "\n",
    "        overall_max = max(including_max,excluding_max)\n",
    "        dp[i][1] = overall_max\n",
    "    \n",
    "    return dp[0][1]\n",
    "\n",
    "n = int(input())\n",
    "li = list(map(int,input().split()))\n",
    "ans = lisI(li,n)\n",
    "print(ans)"
   ]
  },
  {
   "cell_type": "code",
   "execution_count": null,
   "metadata": {},
   "outputs": [],
   "source": []
  }
 ]
}