{
 "metadata": {
  "language_info": {
   "codemirror_mode": {
    "name": "ipython",
    "version": 3
   },
   "file_extension": ".py",
   "mimetype": "text/x-python",
   "name": "python",
   "nbconvert_exporter": "python",
   "pygments_lexer": "ipython3",
   "version": "3.8.3-final"
  },
  "orig_nbformat": 2,
  "kernelspec": {
   "name": "python3",
   "display_name": "Python 3"
  }
 },
 "nbformat": 4,
 "nbformat_minor": 2,
 "cells": [
  {
   "cell_type": "code",
   "execution_count": 10,
   "metadata": {},
   "outputs": [
    {
     "output_type": "stream",
     "name": "stdout",
     "text": [
      "3\n3\n3\n3\n3\n4\n3\n3\n"
     ]
    }
   ],
   "source": [
    "d = {2:('a','b','c'), 3: ('d','e','f'), 4: ('g', 'h', 'i'), 5: ('j', 'k', 'l'), 6: ('m','n','o'), 7: ('p','q','r','s'), \n",
    "8: ('t','u','v'), 9: ('x', 'y', 'z')}\n",
    "\n",
    "for tup in d.values():\n",
    "    print(len(tup))"
   ]
  },
  {
   "source": [
    "# Code "
   ],
   "cell_type": "markdown",
   "metadata": {}
  },
  {
   "cell_type": "code",
   "execution_count": 43,
   "metadata": {},
   "outputs": [
    {
     "output_type": "stream",
     "name": "stdout",
     "text": [
      "adg\nadh\nadi\naeg\naeh\naei\nafg\nafh\nafi\nbdg\nbdh\nbdi\nbeg\nbeh\nbei\nbfg\nbfh\nbfi\ncdg\ncdh\ncdi\nceg\nceh\ncei\ncfg\ncfh\ncfi\n"
     ]
    }
   ],
   "source": [
    "\n",
    "def getKeypadCom(num):\n",
    "    \n",
    "    if num == 0:\n",
    "        output = []\n",
    "        output.append('')\n",
    "        return output\n",
    "\n",
    "    smaller_number = num//10\n",
    "    remaining_digit = num%10\n",
    "    smaller_output = getKeypadCom(smaller_number)\n",
    "    \n",
    "    output=[]\n",
    "    for i in range(len(smaller_output)):\n",
    "        # print(d[remaining_digit])\n",
    "        for j in range(len(d[remaining_digit])):\n",
    "            output.append(smaller_output[i]+str(d[remaining_digit][j]))\n",
    "    return output\n",
    "\n",
    "\n",
    "\n",
    "\n",
    "\n",
    "num = int(input())\n",
    "# print('Num is',num)\n",
    "d = {2:('a','b','c'), 3: ('d','e','f'), 4: ('g', 'h', 'i'), 5: ('j', 'k', 'l'), 6: ('m','n','o'), 7: ('p','q','r','s'), \n",
    "8: ('t','u','v'), 9: ('w', 'x', 'y', 'z')}\n",
    "ans = (getKeypadCom(num))\n",
    "for s in ans:\n",
    "    print(s)"
   ]
  },
  {
   "cell_type": "code",
   "execution_count": null,
   "metadata": {},
   "outputs": [],
   "source": []
  }
 ]
}