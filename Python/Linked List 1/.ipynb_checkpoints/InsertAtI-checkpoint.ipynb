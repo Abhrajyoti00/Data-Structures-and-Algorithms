{
 "cells": [
  {
   "cell_type": "code",
   "execution_count": 7,
   "metadata": {},
   "outputs": [
    {
     "name": "stdout",
     "output_type": "stream",
     "text": [
      "1 2 3 4 5 6\n",
      "6\n",
      "20\n",
      "1\n",
      "1 2 3 4 5 6 20 \n"
     ]
    }
   ],
   "source": [
    "class Node :\n",
    "    def __init__(self, data) :\n",
    "        self.data = data\n",
    "        self.next = None\n",
    "\n",
    "def length(head):\n",
    "    cnt = 0\n",
    "    while head is not None:\n",
    "        cnt+=1\n",
    "        head = head.next\n",
    "    return cnt\n",
    "\n",
    "\n",
    "def insertAtI(head, i, data):\n",
    "    cnt = 0\n",
    "    prev = None\n",
    "    curr = head\n",
    "    if i<0 or i>length(head):\n",
    "        return head\n",
    "    while cnt <i:\n",
    "        prev = curr\n",
    "        curr = curr.next        \n",
    "        cnt = cnt+1\n",
    "    newNode = Node(data)\n",
    "    if newNode is None:\n",
    "        head = newNode\n",
    "    else:\n",
    "        prev.next = newNode\n",
    "        newNode.next = curr\n",
    "    \n",
    "    while head is not None:\n",
    "        if i==cnt:\n",
    "            print(head.data)\n",
    "            return\n",
    "        head = head.next\n",
    "        cnt+=1\n",
    "\n",
    "\n",
    "\n",
    "#Taking Input Using Fast I/O\n",
    "def takeInput() :\n",
    "    head = None\n",
    "    tail = None\n",
    "\n",
    "    datas = list(map(int, input().split(\" \")))\n",
    "\n",
    "    i = 0\n",
    "    while (i < len(datas)) and (datas[i] != -1) :\n",
    "        data = datas[i]\n",
    "        newNode = Node(data)\n",
    "\n",
    "        if head is None :\n",
    "            head = newNode\n",
    "            tail = newNode\n",
    "\n",
    "        else :\n",
    "            tail.next = newNode\n",
    "            tail = newNode\n",
    "\n",
    "        i += 1\n",
    "\n",
    "    return head\n",
    "\n",
    "\n",
    "#to print the linked list \n",
    "def printLinkedList(head) :\n",
    "\n",
    "    while head is not None :\n",
    "        print(head.data, end = \" \")\n",
    "        head = head.next\n",
    "\n",
    "    print()\n",
    "\n",
    "\n",
    "#main\n",
    "\n",
    "head = takeInput()\n",
    "i = int(input())\n",
    "data = int(input())\n",
    "insertAtI(head, i, data)\n",
    "printLinkedList(head)"
   ]
  },
  {
   "cell_type": "code",
   "execution_count": null,
   "metadata": {},
   "outputs": [],
   "source": [
    "#Time Complexity O(n)"
   ]
  }
 ],
 "metadata": {
  "kernelspec": {
   "display_name": "Python 3",
   "language": "python",
   "name": "python3"
  },
  "language_info": {
   "codemirror_mode": {
    "name": "ipython",
    "version": 3
   },
   "file_extension": ".py",
   "mimetype": "text/x-python",
   "name": "python",
   "nbconvert_exporter": "python",
   "pygments_lexer": "ipython3",
   "version": "3.8.3"
  }
 },
 "nbformat": 4,
 "nbformat_minor": 4
}
