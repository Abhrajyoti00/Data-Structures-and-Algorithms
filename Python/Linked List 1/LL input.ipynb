{
 "cells": [
  {
   "cell_type": "code",
   "execution_count": 1,
   "metadata": {},
   "outputs": [
    {
     "name": "stdout",
     "output_type": "stream",
     "text": [
      "4 2 1 45 6\n"
     ]
    }
   ],
   "source": [
    "class Node:\n",
    "    def __init__(self, data):\n",
    "        self.data = data\n",
    "        self.next = None\n",
    "def takeInput():\n",
    "    inputList = [int(ele) for ele in input().split()]\n",
    "    head = None\n",
    "    for currData in inputList:\n",
    "        if currData == -1:\n",
    "            break\n",
    "        newNode = Node(currData)\n",
    "        if head is None:\n",
    "            head = newNode\n",
    "        else:\n",
    "            curr = head\n",
    "            while curr.next is not None:\n",
    "                curr = curr.next\n",
    "            curr.next = newNode\n",
    "    return head\n",
    "head = takeInput()"
   ]
  },
  {
   "cell_type": "markdown",
   "metadata": {},
   "source": [
    "# Print LL"
   ]
  },
  {
   "cell_type": "code",
   "execution_count": 3,
   "metadata": {},
   "outputs": [
    {
     "name": "stdout",
     "output_type": "stream",
     "text": [
      "1 2 3 4 5 6\n",
      "1->2->3->4->5->6->None\n",
      "1->2->3->4->5->6->None\n"
     ]
    }
   ],
   "source": [
    "class Node:\n",
    "    def __init__(self, data):\n",
    "        self.data = data\n",
    "        self.next = None\n",
    "        \n",
    "def printLL(head):\n",
    "    while head is not None:\n",
    "        print(str(head.data) + \"->\", end='')\n",
    "        head = head.next\n",
    "    print('None')\n",
    "    return\n",
    "def takeInput():\n",
    "    inputList = [int(ele) for ele in input().split()]\n",
    "    head = None\n",
    "    for currData in inputList:\n",
    "        if currData == -1:\n",
    "            break\n",
    "        newNode = Node(currData)\n",
    "        if head is None:\n",
    "            head = newNode\n",
    "        else:\n",
    "            curr = head\n",
    "            while curr.next is not None:\n",
    "                curr = curr.next\n",
    "            curr.next = newNode\n",
    "    return head\n",
    "head = takeInput()\n",
    "printLL(head)\n",
    "printLL(head)"
   ]
  },
  {
   "cell_type": "code",
   "execution_count": null,
   "metadata": {},
   "outputs": [],
   "source": []
  }
 ],
 "metadata": {
  "kernelspec": {
   "display_name": "Python 3",
   "language": "python",
   "name": "python3"
  },
  "language_info": {
   "codemirror_mode": {
    "name": "ipython",
    "version": 3
   },
   "file_extension": ".py",
   "mimetype": "text/x-python",
   "name": "python",
   "nbconvert_exporter": "python",
   "pygments_lexer": "ipython3",
   "version": "3.8.3"
  }
 },
 "nbformat": 4,
 "nbformat_minor": 4
}
