{
 "cells": [
  {
   "cell_type": "code",
   "execution_count": 1,
   "metadata": {},
   "outputs": [],
   "source": [
    "# Can have as many children possible\n",
    "# No limitatoin on the no of children\n"
   ]
  },
  {
   "cell_type": "code",
   "execution_count": 2,
   "metadata": {},
   "outputs": [],
   "source": [
    "# In generic trees, along with  the data we will \n",
    "# also have a  list of the addresses of the children."
   ]
  },
  {
   "cell_type": "code",
   "execution_count": null,
   "metadata": {},
   "outputs": [],
   "source": []
  },
  {
   "cell_type": "code",
   "execution_count": 3,
   "metadata": {},
   "outputs": [],
   "source": [
    "#Generic tree node"
   ]
  },
  {
   "cell_type": "code",
   "execution_count": 4,
   "metadata": {},
   "outputs": [],
   "source": [
    "class TreeNode():\n",
    "    def __init__(self,data):\n",
    "        self.data = data\n",
    "        self.children = list()\n"
   ]
  },
  {
   "cell_type": "code",
   "execution_count": 26,
   "metadata": {},
   "outputs": [],
   "source": [
    "def printTree(root):\n",
    "    if root == None:\n",
    "        return # This is not a base case, its just the edge case\n",
    "    print(root.data)\n",
    "    for child in root.children:\n",
    "        printTree(child)"
   ]
  },
  {
   "cell_type": "code",
   "execution_count": 35,
   "metadata": {},
   "outputs": [],
   "source": [
    "def printTreeDetailed(root):\n",
    "    if root == None:\n",
    "        return\n",
    "    print(root.data, \":\", end=' ')\n",
    "    for child in root.children:\n",
    "        print(child.data, end = \",\")\n",
    "    \n",
    "    print()\n",
    "    \n",
    "    for child in root.children:\n",
    "        printTreeDetailed(child)"
   ]
  },
  {
   "cell_type": "code",
   "execution_count": 45,
   "metadata": {},
   "outputs": [],
   "source": [
    "# input me I'll be asking for the no of children\n",
    "\n",
    "def takeTreeInput():\n",
    "    print('Enter root data ')\n",
    "    rootData = int(input())\n",
    "    root = TreeNode(rootData)\n",
    "    print('Enter number of children')\n",
    "    chidrenCount = int(input())\n",
    "    \n",
    "    for i in range(chidrenCount):\n",
    "        child = takeTreeInput()\n",
    "        root.children.append(child)\n",
    "    return root"
   ]
  },
  {
   "cell_type": "code",
   "execution_count": 41,
   "metadata": {},
   "outputs": [],
   "source": [
    "n1 = TreeNode(5)\n",
    "n2 = TreeNode(2)\n",
    "n3 = TreeNode(9)\n",
    "n4 = TreeNode(8)\n",
    "n5 = TreeNode(7)\n",
    "n6 = TreeNode(15)\n",
    "n7 = TreeNode(1)"
   ]
  },
  {
   "cell_type": "code",
   "execution_count": 42,
   "metadata": {},
   "outputs": [],
   "source": [
    "n1.children.append(n2)\n",
    "n1.children.append(n3)\n",
    "n1.children.append(n4)\n",
    "n1.children.append(n5)\n",
    "\n",
    "n3.children.append(n6)\n",
    "n3.children.append(n7)\n"
   ]
  },
  {
   "cell_type": "code",
   "execution_count": 43,
   "metadata": {},
   "outputs": [
    {
     "name": "stdout",
     "output_type": "stream",
     "text": [
      "5\n",
      "2\n",
      "9\n",
      "15\n",
      "1\n",
      "8\n",
      "7\n"
     ]
    }
   ],
   "source": [
    "printTree(n1)"
   ]
  },
  {
   "cell_type": "code",
   "execution_count": 44,
   "metadata": {},
   "outputs": [
    {
     "name": "stdout",
     "output_type": "stream",
     "text": [
      "5 : 2,9,8,7,\n",
      "2 : \n",
      "9 : 15,1,\n",
      "15 : \n",
      "1 : \n",
      "8 : \n",
      "7 : \n"
     ]
    }
   ],
   "source": [
    "printTreeDetailed(n1)"
   ]
  },
  {
   "cell_type": "code",
   "execution_count": 47,
   "metadata": {},
   "outputs": [
    {
     "name": "stdout",
     "output_type": "stream",
     "text": [
      "Enter root data \n",
      "5\n",
      "Enter number of children\n",
      "4\n",
      "Enter root data \n",
      "2\n",
      "Enter number of children\n",
      "0\n",
      "Enter root data \n",
      "9\n",
      "Enter number of children\n",
      "2\n",
      "Enter root data \n",
      "15\n",
      "Enter number of children\n",
      "0\n",
      "Enter root data \n",
      "1\n",
      "Enter number of children\n",
      "0\n",
      "Enter root data \n",
      "7\n",
      "Enter number of children\n",
      "0\n",
      "Enter root data \n",
      "8\n",
      "Enter number of children\n",
      "0\n",
      "5 : 2,9,7,8,\n",
      "2 : \n",
      "9 : 15,1,\n",
      "15 : \n",
      "1 : \n",
      "7 : \n",
      "8 : \n"
     ]
    }
   ],
   "source": [
    "root = takeTreeInput()\n",
    "printTreeDetailed(root)"
   ]
  },
  {
   "cell_type": "code",
   "execution_count": 48,
   "metadata": {},
   "outputs": [],
   "source": [
    "#Number of nodes\n"
   ]
  },
  {
   "cell_type": "code",
   "execution_count": 49,
   "metadata": {},
   "outputs": [],
   "source": [
    "def numNodes(root):\n",
    "    if root == None:\n",
    "        return 0\n",
    "    count = 1\n",
    "    for child in root.children:\n",
    "        count+=numNodes(child)\n",
    "    return count"
   ]
  },
  {
   "cell_type": "code",
   "execution_count": 50,
   "metadata": {},
   "outputs": [
    {
     "name": "stdout",
     "output_type": "stream",
     "text": [
      "Enter root data \n",
      "1\n",
      "Enter number of children\n",
      "3\n",
      "Enter root data \n",
      "2\n",
      "Enter number of children\n",
      "0\n",
      "Enter root data \n",
      "3\n",
      "Enter number of children\n",
      "2\n",
      "Enter root data \n",
      "5\n",
      "Enter number of children\n",
      "0\n",
      "Enter root data \n",
      "6\n",
      "Enter number of children\n",
      "3\n",
      "Enter root data \n",
      "7\n",
      "Enter number of children\n",
      "0\n",
      "Enter root data \n",
      "8\n",
      "Enter number of children\n",
      "0\n",
      "Enter root data \n",
      "9\n",
      "Enter number of children\n",
      "0\n",
      "Enter root data \n",
      "4\n",
      "Enter number of children\n",
      "0\n",
      "1 : 2,3,4,\n",
      "2 : \n",
      "3 : 5,6,\n",
      "5 : \n",
      "6 : 7,8,9,\n",
      "7 : \n",
      "8 : \n",
      "9 : \n",
      "4 : \n",
      "The no of nodes =  9\n"
     ]
    }
   ],
   "source": [
    "root = takeTreeInput()\n",
    "printTreeDetailed(root)\n",
    "print('The no of nodes = ', numNodes(root))"
   ]
  },
  {
   "cell_type": "code",
   "execution_count": 51,
   "metadata": {},
   "outputs": [],
   "source": [
    "# Taking Level Wise Input\n"
   ]
  },
  {
   "cell_type": "code",
   "execution_count": 57,
   "metadata": {},
   "outputs": [],
   "source": [
    "import queue\n",
    "def takeTreeInputLevelWise():\n",
    "    q = queue.Queue()\n",
    "    print('Enter root')\n",
    "    rootData = int(input())\n",
    "    if rootData == -1:\n",
    "        return None\n",
    "    root = TreeNode(rootData)\n",
    "    q.put(root)\n",
    "    while (not(q.empty())):\n",
    "        curr_node = q.get()\n",
    "        print('Enter num of children for', curr_node.data)\n",
    "        numChildren = int(input())\n",
    "        for i in range (numChildren):\n",
    "            print('Enter next child for ', curr_node.data)\n",
    "            childData = int(input())\n",
    "            child = TreeNode(childData)\n",
    "            curr_node.children.append(child)\n",
    "            q.put(child)\n",
    "    return root"
   ]
  },
  {
   "cell_type": "code",
   "execution_count": 60,
   "metadata": {},
   "outputs": [
    {
     "name": "stdout",
     "output_type": "stream",
     "text": [
      "Enter root\n",
      "1\n",
      "Enter num of children for 1\n",
      "3\n",
      "Enter next child for  1\n",
      "2\n",
      "Enter next child for  1\n",
      "3\n",
      "Enter next child for  1\n",
      "4\n",
      "Enter num of children for 2\n",
      "0\n",
      "Enter num of children for 3\n",
      "2\n",
      "Enter next child for  3\n",
      "5\n",
      "Enter next child for  3\n",
      "6\n",
      "Enter num of children for 4\n",
      "0\n",
      "Enter num of children for 5\n",
      "0\n",
      "Enter num of children for 6\n",
      "3\n",
      "Enter next child for  6\n",
      "7\n",
      "Enter next child for  6\n",
      "8\n",
      "Enter next child for  6\n",
      "9\n",
      "Enter num of children for 7\n",
      "0\n",
      "Enter num of children for 8\n",
      "0\n",
      "Enter num of children for 9\n",
      "0\n",
      "1 : 2,3,4,\n",
      "2 : \n",
      "3 : 5,6,\n",
      "5 : \n",
      "6 : 7,8,9,\n",
      "7 : \n",
      "8 : \n",
      "9 : \n",
      "4 : \n",
      "The no of nodes =  9\n"
     ]
    }
   ],
   "source": [
    "root = takeTreeInputLevelWise()\n",
    "printTreeDetailed(root)\n",
    "print('The no of nodes = ', numNodes(root))"
   ]
  },
  {
   "cell_type": "code",
   "execution_count": null,
   "metadata": {},
   "outputs": [],
   "source": []
  }
 ],
 "metadata": {
  "kernelspec": {
   "display_name": "Python 3",
   "language": "python",
   "name": "python3"
  },
  "language_info": {
   "codemirror_mode": {
    "name": "ipython",
    "version": 3
   },
   "file_extension": ".py",
   "mimetype": "text/x-python",
   "name": "python",
   "nbconvert_exporter": "python",
   "pygments_lexer": "ipython3",
   "version": "3.8.3"
  }
 },
 "nbformat": 4,
 "nbformat_minor": 4
}
