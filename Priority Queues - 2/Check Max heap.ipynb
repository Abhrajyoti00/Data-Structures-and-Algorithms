{
 "metadata": {
  "language_info": {
   "codemirror_mode": {
    "name": "ipython",
    "version": 3
   },
   "file_extension": ".py",
   "mimetype": "text/x-python",
   "name": "python",
   "nbconvert_exporter": "python",
   "pygments_lexer": "ipython3",
   "version": "3.8.3-final"
  },
  "orig_nbformat": 2,
  "kernelspec": {
   "name": "python3",
   "display_name": "Python 3"
  }
 },
 "nbformat": 4,
 "nbformat_minor": 2,
 "cells": [
  {
   "cell_type": "code",
   "execution_count": 5,
   "metadata": {},
   "outputs": [
    {
     "output_type": "stream",
     "name": "stdout",
     "text": [
      "false\n"
     ]
    }
   ],
   "source": [
    "import heapq\n",
    "def checkMaxHeap(lst):\n",
    "    new_array = []\n",
    "    for ele in lst:\n",
    "        new_array.append(ele)  # Can't make new_array = lst as it stores the reference to list and would make changes at the original places too\n",
    "    heapq._heapify_max(new_array)\n",
    "    return (lst == new_array)\n",
    "\n",
    "# Main Code\n",
    "n=int(input())\n",
    "lst=list(int(i) for i in input().strip().split(' '))\n",
    "print('true') if checkMaxHeap(lst) else print('false')\n"
   ]
  },
  {
   "cell_type": "code",
   "execution_count": null,
   "metadata": {},
   "outputs": [],
   "source": []
  }
 ]
}