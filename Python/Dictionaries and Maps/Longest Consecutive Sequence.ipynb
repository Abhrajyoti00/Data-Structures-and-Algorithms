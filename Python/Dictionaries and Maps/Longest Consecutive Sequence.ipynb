{
 "metadata": {
  "language_info": {
   "codemirror_mode": {
    "name": "ipython",
    "version": 3
   },
   "file_extension": ".py",
   "mimetype": "text/x-python",
   "name": "python",
   "nbconvert_exporter": "python",
   "pygments_lexer": "ipython3",
   "version": "3.9.0-final"
  },
  "orig_nbformat": 2,
  "kernelspec": {
   "name": "Python 3.9.0 64-bit",
   "display_name": "Python 3.9.0 64-bit",
   "metadata": {
    "interpreter": {
     "hash": "86fac28bb28b019b7f775f2fe5ba6a78f4263158a8fbe5bc11c7908c73e10420"
    }
   }
  }
 },
 "nbformat": 4,
 "nbformat_minor": 2,
 "cells": [
  {
   "source": [
    "## Problem \n",
    "\n",
    "You are given an array of unique integers that contain numbers in random order. Write a program to find the longest possible sequence of consecutive numbers using the numbers from given array.\n",
    "You need to return the output array which contains consecutive elements. Order of elements in the output is not important.\n",
    "Best solution takes O(n) time.\n",
    "If two sequences are of equal length then return the sequence starting with the number whose occurrence is earlier in the array.\n",
    "\n",
    "\n",
    "Input Format :\n",
    "Line 1 : Integer n, Size of array\n",
    "\n",
    "Line 2 : Array elements (separated by space)\n",
    "\n",
    "Constraints :\n",
    "0 <= n <= 10^6\n",
    "\n",
    "Sample Input 1 :\n",
    "13\n",
    "\n",
    "2 12 9 16 10 5 3 20 25 11 1 8 6 \n",
    "\n",
    "Sample Output 1 :\n",
    "\n",
    "8 \n",
    "9 \n",
    "10 \n",
    "11 \n",
    "12\n",
    "\n",
    "Sample Input 2 :\n",
    "\n",
    "7\n",
    "3 7 2 1 9 8 41\n",
    "\n",
    "Sample Output 2 :\n",
    "\n",
    "7\n",
    "8\n",
    "9\n",
    "\n",
    "Explanation: Sequence should be of consecutive numbers. Here we have 2 sequences with same length i.e. [1, 2, 3] and [7, 8, 9], but output should be [7, 8, 9] because the starting point of [7, 8, 9] comes first in input array.\n",
    "\n",
    "Sample Input 3 :\n",
    "\n",
    "7\n",
    "\n",
    "15 24 23 12 19 11 16\n",
    "\n",
    "Sample Output 3 :\n",
    "\n",
    "15 \n",
    "16\n",
    "\n",
    "\n"
   ],
   "cell_type": "markdown",
   "metadata": {}
  },
  {
   "source": [
    "## Solution\n"
   ],
   "cell_type": "markdown",
   "metadata": {}
  },
  {
   "cell_type": "code",
   "execution_count": 40,
   "metadata": {},
   "outputs": [
    {
     "output_type": "stream",
     "name": "stdout",
     "text": [
      "8\n9\n10\n11\n12\n"
     ]
    }
   ],
   "source": [
    "def longestConsecutiveIncreasingSequence(arr):\n",
    "    s = set()\n",
    "    ans = 0\n",
    "    start = arr[0]\n",
    " \n",
    "    # Hash all the array elements\n",
    "    for ele in arr:\n",
    "        s.add(ele)\n",
    " \n",
    "    # check each possible sequence from the start\n",
    "    # then update optimal length\n",
    "    for i in range(n):\n",
    "         # if current element is the starting\n",
    "        # element of a sequence\n",
    "        if (arr[i]-1) not in s:\n",
    " \n",
    "            # Then check for next elements in the\n",
    "            # sequence\n",
    "            j = arr[i]\n",
    "            while(j in s):\n",
    "                j+= 1\n",
    " \n",
    "            # update  optimal length if this length\n",
    "            # is more\n",
    "            if (j-arr[i]>ans):\n",
    "                start = arr[i]\n",
    "            ans = max(ans, j-arr[i])\n",
    "            # print('j = ',j)\n",
    "            # print('arr[i] = ',arr[i])\n",
    "\n",
    "    final_list = [i for i in range(start, start+ans)]\n",
    "    return final_list\n",
    "n=int(input())\n",
    "l=list(int(i) for i in input().strip().split(' '))\n",
    "final = longestConsecutiveIncreasingSequence(l)\n",
    "# print(final)\n",
    "for num in final:\n",
    "    print(num)\n",
    "# 9 1 8 6 3 4 2 7 10 15"
   ]
  },
  {
   "cell_type": "code",
   "execution_count": null,
   "metadata": {},
   "outputs": [],
   "source": []
  }
 ]
}