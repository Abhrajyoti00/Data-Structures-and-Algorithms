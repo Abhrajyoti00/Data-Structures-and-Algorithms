{
 "cells": [
  {
   "cell_type": "code",
   "execution_count": 15,
   "metadata": {
    "scrolled": true
   },
   "outputs": [
    {
     "name": "stdout",
     "output_type": "stream",
     "text": [
      "5 3 1 2 3 1 15 2 4 5 1 6 0 0 0 0\n",
      "1\n"
     ]
    }
   ],
   "source": [
    "class treeNode:\n",
    "    def __init__(self, data):\n",
    "        self.data = data\n",
    "        self.children = []\n",
    "\n",
    "# Helper function to find the node  \n",
    "def maxSumUtil(root, resNode, maxsum): \n",
    "  \n",
    "    # Base Case  \n",
    "    if root == None: \n",
    "        return\n",
    "  \n",
    "    # curr contains the sum of the root  \n",
    "    # and its children  \n",
    "    currsum = root.data\n",
    "  \n",
    "    # total no of children  \n",
    "    count = len(root.children)  \n",
    "  \n",
    "    # for every child call recursively  \n",
    "    for i in range(0, count):  \n",
    "        currsum += root.children[i].data  \n",
    "        resNode, maxsum = maxSumUtil(root.children[i], \n",
    "                                     resNode, maxsum)  \n",
    "  \n",
    "    # if curr is greater than sum,  \n",
    "    # update it  \n",
    "    if currsum > maxsum:  \n",
    "  \n",
    "        # resultant node  \n",
    "        resNode = root  \n",
    "        maxsum = currsum  \n",
    "      \n",
    "    return resNode, maxsum \n",
    "  \n",
    "# Function to find the node having  \n",
    "# max sum of children and node  \n",
    "def maxSum(root):  \n",
    "  \n",
    "    # resultant node with max  \n",
    "    # sum of children and node \n",
    "    resNode, maxsum = treeNode(None), 0\n",
    "    resNode, maxsum = maxSumUtil(root, resNode,  \n",
    "                                       maxsum)  \n",
    "  \n",
    "    # return the key of resultant node  \n",
    "    return resNode\n",
    "    \n",
    "def createLevelWiseTree(arr):\n",
    "    root = treeNode(int(arr[0]))\n",
    "    q = [root]\n",
    "    size = len(arr)\n",
    "    i = 1\n",
    "    while i<size:\n",
    "        parent = q.pop(0)\n",
    "        childCount = int(arr[i])\n",
    "        i += 1\n",
    "        for j in range(0,childCount):\n",
    "            temp = treeNode(int(arr[i+j]))\n",
    "            parent.children.append(temp)\n",
    "            q.append(temp)\n",
    "        i += childCount\n",
    "    return root\n",
    "\n",
    "# Main\n",
    "arr = list(int(x) for x in input().strip().split(' '))\n",
    "tree = createLevelWiseTree(arr)\n",
    "temp = maxSum(tree)\n",
    "print(temp.data)\n",
    "# 5 3 1 2 3 1 15 2 4 5 1 6 0 0 0 0"
   ]
  },
  {
   "cell_type": "code",
   "execution_count": null,
   "metadata": {},
   "outputs": [],
   "source": []
  }
 ],
 "metadata": {
  "kernelspec": {
   "display_name": "Python 3",
   "language": "python",
   "name": "python3"
  },
  "language_info": {
   "codemirror_mode": {
    "name": "ipython",
    "version": 3
   },
   "file_extension": ".py",
   "mimetype": "text/x-python",
   "name": "python",
   "nbconvert_exporter": "python",
   "pygments_lexer": "ipython3",
   "version": "3.8.3"
  }
 },
 "nbformat": 4,
 "nbformat_minor": 4
}
