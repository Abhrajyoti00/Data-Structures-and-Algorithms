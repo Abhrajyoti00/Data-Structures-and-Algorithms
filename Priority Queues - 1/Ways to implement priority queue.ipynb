{
 "metadata": {
  "language_info": {
   "codemirror_mode": {
    "name": "ipython",
    "version": 3
   },
   "file_extension": ".py",
   "mimetype": "text/x-python",
   "name": "python",
   "nbconvert_exporter": "python",
   "pygments_lexer": "ipython3",
   "version": 3
  },
  "orig_nbformat": 2
 },
 "nbformat": 4,
 "nbformat_minor": 2,
 "cells": [
  {
   "source": [
    "Problem:\n",
    "\n",
    "We are given n numbers\n",
    "\n",
    "3 7 6 4 2 each having priority equal to their value\n",
    "\n",
    "\n",
    "\n"
   ],
   "cell_type": "markdown",
   "metadata": {}
  },
  {
   "source": [
    "We can insert or remove \n",
    "\n",
    "Let's say we are implementing min priority queue\n",
    "\n",
    "We need to get minium\n",
    "\n",
    "2 | 3 7 6 4 \n",
    "\n",
    "3 | 7 6 4 1 (1 inserted)"
   ],
   "cell_type": "markdown",
   "metadata": {}
  },
  {
   "source": [],
   "cell_type": "markdown",
   "metadata": {}
  }
 ]
}