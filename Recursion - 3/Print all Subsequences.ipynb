{
 "metadata": {
  "language_info": {
   "codemirror_mode": {
    "name": "ipython",
    "version": 3
   },
   "file_extension": ".py",
   "mimetype": "text/x-python",
   "name": "python",
   "nbconvert_exporter": "python",
   "pygments_lexer": "ipython3",
   "version": "3.8.3-final"
  },
  "orig_nbformat": 2,
  "kernelspec": {
   "name": "python3",
   "display_name": "Python 3"
  }
 },
 "nbformat": 4,
 "nbformat_minor": 2,
 "cells": [
  {
   "cell_type": "code",
   "execution_count": 2,
   "metadata": {},
   "outputs": [
    {
     "output_type": "stream",
     "name": "stdout",
     "text": [
      "\nc\nb\nbc\na\nac\nab\nabc\n"
     ]
    }
   ],
   "source": [
    "def printSubs(inp, out):\n",
    "    if len(inp) == 0:\n",
    "        print(out)\n",
    "        return\n",
    "    else:\n",
    "        smaller_inp = inp[1:]\n",
    "        printSubs(smaller_inp, out)\n",
    "        printSubs(smaller_inp, out + inp[0])\n",
    "\n",
    "\n",
    "str = input()\n",
    "printSubs(str, '')"
   ]
  },
  {
   "cell_type": "code",
   "execution_count": null,
   "metadata": {},
   "outputs": [],
   "source": []
  }
 ]
}