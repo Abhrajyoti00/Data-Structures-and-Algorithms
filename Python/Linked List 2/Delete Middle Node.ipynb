{
 "metadata": {
  "language_info": {
   "codemirror_mode": {
    "name": "ipython",
    "version": 3
   },
   "file_extension": ".py",
   "mimetype": "text/x-python",
   "name": "python",
   "nbconvert_exporter": "python",
   "pygments_lexer": "ipython3",
   "version": 3
  },
  "orig_nbformat": 2
 },
 "nbformat": 4,
 "nbformat_minor": 2,
 "cells": [
  {
   "cell_type": "code",
   "execution_count": null,
   "metadata": {},
   "outputs": [],
   "source": [
    "class Node:\n",
    "    def __init__(self, data):\n",
    "        self.data = data\n",
    "        self.next = None\n",
    "def delete_middle_node(head):\n",
    "    fast = head\n",
    "    slow = head\n",
    "    while fast.next!=None:\n",
    "        fast = head.next.next\n",
    "        slow = head.next\n",
    "        head = head.next\n",
    "        print(fast.data)\n",
    "        print(slow.data)\n",
    "    return head\n",
    "ll = [ele for ele in input().split()]\n",
    "t = delete_middle_node(ll)\n",
    "        \n",
    "\n",
    "\n"
   ]
  }
 ]
}