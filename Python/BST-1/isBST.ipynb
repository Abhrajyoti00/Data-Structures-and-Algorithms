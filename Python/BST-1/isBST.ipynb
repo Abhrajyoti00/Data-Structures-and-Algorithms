{
 "cells": [
  {
   "cell_type": "code",
   "execution_count": 9,
   "metadata": {},
   "outputs": [],
   "source": [
    "class BinaryTreeNode:\n",
    "    def __init__(self,data):\n",
    "        self.data = data\n",
    "        self.left = None\n",
    "        self.right = None"
   ]
  },
  {
   "cell_type": "code",
   "execution_count": 10,
   "metadata": {},
   "outputs": [],
   "source": [
    "import queue\n",
    "def printTreeLevelWise(root):\n",
    "    q = queue.Queue()\n",
    "    if root == None:\n",
    "        return\n",
    "    q.put(root)\n",
    "    \n",
    "    while (not(q.empty())):\n",
    "        currentNode = q.get()\n",
    "        print(currentNode.data, end = ':')\n",
    "        \n",
    "        if currentNode.left!=None:\n",
    "            print(\"L:\",end = '')\n",
    "            print(currentNode.left.data, end = ',')\n",
    "            q.put(currentNode.left)\n",
    "        else:\n",
    "            print(\"L:\", end = \"\")\n",
    "            print(-1, end = \",\")\n",
    "            \n",
    "        if currentNode.right!=None:\n",
    "            print(\"R:\",end = '')\n",
    "            print(currentNode.right.data)\n",
    "            q.put(currentNode.right)\n",
    "        else:\n",
    "            print(\"R:\", end = \"\")\n",
    "            print(-1)\n",
    "    print()"
   ]
  },
  {
   "cell_type": "code",
   "execution_count": 11,
   "metadata": {},
   "outputs": [],
   "source": [
    "import queue\n",
    "def takeLevelWiseInput():\n",
    "    q = queue.Queue()\n",
    "    print('Enter Root')\n",
    "    rootData = int(input())\n",
    "    if rootData == -1:\n",
    "        return None\n",
    "    root = BinaryTreeNode(rootData)\n",
    "    q.put(root)\n",
    "    while (not(q.empty())):\n",
    "        currentNode = q.get()\n",
    "        print(\"Enter the left child of \", currentNode.data)\n",
    "        leftChildData = int(input())\n",
    "        if leftChildData !=-1:\n",
    "            leftChild = BinaryTreeNode(leftChildData)\n",
    "            currentNode.left = leftChild\n",
    "            q.put(leftChild)\n",
    "        \n",
    "        print(\"Enter the right child of \", currentNode.data)\n",
    "        rightChildData = int(input())\n",
    "        if rightChildData !=-1:\n",
    "            rightChild = BinaryTreeNode(rightChildData)\n",
    "            currentNode.right = rightChild\n",
    "            q.put(rightChild)\n",
    "    \n",
    "    return root"
   ]
  },
  {
   "cell_type": "markdown",
   "metadata": {},
   "source": [
    "## O(n^2) soln"
   ]
  },
  {
   "cell_type": "code",
   "execution_count": 12,
   "metadata": {},
   "outputs": [],
   "source": [
    "def minTree(root):\n",
    "    if root == None:\n",
    "        return 100000\n",
    "    leftMin = minTree(root.left)\n",
    "    rightMin = minTree(root.right)\n",
    "    return min(leftMin,rightMin,root.data)"
   ]
  },
  {
   "cell_type": "code",
   "execution_count": 17,
   "metadata": {},
   "outputs": [],
   "source": [
    "def maxTree(root):\n",
    "    if root == None:\n",
    "        return -100000\n",
    "    leftMax = maxTree(root.left)\n",
    "    rightMax = maxTree(root.right)\n",
    "    return max(leftMax,rightMax,root.data)"
   ]
  },
  {
   "cell_type": "code",
   "execution_count": 18,
   "metadata": {},
   "outputs": [],
   "source": [
    "def isBST1(root):\n",
    "    if root == None:\n",
    "        return True\n",
    "    leftMax = maxTree(root.left)\n",
    "    rightMIn = minTree(root.right)\n",
    "    if root.data > rightMIn or root.data<=leftMax:\n",
    "        return False\n",
    "    \n",
    "    \n",
    "    isLeftBST = isBST1(root.left)\n",
    "    isRightBST = isBST1(root.right)\n",
    "    \n",
    "    return isLeftBST and isRightBST"
   ]
  },
  {
   "cell_type": "code",
   "execution_count": 20,
   "metadata": {},
   "outputs": [
    {
     "name": "stdout",
     "output_type": "stream",
     "text": [
      "Enter Root\n",
      "4\n",
      "Enter the left child of  4\n",
      "2\n",
      "Enter the right child of  4\n",
      "6\n",
      "Enter the left child of  2\n",
      "1\n",
      "Enter the right child of  2\n",
      "10\n",
      "Enter the left child of  6\n",
      "5\n",
      "Enter the right child of  6\n",
      "7\n",
      "Enter the left child of  1\n",
      "-1\n",
      "Enter the right child of  1\n",
      "-1\n",
      "Enter the left child of  10\n",
      "-1\n",
      "Enter the right child of  10\n",
      "-1\n",
      "Enter the left child of  5\n",
      "-1\n",
      "Enter the right child of  5\n",
      "-1\n",
      "Enter the left child of  7\n",
      "-1\n",
      "Enter the right child of  7\n",
      "-1\n",
      "4:L:2,R:6\n",
      "2:L:1,R:10\n",
      "6:L:5,R:7\n",
      "1:L:-1,R:-1\n",
      "10:L:-1,R:-1\n",
      "5:L:-1,R:-1\n",
      "7:L:-1,R:-1\n",
      "\n",
      "False\n"
     ]
    }
   ],
   "source": [
    "root = takeLevelWiseInput()\n",
    "printTreeLevelWise(root)\n",
    "print(isBST1(root))"
   ]
  },
  {
   "cell_type": "markdown",
   "metadata": {},
   "source": [
    "# Optimized Soln O(n)"
   ]
  },
  {
   "cell_type": "code",
   "execution_count": 23,
   "metadata": {},
   "outputs": [],
   "source": [
    "def isBST2(root):\n",
    "    if root == None:\n",
    "        return 100000, -100000, True\n",
    "    leftMin, leftMax, isLeftBST = isBST2(root.left)\n",
    "    rightMin, rightMax, isRightBST = isBST2(root.right)\n",
    "    \n",
    "    minimum = min(leftMin,rightMin,root.data)\n",
    "    maximum = max(leftMax,rightMax,root.data)\n",
    "    isTreeBST = True\n",
    "    if root.data <=leftMax or root.data>rightMin:\n",
    "        isTreeBST = False\n",
    "    if not(isLeftBST) or not(isRightBST):\n",
    "        isTreeBST = False\n",
    "    \n",
    "    return minimum,maximum,isTreeBST"
   ]
  },
  {
   "cell_type": "code",
   "execution_count": 24,
   "metadata": {
    "scrolled": false
   },
   "outputs": [
    {
     "name": "stdout",
     "output_type": "stream",
     "text": [
      "Enter Root\n",
      "4\n",
      "Enter the left child of  4\n",
      "2\n",
      "Enter the right child of  4\n",
      "6\n",
      "Enter the left child of  2\n",
      "1\n",
      "Enter the right child of  2\n",
      "3\n",
      "Enter the left child of  6\n",
      "5\n",
      "Enter the right child of  6\n",
      "7\n",
      "Enter the left child of  1\n",
      "-1\n",
      "Enter the right child of  1\n",
      "-1\n",
      "Enter the left child of  3\n",
      "-1\n",
      "Enter the right child of  3\n",
      "-1\n",
      "Enter the left child of  5\n",
      "-1\n",
      "Enter the right child of  5\n",
      "-1\n",
      "Enter the left child of  7\n",
      "-1\n",
      "Enter the right child of  7\n",
      "-1\n",
      "4:L:2,R:6\n",
      "2:L:1,R:3\n",
      "6:L:5,R:7\n",
      "1:L:-1,R:-1\n",
      "3:L:-1,R:-1\n",
      "5:L:-1,R:-1\n",
      "7:L:-1,R:-1\n",
      "\n",
      "(1, 7, True)\n"
     ]
    }
   ],
   "source": [
    "root = takeLevelWiseInput()\n",
    "printTreeLevelWise(root)\n",
    "print(isBST2(root))"
   ]
  },
  {
   "cell_type": "markdown",
   "metadata": {},
   "source": [
    "## Another Soln"
   ]
  },
  {
   "cell_type": "code",
   "execution_count": 25,
   "metadata": {},
   "outputs": [],
   "source": [
    "def isBST3(root,min_range,max_range):\n",
    "    if root == None:\n",
    "        return True\n",
    "    if root.data < min_range or root.data > max_range:\n",
    "        return False\n",
    "    \n",
    "    isLeftWithinConstraints = isBST3(root.left, min_range,root.data - 1)\n",
    "    isRightWithinConstraints = isBST3(root.right, root.data - 1, max_range)\n",
    "    \n",
    "    return isLeftWithinConstraints and isRightWithinConstraints"
   ]
  },
  {
   "cell_type": "code",
   "execution_count": 26,
   "metadata": {},
   "outputs": [
    {
     "name": "stdout",
     "output_type": "stream",
     "text": [
      "Enter Root\n",
      "4\n",
      "Enter the left child of  4\n",
      "2\n",
      "Enter the right child of  4\n",
      "6\n",
      "Enter the left child of  2\n",
      "1\n",
      "Enter the right child of  2\n",
      "30\n",
      "Enter the left child of  6\n",
      "5\n",
      "Enter the right child of  6\n",
      "8\n",
      "Enter the left child of  1\n",
      "-1\n",
      "Enter the right child of  1\n",
      "-1\n",
      "Enter the left child of  30\n",
      "-1\n",
      "Enter the right child of  30\n",
      "-1\n",
      "Enter the left child of  5\n",
      "-1\n",
      "Enter the right child of  5\n",
      "-1\n",
      "Enter the left child of  8\n",
      "-1\n",
      "Enter the right child of  8\n",
      "-1\n",
      "4:L:2,R:6\n",
      "2:L:1,R:30\n",
      "6:L:5,R:8\n",
      "1:L:-1,R:-1\n",
      "30:L:-1,R:-1\n",
      "5:L:-1,R:-1\n",
      "8:L:-1,R:-1\n",
      "\n",
      "False\n"
     ]
    }
   ],
   "source": [
    "root = takeLevelWiseInput()\n",
    "printTreeLevelWise(root)\n",
    "print(isBST3(root,-100000,100000))"
   ]
  },
  {
   "cell_type": "code",
   "execution_count": null,
   "metadata": {},
   "outputs": [],
   "source": []
  }
 ],
 "metadata": {
  "kernelspec": {
   "display_name": "Python 3",
   "language": "python",
   "name": "python3"
  },
  "language_info": {
   "codemirror_mode": {
    "name": "ipython",
    "version": 3
   },
   "file_extension": ".py",
   "mimetype": "text/x-python",
   "name": "python",
   "nbconvert_exporter": "python",
   "pygments_lexer": "ipython3",
   "version": "3.8.3"
  }
 },
 "nbformat": 4,
 "nbformat_minor": 4
}
