{
 "metadata": {
  "language_info": {
   "codemirror_mode": {
    "name": "ipython",
    "version": 3
   },
   "file_extension": ".py",
   "mimetype": "text/x-python",
   "name": "python",
   "nbconvert_exporter": "python",
   "pygments_lexer": "ipython3",
   "version": "3.8.3-final"
  },
  "orig_nbformat": 2,
  "kernelspec": {
   "name": "python3",
   "display_name": "Python 3"
  }
 },
 "nbformat": 4,
 "nbformat_minor": 2,
 "cells": [
  {
   "cell_type": "code",
   "execution_count": 12,
   "metadata": {},
   "outputs": [
    {
     "output_type": "stream",
     "name": "stdout",
     "text": [
      "0 1 0 0 0 0 0 1 1 0 0 0 0 0 1 0 \n0 0 1 0 1 0 0 0 0 0 0 1 0 1 0 0 \n"
     ]
    }
   ],
   "source": [
    "def isSafe(row, col, board, n):\n",
    "    #vertical dirn\n",
    "\n",
    "    i = row-1\n",
    "    while i>=0:\n",
    "        if board[i][col] == 1:\n",
    "            return False\n",
    "        i-=1\n",
    "    \n",
    "    i = row-1\n",
    "    j = col-1\n",
    "    while i>=0 and j>=0:\n",
    "        if board[i][j] == 1:\n",
    "            return False\n",
    "        i-=1\n",
    "        j-=1\n",
    "\n",
    "\n",
    "    i = row-1\n",
    "    j = col+1\n",
    "    while i>=0 and j<n:\n",
    "        if board[i][j] == 1:\n",
    "            return False\n",
    "        i-=1\n",
    "        j+=1\n",
    "    \n",
    "    return True\n",
    "\n",
    "def printPathsHelper(row, n, board):\n",
    "\n",
    "    if row == n:\n",
    "        for i in range(n):\n",
    "            for j in range(n):\n",
    "                print(board[i][j], end = ' ')\n",
    "        print()\n",
    "        return\n",
    "    for col in range(n):\n",
    "        if isSafe(row, col, board, n):\n",
    "            board[row][col] = 1\n",
    "            printPathsHelper(row+1, n , board)\n",
    "            board[row][col] = 0\n",
    "    return\n",
    "\n",
    "def printPaths(n):\n",
    "    board = [[0 for j in range(n)] for i in range(n)]\n",
    "    printPathsHelper(0,n,board)\n",
    "n = int(input())\n",
    "printPaths(n)"
   ]
  },
  {
   "source": [
    "## My Code\n"
   ],
   "cell_type": "markdown",
   "metadata": {}
  },
  {
   "cell_type": "code",
   "execution_count": 4,
   "metadata": {
    "tags": []
   },
   "outputs": [
    {
     "output_type": "stream",
     "name": "stdout",
     "text": [
      "1 0 0 0 0 0 0 1 0 0 0 0 0 0 1 0 1 0 0 0 0 0 0 1 0 \n1 0 0 0 0 0 0 0 1 0 0 1 0 0 0 0 0 0 0 1 0 0 1 0 0 \n0 1 0 0 0 0 0 0 1 0 1 0 0 0 0 0 0 1 0 0 0 0 0 0 1 \n0 1 0 0 0 0 0 0 0 1 0 0 1 0 0 1 0 0 0 0 0 0 0 1 0 \n0 0 1 0 0 1 0 0 0 0 0 0 0 1 0 0 1 0 0 0 0 0 0 0 1 \n0 0 1 0 0 0 0 0 0 1 0 1 0 0 0 0 0 0 1 0 1 0 0 0 0 \n0 0 0 1 0 1 0 0 0 0 0 0 1 0 0 0 0 0 0 1 0 1 0 0 0 \n0 0 0 1 0 0 1 0 0 0 0 0 0 0 1 0 0 1 0 0 1 0 0 0 0 \n0 0 0 0 1 0 1 0 0 0 0 0 0 1 0 1 0 0 0 0 0 0 1 0 0 \n0 0 0 0 1 0 0 1 0 0 1 0 0 0 0 0 0 0 1 0 0 1 0 0 0 \n"
     ]
    }
   ],
   "source": [
    "def isSafe(row, cols, board, n):\n",
    "    # Vertical direction check\n",
    "\n",
    "    i = row-1   # Since we just need to check above the current pos\n",
    "    while i>=0:\n",
    "        if board[i][cols] == 1:\n",
    "            return False\n",
    "\n",
    "        i-=1\n",
    "\n",
    "    # For Upper Left Diagonal\n",
    "    i = row-1\n",
    "    j = cols-1\n",
    "\n",
    "    while i>=0 and j>=0:\n",
    "        if board[i][j] == 1:\n",
    "            return False\n",
    "        \n",
    "        i-=1\n",
    "        j-=1  \n",
    "    \n",
    "\n",
    "    #For upper right diagonal\n",
    "\n",
    "    i = row-1\n",
    "    j = cols+1\n",
    "\n",
    "    while i>=0 and j<=n-1:\n",
    "        if board[i][j] == 1:\n",
    "            return False\n",
    "        i-=1\n",
    "        j+=1\n",
    "\n",
    "    \n",
    "    return True\n",
    "\n",
    "\n",
    "\n",
    "def printPathsHelper(row, n, board):\n",
    "    if row == n:\n",
    "        for i in range(n):\n",
    "            for j in range(n):\n",
    "                print(board[i][j], end = ' ')\n",
    "        print()\n",
    "        return\n",
    "    \n",
    "    for cols in range(n):\n",
    "        if isSafe(row, cols, board, n):\n",
    "            board[row][cols] = 1\n",
    "            printPathsHelper(row+1, n, board)\n",
    "            board[row][cols] = 0\n",
    "    return\n",
    "\n",
    "\n",
    "\n",
    "\n",
    "def printPaths(n):\n",
    "    board = [[0 for j in range(n)] for i in range(n)]\n",
    "    printPathsHelper(0,n,board)\n",
    "n = int(input())\n",
    "printPaths(n)"
   ]
  },
  {
   "source": [
    "### By my own"
   ],
   "cell_type": "markdown",
   "metadata": {}
  },
  {
   "cell_type": "code",
   "execution_count": 7,
   "metadata": {},
   "outputs": [
    {
     "output_type": "stream",
     "name": "stdout",
     "text": [
      "0 1 0 0 0 0 0 1 1 0 0 0 0 0 1 0 \n0 0 1 0 1 0 0 0 0 0 0 1 0 1 0 0 \n"
     ]
    }
   ],
   "source": [
    "def isSafe(row, cols, board, n):\n",
    "\n",
    "    # Vertical Dirn\n",
    "\n",
    "    i = row-1\n",
    "\n",
    "    while i>=0:\n",
    "        if board[i][cols] == 1:\n",
    "            return False\n",
    "        i-=1\n",
    "    \n",
    "    # Upper Left Diag\n",
    "\n",
    "    i = row-1\n",
    "    j = cols-1\n",
    "\n",
    "    while i>=0 and j >=0:\n",
    "        if board[i][j] == 1:\n",
    "            return False\n",
    "        i-=1\n",
    "        j-=1\n",
    "\n",
    "    \n",
    "    # Upper Right Diag\n",
    "\n",
    "    i = row-1\n",
    "    j = cols+1\n",
    "    \n",
    "    while i>=0 and j<n:\n",
    "        if board[i][j] == 1:\n",
    "            return False\n",
    "        i-=1\n",
    "        j+=1\n",
    "\n",
    "    return True\n",
    "\n",
    "\n",
    "\n",
    "def printPathsHelper(row, board, n):\n",
    "    if row == n:\n",
    "        for i in range(n):\n",
    "            for j in range(n):\n",
    "                print(board[i][j], end = ' ')\n",
    "        print()\n",
    "\n",
    "    for cols in range(n):\n",
    "        \n",
    "        if isSafe(row, cols, board, n):\n",
    "            board[row][cols] = 1\n",
    "            printPathsHelper(row+1, board, n)\n",
    "            board[row][cols] = 0\n",
    "        \n",
    "    return\n",
    "\n",
    "def printPaths(n):\n",
    "    board = [[0 for j in range(n)] for i in range(n)]\n",
    "    printPathsHelper(0, board, n)\n",
    "\n",
    "\n",
    "\n",
    "n = int(input())\n",
    "printPaths(n)\n"
   ]
  },
  {
   "cell_type": "code",
   "execution_count": null,
   "metadata": {},
   "outputs": [],
   "source": []
  }
 ]
}