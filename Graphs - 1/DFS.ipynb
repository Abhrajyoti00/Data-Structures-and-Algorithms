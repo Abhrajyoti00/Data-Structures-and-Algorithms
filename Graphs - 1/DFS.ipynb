{
 "metadata": {
  "language_info": {
   "codemirror_mode": {
    "name": "ipython",
    "version": 3
   },
   "file_extension": ".py",
   "mimetype": "text/x-python",
   "name": "python",
   "nbconvert_exporter": "python",
   "pygments_lexer": "ipython3",
   "version": "3.8.3-final"
  },
  "orig_nbformat": 2,
  "kernelspec": {
   "name": "python3",
   "display_name": "Python 3",
   "language": "python"
  }
 },
 "nbformat": 4,
 "nbformat_minor": 2,
 "cells": [
  {
   "cell_type": "code",
   "execution_count": null,
   "metadata": {},
   "outputs": [],
   "source": [
    "def _dfsHelper(self, sv, visited):\n",
    "    print(sv)\n",
    "    visited[sv] = True\n",
    "\n",
    "    for i in range(self.nVertices):\n",
    "        if self.adjMatrix[sv][i] > 0 and visited[i] is False:  # Not visited and edge is present:\n",
    "            _dfsHelper(i, visited)\n",
    "\n",
    "def dfs(self):\n",
    "    visited = [False for i in range(self.nVertices)]\n",
    "    _dfsHelper(0,visited)"
   ]
  },
  {
   "source": [
    "# Integrating everything"
   ],
   "cell_type": "markdown",
   "metadata": {}
  },
  {
   "cell_type": "code",
   "execution_count": 1,
   "metadata": {},
   "outputs": [
    {
     "output_type": "stream",
     "name": "stdout",
     "text": [
      "0\n1\n4\n6\n5\n3\n7\n2\n8\n"
     ]
    }
   ],
   "source": [
    "class Graph:\n",
    "    def __init__(self, nVertices):\n",
    "        self.nVertices = nVertices\n",
    "        self.adjMatrix = [[0 for j in range(nVertices)] for i in range(nVertices)]\n",
    "\n",
    "    def addEdge(self, v1,v2):\n",
    "    \n",
    "        self.adjMatrix[v1][v2] = 1\n",
    "        self.adjMatrix[v2][v1] = 1\n",
    "    \n",
    "    def removeEdge(self, v1, v2):\n",
    "        if self.containsEdge(v1,v2) is False:\n",
    "            return\n",
    "        self.adjMatrix[v1][v2] = 0\n",
    "        self.adjMatrix[v2][v1] = 0\n",
    "\n",
    "    def containsEdge(self, v1, v2):\n",
    "        return True if self.adjMatrix[v1][v2]>0 and self.adjMatrix[v2][v1] > 0 else False\n",
    "\n",
    "    def __str__(self):\n",
    "        return str(self.adjMatrix)\n",
    "\n",
    "\n",
    "    def __dfsHelper(self, sv, visited):\n",
    "        print(sv)\n",
    "        visited[sv] = True\n",
    "\n",
    "        for i in range(self.nVertices):\n",
    "            if self.adjMatrix[sv][i] > 0 and visited[i] is False:  # Not visited and edge is present:\n",
    "                self.__dfsHelper(i, visited)\n",
    "\n",
    "    def dfs(self):\n",
    "        visited = [False for i in range(self.nVertices)]\n",
    "        for i in range(self.nVertices):\n",
    "            if visited[i] is False:\n",
    "                self.__dfsHelper(i,visited)    # This will work for both conneccted and disconnected graphs\n",
    "\n",
    "g = Graph(9)\n",
    "g.addEdge(0,3)\n",
    "g.addEdge(0,1)\n",
    "g.addEdge(0,2)\n",
    "g.addEdge(3,5)\n",
    "g.addEdge(1,4)\n",
    "g.addEdge(2,7)\n",
    "g.addEdge(2,8)\n",
    "g.addEdge(4,7)\n",
    "g.addEdge(4,6)\n",
    "g.addEdge(5,6)\n",
    "g.dfs()"
   ]
  },
  {
   "cell_type": "code",
   "execution_count": null,
   "metadata": {},
   "outputs": [],
   "source": []
  }
 ]
}