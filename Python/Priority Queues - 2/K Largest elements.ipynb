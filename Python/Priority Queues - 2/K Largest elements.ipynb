{
 "metadata": {
  "language_info": {
   "codemirror_mode": {
    "name": "ipython",
    "version": 3
   },
   "file_extension": ".py",
   "mimetype": "text/x-python",
   "name": "python",
   "nbconvert_exporter": "python",
   "pygments_lexer": "ipython3",
   "version": "3.8.3-final"
  },
  "orig_nbformat": 2,
  "kernelspec": {
   "name": "python3",
   "display_name": "Python 3"
  }
 },
 "nbformat": 4,
 "nbformat_minor": 2,
 "cells": [
  {
   "source": [
    "### Similar approach of k largest elements"
   ],
   "cell_type": "markdown",
   "metadata": {}
  },
  {
   "cell_type": "code",
   "execution_count": 1,
   "metadata": {},
   "outputs": [
    {
     "output_type": "stream",
     "name": "stdout",
     "text": [
      "12\n16\n20\n25\n"
     ]
    }
   ],
   "source": [
    "\n",
    "import heapq\n",
    "def kLargest(arr, k):\n",
    "    arr1 = arr[:k]\n",
    "    heapq.heapify(arr1)\n",
    "    for ele in arr[k:]:\n",
    "        if ele>arr1[0]:\n",
    "            heapq.heapreplace(arr1,ele)\n",
    "    return arr1\n",
    "\n",
    "# Main\n",
    "n=int(input())\n",
    "lst=list(int(i) for i in input().strip().split(' '))\n",
    "k=int(input())\n",
    "ans=kLargest(lst, k)\n",
    "for ele in ans:\n",
    "    print(ele)"
   ]
  }
 ]
}