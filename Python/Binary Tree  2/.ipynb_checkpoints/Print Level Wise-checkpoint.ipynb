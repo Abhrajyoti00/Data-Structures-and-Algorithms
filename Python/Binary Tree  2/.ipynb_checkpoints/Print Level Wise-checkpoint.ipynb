{
 "cells": [
  {
   "cell_type": "code",
   "execution_count": 1,
   "metadata": {},
   "outputs": [],
   "source": [
    "import queue\n",
    "def printTreeLevelWise(root):\n",
    "    q = queue.Queue()\n",
    "    if root == None:\n",
    "        return\n",
    "    q.put(root)\n",
    "    \n",
    "    while (not(q.empty())):\n",
    "        currentNode = q.get()\n",
    "        print(currentNode.data, end = ':')\n",
    "        \n",
    "        if currentNode.left!=None:\n",
    "            print(\"L:\",end = '')\n",
    "            print(currentNode.left.data, end = ',')\n",
    "            q.put(currentNode.left)\n",
    "        else:\n",
    "            print(\"L:\", end = \"\")\n",
    "            print(-1, end = \",\")\n",
    "            \n",
    "        if currentNode.right!=None:\n",
    "            print(\"R:\",end = '')\n",
    "            print(currentNode.right.data)\n",
    "            q.put(currentNode.right)\n",
    "        else:\n",
    "            print(\"R:\", end = \"\")\n",
    "            print(-1)\n",
    "    print()"
   ]
  },
  {
   "cell_type": "code",
   "execution_count": null,
   "metadata": {},
   "outputs": [],
   "source": []
  }
 ],
 "metadata": {
  "kernelspec": {
   "display_name": "Python 3",
   "language": "python",
   "name": "python3"
  },
  "language_info": {
   "codemirror_mode": {
    "name": "ipython",
    "version": 3
   },
   "file_extension": ".py",
   "mimetype": "text/x-python",
   "name": "python",
   "nbconvert_exporter": "python",
   "pygments_lexer": "ipython3",
   "version": "3.8.3"
  }
 },
 "nbformat": 4,
 "nbformat_minor": 4
}
