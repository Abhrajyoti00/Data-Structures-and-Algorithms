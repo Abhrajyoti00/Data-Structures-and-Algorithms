{
 "metadata": {
  "language_info": {
   "codemirror_mode": {
    "name": "ipython",
    "version": 3
   },
   "file_extension": ".py",
   "mimetype": "text/x-python",
   "name": "python",
   "nbconvert_exporter": "python",
   "pygments_lexer": "ipython3",
   "version": 3
  },
  "orig_nbformat": 2
 },
 "nbformat": 4,
 "nbformat_minor": 2,
 "cells": [
  {
   "source": [
    "# Removal from Min Heap "
   ],
   "cell_type": "markdown",
   "metadata": {}
  },
  {
   "source": [
    "First find the smallest element (top element basically) -- O(1)"
   ],
   "cell_type": "markdown",
   "metadata": {}
  },
  {
   "source": [
    "Next swap that element with the last element(say x), and no need store the min element.\n",
    "\n",
    "Now our tree has CBT property but not heap property"
   ],
   "cell_type": "markdown",
   "metadata": {}
  },
  {
   "source": [
    "Continue swapping this last element (x) with other elements, in this process :-\n",
    "\n",
    "\n",
    "compare x with its children, whoever is the minimum, goes up (i.e.) in place of x and x occupies it position."
   ],
   "cell_type": "markdown",
   "metadata": {}
  },
  {
   "source": [
    "At last we will have a stable Min Heap\n",
    "\n",
    "\n",
    "It will takke O(h) (h = height = log n )"
   ],
   "cell_type": "markdown",
   "metadata": {}
  },
  {
   "source": [
    "### Insertion is called Up-heap or Percolate up incase of min heap as we always travel up...\n",
    "\n",
    "\n",
    "While inserting, we will make sure oto follow all the steps aboive, if at any time there is a problem, swapping will be done to ensure that the CBT property and the heap property stays well.\n",
    "\n",
    "\n",
    ":)\n"
   ],
   "cell_type": "markdown",
   "metadata": {}
  },
  {
   "source": [
    "### Deletion is called Down-heapify or percolate-down"
   ],
   "cell_type": "markdown",
   "metadata": {}
  },
  {
   "source": [
    "## Question \n",
    "### Re-heap After Removal\n",
    "\n",
    "An operator delete(i) for a binary heap data structure is to be designed to delete the item in the i-th node. Assume that the heap is implemented in an array and i refers to the i-th index of the array. If the heap tree has depth d (number of edges on the path from the root to the farthest leaf), then what is the time complexity to re-fix the heap efficiently after the removal of the element?\n",
    "\n",
    "\n",
    "\n",
    "\n"
   ],
   "cell_type": "markdown",
   "metadata": {}
  },
  {
   "source": [
    "### Answer : O(d) but not O(1)"
   ],
   "cell_type": "markdown",
   "metadata": {}
  }
 ]
}