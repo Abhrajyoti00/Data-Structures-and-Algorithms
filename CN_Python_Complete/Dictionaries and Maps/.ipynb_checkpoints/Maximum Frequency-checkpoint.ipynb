{
 "cells": [
  {
   "cell_type": "code",
   "execution_count": 37,
   "metadata": {},
   "outputs": [
    {
     "name": "stdout",
     "output_type": "stream",
     "text": [
      "10\n",
      "675 28 -429 -290 444 -949 992 -850 280 810\n",
      "675\n"
     ]
    }
   ],
   "source": [
    "def maxFreq(l):\n",
    "    d = {}\n",
    "    for num in l:\n",
    "        d[num] = d.get(num,0)+1\n",
    "#     print(d)\n",
    "    mf = max(d.values())\n",
    "#     print(\"Maximum freq is \", mf )\n",
    "    p = []\n",
    "    for _ in d:\n",
    "        if d[_] == mf:\n",
    "            p.append(_)\n",
    "    for num in l:\n",
    "        if num in p:\n",
    "            return(num)\n",
    "# Main\n",
    "n=int(input())\n",
    "l=list(int(i) for i in input().strip().split(' '))\n",
    "print(maxFreq(l))"
   ]
  },
  {
   "cell_type": "code",
   "execution_count": 2,
   "metadata": {},
   "outputs": [
    {
     "name": "stdout",
     "output_type": "stream",
     "text": [
      "I am a boy\n"
     ]
    },
    {
     "data": {
      "text/plain": [
       "['I', 'am', 'a', 'boy']"
      ]
     },
     "execution_count": 2,
     "metadata": {},
     "output_type": "execute_result"
    }
   ],
   "source": [
    "words = list(input().split())\n",
    "words"
   ]
  },
  {
   "cell_type": "code",
   "execution_count": 33,
   "metadata": {},
   "outputs": [
    {
     "name": "stdout",
     "output_type": "stream",
     "text": [
      "675 28 -429 -290 444 -949 992 -850 280 810\n"
     ]
    },
    {
     "data": {
      "text/plain": [
       "[675, 28, -429, -290, 444, -949, 992, -850, 280, 810]"
      ]
     },
     "execution_count": 33,
     "metadata": {},
     "output_type": "execute_result"
    }
   ],
   "source": [
    "l = list(map(int,input().split()))\n",
    "l"
   ]
  },
  {
   "cell_type": "code",
   "execution_count": 34,
   "metadata": {},
   "outputs": [
    {
     "name": "stdout",
     "output_type": "stream",
     "text": [
      "{675: 1, 28: 1, -429: 1, -290: 1, 444: 1, -949: 1, 992: 1, -850: 1, 280: 1, 810: 1}\n",
      "Maximum freq is  1\n"
     ]
    }
   ],
   "source": [
    "d = {}\n",
    "for num in l:\n",
    "    d[num] = d.get(num,0)+1\n",
    "print(d)\n",
    "mf = max(d.values())\n",
    "print(\"Maximum freq is \", mf )"
   ]
  },
  {
   "cell_type": "code",
   "execution_count": 35,
   "metadata": {},
   "outputs": [
    {
     "name": "stdout",
     "output_type": "stream",
     "text": [
      "[675, 28, -429, -290, 444, -949, 992, -850, 280, 810]\n"
     ]
    }
   ],
   "source": [
    "p = []\n",
    "for _ in d:\n",
    "    if d[_] == mf:\n",
    "        p.append(_)\n",
    "print(p)"
   ]
  },
  {
   "cell_type": "code",
   "execution_count": 36,
   "metadata": {},
   "outputs": [
    {
     "name": "stdout",
     "output_type": "stream",
     "text": [
      "[675, 28, -429, -290, 444, -949, 992, -850, 280, 810]\n"
     ]
    }
   ],
   "source": [
    "print(l)"
   ]
  },
  {
   "cell_type": "code",
   "execution_count": null,
   "metadata": {},
   "outputs": [],
   "source": []
  }
 ],
 "metadata": {
  "kernelspec": {
   "display_name": "Python 3",
   "language": "python",
   "name": "python3"
  },
  "language_info": {
   "codemirror_mode": {
    "name": "ipython",
    "version": 3
   },
   "file_extension": ".py",
   "mimetype": "text/x-python",
   "name": "python",
   "nbconvert_exporter": "python",
   "pygments_lexer": "ipython3",
   "version": "3.8.3"
  }
 },
 "nbformat": 4,
 "nbformat_minor": 4
}
