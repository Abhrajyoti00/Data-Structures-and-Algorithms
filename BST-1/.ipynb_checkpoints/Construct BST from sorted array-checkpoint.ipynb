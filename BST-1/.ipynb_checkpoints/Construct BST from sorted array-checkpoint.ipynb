{
 "cells": [
  {
   "cell_type": "code",
   "execution_count": 4,
   "metadata": {},
   "outputs": [
    {
     "name": "stdout",
     "output_type": "stream",
     "text": [
      "7\n",
      "1 2 3 4 5 6 7\n",
      "4 2 1 3 6 5 7 "
     ]
    }
   ],
   "source": [
    "import queue\n",
    "class BinaryTreeNode:\n",
    "    def __init__(self, data):\n",
    "        self.data = data\n",
    "        self.left = None\n",
    "        self.right = None\n",
    "\n",
    "def constructBST(arr):\n",
    "    # Given a sorted integer array A of size n which contains all unique\n",
    "    # elements. You need to construct a balanced BST from this input array.\n",
    "    # Return the root of constructed BST. If array size is even, take first mid\n",
    "    # as root.\n",
    "    #############################\n",
    "    # PLEASE ADD YOUR CODE HERE #\n",
    "    #############################\\\n",
    "    if not arr:\n",
    "        return None\n",
    "    if len(arr)%2==0:\n",
    "        mid = len(arr)//2 - 1\n",
    "    elif len(arr)%2 == 1:\n",
    "        mid = len(arr)//2\n",
    "    # mid = len(arr)//2\n",
    "    rootData = arr[mid]\n",
    "    root = BinaryTreeNode(rootData)\n",
    "    \n",
    "    \n",
    "    lst = constructBST(arr[:mid])\n",
    "    rst = constructBST(arr[mid+1:])\n",
    "    root.left = lst\n",
    "    root.right = rst\n",
    "    return root\n",
    "\n",
    "def preOrder(root):\n",
    "    # Given a binary tree, print the preorder traversal of given tree. Pre-order\n",
    "    # traversal is: Root LeftChild RightChild\n",
    "    if root==None:\n",
    "        return\n",
    "    print(root.data, end=' ')\n",
    "    preOrder(root.left)\n",
    "    preOrder(root.right)\n",
    "\n",
    "# Main\n",
    "n=int(input())\n",
    "lst=[int(i) for i in input().strip().split()]\n",
    "root=constructBST(lst)\n",
    "preOrder(root)\n"
   ]
  },
  {
   "cell_type": "code",
   "execution_count": null,
   "metadata": {},
   "outputs": [],
   "source": []
  }
 ],
 "metadata": {
  "kernelspec": {
   "display_name": "Python 3",
   "language": "python",
   "name": "python3"
  },
  "language_info": {
   "codemirror_mode": {
    "name": "ipython",
    "version": 3
   },
   "file_extension": ".py",
   "mimetype": "text/x-python",
   "name": "python",
   "nbconvert_exporter": "python",
   "pygments_lexer": "ipython3",
   "version": "3.8.3"
  }
 },
 "nbformat": 4,
 "nbformat_minor": 4
}
