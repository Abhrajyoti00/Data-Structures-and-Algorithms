{
 "cells": [
  {
   "cell_type": "code",
   "execution_count": null,
   "metadata": {},
   "outputs": [],
   "source": [
    "import random\n",
    "\n",
    "def start_game():\n",
    "    mat = []\n",
    "    for i in range(4):\n",
    "        mat.append([0]*4)\n",
    "    return mat\n",
    "\n",
    "def add_new_2(mat):\n",
    "    r = random.randint(0,3)\n",
    "    c = random.randint(0,3)\n",
    "    while(mat[r][c] != 0):\n",
    "        r = random.randint(0,3)\n",
    "        c = random.randint(0,3)\n",
    "    mat[r][c] = 2"
   ]
  }
 ],
 "metadata": {
  "kernelspec": {
   "display_name": "Python 3",
   "language": "python",
   "name": "python3"
  },
  "language_info": {
   "codemirror_mode": {
    "name": "ipython",
    "version": 3
   },
   "file_extension": ".py",
   "mimetype": "text/x-python",
   "name": "python",
   "nbconvert_exporter": "python",
   "pygments_lexer": "ipython3",
   "version": "3.8.3"
  }
 },
 "nbformat": 4,
 "nbformat_minor": 4
}
