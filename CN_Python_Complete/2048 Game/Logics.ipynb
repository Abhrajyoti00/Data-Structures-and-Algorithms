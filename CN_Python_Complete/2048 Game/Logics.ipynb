{
 "cells": [
  {
   "cell_type": "code",
   "execution_count": null,
   "metadata": {},
   "outputs": [],
   "source": [
    "import random\n",
    "\n",
    "def start_game():\n",
    "    mat = []\n",
    "    for i in range(4):\n",
    "        mat.append([0]*4)\n",
    "    return mat\n",
    "\n",
    "def add_new_2(mat):\n",
    "    r = random.randint(0,3)\n",
    "    c = random.randint(0,3)\n",
    "    while(mat[r][c] != 0):\n",
    "        r = random.randint(0,3)\n",
    "        c = random.randint(0,3)\n",
    "    mat[r][c] = 2\n",
    "    \n",
    "def get_current_state(mat):\n",
    "    \n",
    "    #Winning Condition\n",
    "    \n",
    "    #Anywhere 2048 is present\n",
    "    for i in range(4):\n",
    "        for j in range(4):\n",
    "            if mat[i][j] == 2048:\n",
    "                return 'WON'\n",
    "    \n",
    "    \n",
    "    #Game Unfinished Conditions\n",
    "    \n",
    "    #Anywhere 0 is present\n",
    "    for i in range(4):\n",
    "        for j in range(4):\n",
    "            if mat[i][j] == 0:\n",
    "                return 'GAME NOT OVER'\n",
    "    \n",
    "    #Every row and column except last row and last column\n",
    "    for i in range(3):\n",
    "        for j in range(3):\n",
    "            if (mat[i][j+1] == mat[i][j] or mat[i+1][j] == mat[i][j]):\n",
    "                return 'GAME NOT OVER'\n",
    "    \n",
    "    #Last Row  \n",
    "    for j in range(3):\n",
    "        if (mat[3][j+1] == mat[3][j]):\n",
    "            return 'GAME NOT OVER'\n",
    "        \n",
    "    #Last Column\n",
    "    for i in range(3):\n",
    "        if (mat[i][3] == mat[i+1][3]):\n",
    "            return 'GAME NOT OVER'\n",
    "        \n",
    "    return 'LOST'\n",
    "    \n",
    "        "
   ]
  }
 ],
 "metadata": {
  "kernelspec": {
   "display_name": "Python 3",
   "language": "python",
   "name": "python3"
  },
  "language_info": {
   "codemirror_mode": {
    "name": "ipython",
    "version": 3
   },
   "file_extension": ".py",
   "mimetype": "text/x-python",
   "name": "python",
   "nbconvert_exporter": "python",
   "pygments_lexer": "ipython3",
   "version": "3.8.3"
  }
 },
 "nbformat": 4,
 "nbformat_minor": 4
}
