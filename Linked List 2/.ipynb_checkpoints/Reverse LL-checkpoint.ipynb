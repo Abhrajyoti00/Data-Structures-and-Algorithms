{
 "cells": [
  {
   "cell_type": "code",
   "execution_count": null,
   "metadata": {},
   "outputs": [],
   "source": [
    "class Node:\n",
    "    def __init__(self,data):\n",
    "        self.data = data\n",
    "        self.next = None\n",
    "def printLL(head):\n",
    "    while head is not None:\n",
    "        print(str(head.data)+\"->\",end = '')\n",
    "        head = head.next\n",
    "    print(\"None\")\n",
    "    return\n",
    "def reverse1(head,tail):\n",
    "    smallhead = reverse(head.next)\n",
    "    curr \n",
    "    while smallhead.next is not None:\n",
    "        smallhead = smallhead.next\n",
    "    tail.next = head\n",
    "    head.next = None\n",
    "    return\n",
    "    \n",
    "    \n",
    "    reverse(head.next)\n",
    "def takeInput():\n",
    "    inputList = list(map(int,input().split()))\n",
    "    head = None\n",
    "    tail = None\n",
    "    for currData in inputList:\n",
    "        if currData == -1:\n",
    "            break\n",
    "        newNode = Node(currData)\n",
    "        if head is None:\n",
    "            head = newNode\n",
    "            tail = head\n",
    "        else:\n",
    "            tail.next = newNode\n",
    "            tail = newNode\n",
    "    return head,tail\n",
    "\n",
    "head,tail = takeInput()\n",
    "printLL(head)\n",
    "reverse1(head,tail)\n",
    "printLL(head)"
   ]
  }
 ],
 "metadata": {
  "kernelspec": {
   "display_name": "Python 3",
   "language": "python",
   "name": "python3"
  },
  "language_info": {
   "codemirror_mode": {
    "name": "ipython",
    "version": 3
   },
   "file_extension": ".py",
   "mimetype": "text/x-python",
   "name": "python",
   "nbconvert_exporter": "python",
   "pygments_lexer": "ipython3",
   "version": "3.8.3"
  }
 },
 "nbformat": 4,
 "nbformat_minor": 4
}
