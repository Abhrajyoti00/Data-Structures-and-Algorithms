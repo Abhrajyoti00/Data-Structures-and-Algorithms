{
 "cells": [
  {
   "cell_type": "code",
   "execution_count": 40,
   "metadata": {},
   "outputs": [
    {
     "name": "stdout",
     "output_type": "stream",
     "text": [
      "5\n",
      "2 1 -2 2 3\n",
      "-2   2\n",
      "-2   2\n"
     ]
    }
   ],
   "source": [
    "def pairSum0(l):\n",
    "    s = 0\n",
    "    d = {}\n",
    "    for num in l:\n",
    "        if -num in d:\n",
    "            for count in range(d[-num]):\n",
    "                if (s-num)<0:\n",
    "                    print((s-num), ' ', num)\n",
    "                else:\n",
    "                    print(num, \" \", (s-num))\n",
    "            d[num]= d.get(num,0)+1\n",
    "        else:\n",
    "            d[num]= d.get(num,0)+1\n",
    "n=int(input())\n",
    "l=list(int(i) for i in input().strip().split(' '))\n",
    "pairSum0(l)\n"
   ]
  },
  {
   "cell_type": "code",
   "execution_count": 43,
   "metadata": {},
   "outputs": [
    {
     "name": "stdout",
     "output_type": "stream",
     "text": [
      "-2 2 6 -2 2 -6 3\n"
     ]
    }
   ],
   "source": [
    "l=list(int(i) for i in input().strip().split(' '))"
   ]
  },
  {
   "cell_type": "code",
   "execution_count": 10,
   "metadata": {},
   "outputs": [
    {
     "name": "stdout",
     "output_type": "stream",
     "text": [
      "-2   2\n",
      "-2   2\n",
      "-2   2\n"
     ]
    }
   ],
   "source": [
    "s = 0\n",
    "# l.sort()\n",
    "for num in l:\n",
    "    if  (s-num) in l:\n",
    "        if (s-num)<0:\n",
    "            print((s-num), ' ', num)\n",
    "        else:\n",
    "            print(num, \" \", (s-num))\n",
    "    "
   ]
  },
  {
   "cell_type": "code",
   "execution_count": null,
   "metadata": {},
   "outputs": [],
   "source": []
  },
  {
   "cell_type": "code",
   "execution_count": 13,
   "metadata": {},
   "outputs": [
    {
     "ename": "IndentationError",
     "evalue": "expected an indented block (<ipython-input-13-fe7b2be22600>, line 5)",
     "output_type": "error",
     "traceback": [
      "\u001b[1;36m  File \u001b[1;32m\"<ipython-input-13-fe7b2be22600>\"\u001b[1;36m, line \u001b[1;32m5\u001b[0m\n\u001b[1;33m    n=int(input())\u001b[0m\n\u001b[1;37m    ^\u001b[0m\n\u001b[1;31mIndentationError\u001b[0m\u001b[1;31m:\u001b[0m expected an indented block\n"
     ]
    }
   ],
   "source": [
    "def pairSum0(l):\n",
    "#Implement Your Code Here\n",
    "\n",
    "\n",
    "n=int(input())\n",
    "l=list(int(i) for i in input().strip().split(' '))\n",
    "pairSum0(l)"
   ]
  },
  {
   "cell_type": "code",
   "execution_count": 47,
   "metadata": {},
   "outputs": [
    {
     "name": "stdout",
     "output_type": "stream",
     "text": [
      "-2   2\n",
      "-2   2\n",
      "-2   2\n",
      "-2   2\n",
      "-6   6\n"
     ]
    }
   ],
   "source": [
    "s = 0\n",
    "d = {}\n",
    "for num in l:\n",
    "    if -num in d:\n",
    "        for count in range(d[-num]):\n",
    "            if (s-num)<=0:\n",
    "                print((s-num), ' ', num)\n",
    "            else:\n",
    "                print(num, \" \", (s-num))\n",
    "        d[num]= d.get(num,0)+1\n",
    "    else:\n",
    "        d[num] = 1"
   ]
  },
  {
   "cell_type": "code",
   "execution_count": null,
   "metadata": {},
   "outputs": [],
   "source": []
  }
 ],
 "metadata": {
  "kernelspec": {
   "display_name": "Python 3",
   "language": "python",
   "name": "python3"
  },
  "language_info": {
   "codemirror_mode": {
    "name": "ipython",
    "version": 3
   },
   "file_extension": ".py",
   "mimetype": "text/x-python",
   "name": "python",
   "nbconvert_exporter": "python",
   "pygments_lexer": "ipython3",
   "version": "3.8.3"
  }
 },
 "nbformat": 4,
 "nbformat_minor": 4
}
